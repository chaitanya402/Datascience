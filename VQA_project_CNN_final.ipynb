{
  "cells": [
    {
      "cell_type": "markdown",
      "metadata": {
        "id": "view-in-github",
        "colab_type": "text"
      },
      "source": [
        "<a href=\"https://colab.research.google.com/github/chaitanya402/Datascience/blob/main/VQA_project_CNN_final.ipynb\" target=\"_parent\"><img src=\"https://colab.research.google.com/assets/colab-badge.svg\" alt=\"Open In Colab\"/></a>"
      ]
    },
    {
      "cell_type": "code",
      "execution_count": null,
      "id": "3c52ba2f-4d86-42da-ab83-5c9b7fa0ccda",
      "metadata": {
        "id": "3c52ba2f-4d86-42da-ab83-5c9b7fa0ccda"
      },
      "outputs": [],
      "source": [
        "# !pip install numpy\n",
        "# # !pip install\n",
        "# !pip install matplotlib\n",
        "# !pip install scikit-learn\n",
        "# !pip install tensorflow"
      ]
    },
    {
      "cell_type": "code",
      "execution_count": null,
      "id": "f3697cbd-d1c4-4ea9-828b-eaf2455458f5",
      "metadata": {
        "id": "f3697cbd-d1c4-4ea9-828b-eaf2455458f5",
        "outputId": "646c7077-b563-40b9-9556-b898fc54df98"
      },
      "outputs": [
        {
          "name": "stdout",
          "output_type": "stream",
          "text": [
            "Collecting opencv-python\n",
            "  Using cached opencv_python-4.10.0.84-cp37-abi3-win_amd64.whl.metadata (20 kB)\n",
            "Requirement already satisfied: numpy>=1.21.2 in c:\\users\\asus\\anaconda3\\lib\\site-packages (from opencv-python) (1.26.4)\n",
            "Using cached opencv_python-4.10.0.84-cp37-abi3-win_amd64.whl (38.8 MB)\n",
            "Installing collected packages: opencv-python\n",
            "Successfully installed opencv-python-4.10.0.84\n"
          ]
        }
      ],
      "source": [
        "# !pip install opencv-python"
      ]
    },
    {
      "cell_type": "code",
      "execution_count": null,
      "id": "b97f066c-6a23-48ff-a23a-8f14c390e7b0",
      "metadata": {
        "id": "b97f066c-6a23-48ff-a23a-8f14c390e7b0",
        "outputId": "3f7f0a70-a842-4809-f521-73239af60c17"
      },
      "outputs": [
        {
          "name": "stdout",
          "output_type": "stream",
          "text": [
            "Requirement already satisfied: torch in c:\\users\\asus\\anaconda3\\lib\\site-packages (2.5.1)\n",
            "Requirement already satisfied: filelock in c:\\users\\asus\\anaconda3\\lib\\site-packages (from torch) (3.13.1)\n",
            "Requirement already satisfied: typing-extensions>=4.8.0 in c:\\users\\asus\\anaconda3\\lib\\site-packages (from torch) (4.11.0)\n",
            "Requirement already satisfied: networkx in c:\\users\\asus\\anaconda3\\lib\\site-packages (from torch) (3.3)\n",
            "Requirement already satisfied: jinja2 in c:\\users\\asus\\anaconda3\\lib\\site-packages (from torch) (3.1.4)\n",
            "Requirement already satisfied: fsspec in c:\\users\\asus\\anaconda3\\lib\\site-packages (from torch) (2024.6.1)\n",
            "Requirement already satisfied: setuptools in c:\\users\\asus\\anaconda3\\lib\\site-packages (from torch) (75.1.0)\n",
            "Requirement already satisfied: sympy==1.13.1 in c:\\users\\asus\\anaconda3\\lib\\site-packages (from torch) (1.13.1)\n",
            "Requirement already satisfied: mpmath<1.4,>=1.1.0 in c:\\users\\asus\\anaconda3\\lib\\site-packages (from sympy==1.13.1->torch) (1.3.0)\n",
            "Requirement already satisfied: MarkupSafe>=2.0 in c:\\users\\asus\\anaconda3\\lib\\site-packages (from jinja2->torch) (2.1.3)\n"
          ]
        }
      ],
      "source": [
        "# !pip install torch"
      ]
    },
    {
      "cell_type": "code",
      "execution_count": null,
      "id": "1398c13a-6780-4a95-aee7-56c633530d7d",
      "metadata": {
        "id": "1398c13a-6780-4a95-aee7-56c633530d7d",
        "outputId": "b1b7bfc4-6d2b-4b91-9144-09306cf82156"
      },
      "outputs": [
        {
          "name": "stdout",
          "output_type": "stream",
          "text": [
            "Collecting transformers\n",
            "  Using cached transformers-4.46.1-py3-none-any.whl.metadata (44 kB)\n",
            "Requirement already satisfied: filelock in c:\\users\\asus\\anaconda3\\lib\\site-packages (from transformers) (3.13.1)\n",
            "Collecting huggingface-hub<1.0,>=0.23.2 (from transformers)\n",
            "  Using cached huggingface_hub-0.26.2-py3-none-any.whl.metadata (13 kB)\n",
            "Requirement already satisfied: numpy>=1.17 in c:\\users\\asus\\anaconda3\\lib\\site-packages (from transformers) (1.26.4)\n",
            "Requirement already satisfied: packaging>=20.0 in c:\\users\\asus\\anaconda3\\lib\\site-packages (from transformers) (24.1)\n",
            "Requirement already satisfied: pyyaml>=5.1 in c:\\users\\asus\\anaconda3\\lib\\site-packages (from transformers) (6.0.1)\n",
            "Requirement already satisfied: regex!=2019.12.17 in c:\\users\\asus\\anaconda3\\lib\\site-packages (from transformers) (2024.9.11)\n",
            "Requirement already satisfied: requests in c:\\users\\asus\\anaconda3\\lib\\site-packages (from transformers) (2.32.3)\n",
            "Collecting safetensors>=0.4.1 (from transformers)\n",
            "  Downloading safetensors-0.4.5-cp312-none-win_amd64.whl.metadata (3.9 kB)\n",
            "Collecting tokenizers<0.21,>=0.20 (from transformers)\n",
            "  Downloading tokenizers-0.20.1-cp312-none-win_amd64.whl.metadata (6.9 kB)\n",
            "Requirement already satisfied: tqdm>=4.27 in c:\\users\\asus\\anaconda3\\lib\\site-packages (from transformers) (4.66.5)\n",
            "Requirement already satisfied: fsspec>=2023.5.0 in c:\\users\\asus\\anaconda3\\lib\\site-packages (from huggingface-hub<1.0,>=0.23.2->transformers) (2024.6.1)\n",
            "Requirement already satisfied: typing-extensions>=3.7.4.3 in c:\\users\\asus\\anaconda3\\lib\\site-packages (from huggingface-hub<1.0,>=0.23.2->transformers) (4.11.0)\n",
            "Requirement already satisfied: colorama in c:\\users\\asus\\anaconda3\\lib\\site-packages (from tqdm>=4.27->transformers) (0.4.6)\n",
            "Requirement already satisfied: charset-normalizer<4,>=2 in c:\\users\\asus\\anaconda3\\lib\\site-packages (from requests->transformers) (3.3.2)\n",
            "Requirement already satisfied: idna<4,>=2.5 in c:\\users\\asus\\anaconda3\\lib\\site-packages (from requests->transformers) (3.7)\n",
            "Requirement already satisfied: urllib3<3,>=1.21.1 in c:\\users\\asus\\anaconda3\\lib\\site-packages (from requests->transformers) (2.2.3)\n",
            "Requirement already satisfied: certifi>=2017.4.17 in c:\\users\\asus\\anaconda3\\lib\\site-packages (from requests->transformers) (2024.8.30)\n",
            "Using cached transformers-4.46.1-py3-none-any.whl (10.0 MB)\n",
            "Using cached huggingface_hub-0.26.2-py3-none-any.whl (447 kB)\n",
            "Downloading safetensors-0.4.5-cp312-none-win_amd64.whl (286 kB)\n",
            "Downloading tokenizers-0.20.1-cp312-none-win_amd64.whl (2.4 MB)\n",
            "   ---------------------------------------- 0.0/2.4 MB ? eta -:--:--\n",
            "   ---------------------------------------- 2.4/2.4 MB 15.1 MB/s eta 0:00:00\n",
            "Installing collected packages: safetensors, huggingface-hub, tokenizers, transformers\n",
            "Successfully installed huggingface-hub-0.26.2 safetensors-0.4.5 tokenizers-0.20.1 transformers-4.46.1\n"
          ]
        }
      ],
      "source": [
        "# !pip install transformers"
      ]
    },
    {
      "cell_type": "code",
      "execution_count": null,
      "id": "a92182ce-d36a-480a-a730-568b529594ca",
      "metadata": {
        "id": "a92182ce-d36a-480a-a730-568b529594ca",
        "outputId": "6f37b6e6-2743-4541-d7fd-72fcca70acbf"
      },
      "outputs": [
        {
          "name": "stdout",
          "output_type": "stream",
          "text": [
            "Collecting torchvision\n",
            "  Downloading torchvision-0.20.1-cp312-cp312-win_amd64.whl.metadata (6.2 kB)\n",
            "Requirement already satisfied: numpy in c:\\users\\asus\\anaconda3\\lib\\site-packages (from torchvision) (1.26.4)\n",
            "Collecting torch==2.5.1 (from torchvision)\n",
            "  Downloading torch-2.5.1-cp312-cp312-win_amd64.whl.metadata (28 kB)\n",
            "Requirement already satisfied: pillow!=8.3.*,>=5.3.0 in c:\\users\\asus\\anaconda3\\lib\\site-packages (from torchvision) (10.4.0)\n",
            "Requirement already satisfied: filelock in c:\\users\\asus\\anaconda3\\lib\\site-packages (from torch==2.5.1->torchvision) (3.13.1)\n",
            "Requirement already satisfied: typing-extensions>=4.8.0 in c:\\users\\asus\\anaconda3\\lib\\site-packages (from torch==2.5.1->torchvision) (4.11.0)\n",
            "Requirement already satisfied: networkx in c:\\users\\asus\\anaconda3\\lib\\site-packages (from torch==2.5.1->torchvision) (3.3)\n",
            "Requirement already satisfied: jinja2 in c:\\users\\asus\\anaconda3\\lib\\site-packages (from torch==2.5.1->torchvision) (3.1.4)\n",
            "Requirement already satisfied: fsspec in c:\\users\\asus\\anaconda3\\lib\\site-packages (from torch==2.5.1->torchvision) (2024.6.1)\n",
            "Requirement already satisfied: setuptools in c:\\users\\asus\\anaconda3\\lib\\site-packages (from torch==2.5.1->torchvision) (75.1.0)\n",
            "Collecting sympy==1.13.1 (from torch==2.5.1->torchvision)\n",
            "  Using cached sympy-1.13.1-py3-none-any.whl.metadata (12 kB)\n",
            "Requirement already satisfied: mpmath<1.4,>=1.1.0 in c:\\users\\asus\\anaconda3\\lib\\site-packages (from sympy==1.13.1->torch==2.5.1->torchvision) (1.3.0)\n",
            "Requirement already satisfied: MarkupSafe>=2.0 in c:\\users\\asus\\anaconda3\\lib\\site-packages (from jinja2->torch==2.5.1->torchvision) (2.1.3)\n",
            "Downloading torchvision-0.20.1-cp312-cp312-win_amd64.whl (1.6 MB)\n",
            "   ---------------------------------------- 0.0/1.6 MB ? eta -:--:--\n",
            "   ---------------------------------------- 1.6/1.6 MB 20.6 MB/s eta 0:00:00\n",
            "Downloading torch-2.5.1-cp312-cp312-win_amd64.whl (203.0 MB)\n",
            "   ---------------------------------------- 0.0/203.0 MB ? eta -:--:--\n",
            "   - -------------------------------------- 7.3/203.0 MB 34.9 MB/s eta 0:00:06\n",
            "   -- ------------------------------------- 11.8/203.0 MB 29.5 MB/s eta 0:00:07\n",
            "   --- ------------------------------------ 17.3/203.0 MB 28.7 MB/s eta 0:00:07\n",
            "   ---- ----------------------------------- 23.6/203.0 MB 27.6 MB/s eta 0:00:07\n",
            "   ------ --------------------------------- 31.7/203.0 MB 30.0 MB/s eta 0:00:06\n",
            "   ------- -------------------------------- 35.7/203.0 MB 28.0 MB/s eta 0:00:06\n",
            "   -------- ------------------------------- 41.7/203.0 MB 27.9 MB/s eta 0:00:06\n",
            "   --------- ------------------------------ 48.8/203.0 MB 28.7 MB/s eta 0:00:06\n",
            "   ---------- ----------------------------- 55.1/203.0 MB 28.7 MB/s eta 0:00:06\n",
            "   ------------ --------------------------- 62.9/203.0 MB 29.5 MB/s eta 0:00:05\n",
            "   ------------- -------------------------- 67.6/203.0 MB 28.7 MB/s eta 0:00:05\n",
            "   ------------- -------------------------- 70.3/203.0 MB 27.5 MB/s eta 0:00:05\n",
            "   -------------- ------------------------- 75.8/203.0 MB 27.3 MB/s eta 0:00:05\n",
            "   ---------------- ----------------------- 81.5/203.0 MB 27.4 MB/s eta 0:00:05\n",
            "   ----------------- ---------------------- 88.1/203.0 MB 27.6 MB/s eta 0:00:05\n",
            "   ------------------ --------------------- 93.3/203.0 MB 27.4 MB/s eta 0:00:04\n",
            "   ------------------ --------------------- 95.4/203.0 MB 26.5 MB/s eta 0:00:05\n",
            "   ------------------- ------------------- 101.7/203.0 MB 26.7 MB/s eta 0:00:04\n",
            "   -------------------- ------------------ 105.1/203.0 MB 26.3 MB/s eta 0:00:04\n",
            "   -------------------- ------------------ 108.0/203.0 MB 25.7 MB/s eta 0:00:04\n",
            "   --------------------- ----------------- 112.2/203.0 MB 25.3 MB/s eta 0:00:04\n",
            "   ---------------------- ---------------- 117.7/203.0 MB 25.4 MB/s eta 0:00:04\n",
            "   ----------------------- --------------- 122.9/203.0 MB 25.4 MB/s eta 0:00:04\n",
            "   ------------------------ -------------- 128.7/203.0 MB 25.5 MB/s eta 0:00:03\n",
            "   ------------------------- ------------- 133.2/203.0 MB 25.4 MB/s eta 0:00:03\n",
            "   -------------------------- ------------ 137.9/203.0 MB 25.2 MB/s eta 0:00:03\n",
            "   --------------------------- ----------- 143.9/203.0 MB 25.4 MB/s eta 0:00:03\n",
            "   ---------------------------- ---------- 149.4/203.0 MB 25.5 MB/s eta 0:00:03\n",
            "   ----------------------------- --------- 155.7/203.0 MB 25.6 MB/s eta 0:00:02\n",
            "   ------------------------------ -------- 158.3/203.0 MB 25.1 MB/s eta 0:00:02\n",
            "   ------------------------------- ------- 165.4/203.0 MB 25.5 MB/s eta 0:00:02\n",
            "   --------------------------------- ----- 172.2/203.0 MB 25.7 MB/s eta 0:00:02\n",
            "   ---------------------------------- ---- 179.6/203.0 MB 26.0 MB/s eta 0:00:01\n",
            "   ----------------------------------- --- 186.6/203.0 MB 26.1 MB/s eta 0:00:01\n",
            "   ------------------------------------- - 193.7/203.0 MB 26.3 MB/s eta 0:00:01\n",
            "   --------------------------------------  198.7/203.0 MB 26.2 MB/s eta 0:00:01\n",
            "   --------------------------------------  202.9/203.0 MB 26.1 MB/s eta 0:00:01\n",
            "   --------------------------------------  202.9/203.0 MB 26.1 MB/s eta 0:00:01\n",
            "   --------------------------------------- 203.0/203.0 MB 25.1 MB/s eta 0:00:00\n",
            "Using cached sympy-1.13.1-py3-none-any.whl (6.2 MB)\n",
            "Installing collected packages: sympy, torch, torchvision\n",
            "  Attempting uninstall: sympy\n",
            "    Found existing installation: sympy 1.13.2\n",
            "    Uninstalling sympy-1.13.2:\n",
            "      Successfully uninstalled sympy-1.13.2\n",
            "Successfully installed sympy-1.13.1 torch-2.5.1 torchvision-0.20.1\n"
          ]
        }
      ],
      "source": [
        "# !pip install torchvision"
      ]
    },
    {
      "cell_type": "code",
      "execution_count": null,
      "id": "defb11a4-e858-437b-8f19-26957149f985",
      "metadata": {
        "id": "defb11a4-e858-437b-8f19-26957149f985",
        "outputId": "a6ff205b-deac-4912-fdf8-f473f5dba12c"
      },
      "outputs": [
        {
          "name": "stdout",
          "output_type": "stream",
          "text": [
            "Collecting tensorflow\n",
            "  Downloading tensorflow-2.18.0-cp312-cp312-win_amd64.whl.metadata (3.3 kB)\n",
            "Collecting tensorflow-intel==2.18.0 (from tensorflow)\n",
            "  Downloading tensorflow_intel-2.18.0-cp312-cp312-win_amd64.whl.metadata (4.9 kB)\n",
            "Collecting absl-py>=1.0.0 (from tensorflow-intel==2.18.0->tensorflow)\n",
            "  Using cached absl_py-2.1.0-py3-none-any.whl.metadata (2.3 kB)\n",
            "Collecting astunparse>=1.6.0 (from tensorflow-intel==2.18.0->tensorflow)\n",
            "  Using cached astunparse-1.6.3-py2.py3-none-any.whl.metadata (4.4 kB)\n",
            "Collecting flatbuffers>=24.3.25 (from tensorflow-intel==2.18.0->tensorflow)\n",
            "  Using cached flatbuffers-24.3.25-py2.py3-none-any.whl.metadata (850 bytes)\n",
            "Collecting gast!=0.5.0,!=0.5.1,!=0.5.2,>=0.2.1 (from tensorflow-intel==2.18.0->tensorflow)\n",
            "  Using cached gast-0.6.0-py3-none-any.whl.metadata (1.3 kB)\n",
            "Collecting google-pasta>=0.1.1 (from tensorflow-intel==2.18.0->tensorflow)\n",
            "  Using cached google_pasta-0.2.0-py3-none-any.whl.metadata (814 bytes)\n",
            "Collecting libclang>=13.0.0 (from tensorflow-intel==2.18.0->tensorflow)\n",
            "  Using cached libclang-18.1.1-py2.py3-none-win_amd64.whl.metadata (5.3 kB)\n",
            "Collecting opt-einsum>=2.3.2 (from tensorflow-intel==2.18.0->tensorflow)\n",
            "  Using cached opt_einsum-3.4.0-py3-none-any.whl.metadata (6.3 kB)\n",
            "Requirement already satisfied: packaging in c:\\users\\asus\\anaconda3\\lib\\site-packages (from tensorflow-intel==2.18.0->tensorflow) (24.1)\n",
            "Requirement already satisfied: protobuf!=4.21.0,!=4.21.1,!=4.21.2,!=4.21.3,!=4.21.4,!=4.21.5,<6.0.0dev,>=3.20.3 in c:\\users\\asus\\anaconda3\\lib\\site-packages (from tensorflow-intel==2.18.0->tensorflow) (4.25.3)\n",
            "Requirement already satisfied: requests<3,>=2.21.0 in c:\\users\\asus\\anaconda3\\lib\\site-packages (from tensorflow-intel==2.18.0->tensorflow) (2.32.3)\n",
            "Requirement already satisfied: setuptools in c:\\users\\asus\\anaconda3\\lib\\site-packages (from tensorflow-intel==2.18.0->tensorflow) (75.1.0)\n",
            "Requirement already satisfied: six>=1.12.0 in c:\\users\\asus\\anaconda3\\lib\\site-packages (from tensorflow-intel==2.18.0->tensorflow) (1.16.0)\n",
            "Collecting termcolor>=1.1.0 (from tensorflow-intel==2.18.0->tensorflow)\n",
            "  Using cached termcolor-2.5.0-py3-none-any.whl.metadata (6.1 kB)\n",
            "Requirement already satisfied: typing-extensions>=3.6.6 in c:\\users\\asus\\anaconda3\\lib\\site-packages (from tensorflow-intel==2.18.0->tensorflow) (4.11.0)\n",
            "Requirement already satisfied: wrapt>=1.11.0 in c:\\users\\asus\\anaconda3\\lib\\site-packages (from tensorflow-intel==2.18.0->tensorflow) (1.14.1)\n",
            "Collecting grpcio<2.0,>=1.24.3 (from tensorflow-intel==2.18.0->tensorflow)\n",
            "  Downloading grpcio-1.67.1-cp312-cp312-win_amd64.whl.metadata (4.0 kB)\n",
            "Collecting tensorboard<2.19,>=2.18 (from tensorflow-intel==2.18.0->tensorflow)\n",
            "  Using cached tensorboard-2.18.0-py3-none-any.whl.metadata (1.6 kB)\n",
            "Collecting keras>=3.5.0 (from tensorflow-intel==2.18.0->tensorflow)\n",
            "  Using cached keras-3.6.0-py3-none-any.whl.metadata (5.8 kB)\n",
            "Requirement already satisfied: numpy<2.1.0,>=1.26.0 in c:\\users\\asus\\anaconda3\\lib\\site-packages (from tensorflow-intel==2.18.0->tensorflow) (1.26.4)\n",
            "Requirement already satisfied: h5py>=3.11.0 in c:\\users\\asus\\anaconda3\\lib\\site-packages (from tensorflow-intel==2.18.0->tensorflow) (3.11.0)\n",
            "Collecting ml-dtypes<0.5.0,>=0.4.0 (from tensorflow-intel==2.18.0->tensorflow)\n",
            "  Downloading ml_dtypes-0.4.1-cp312-cp312-win_amd64.whl.metadata (20 kB)\n",
            "Requirement already satisfied: wheel<1.0,>=0.23.0 in c:\\users\\asus\\anaconda3\\lib\\site-packages (from astunparse>=1.6.0->tensorflow-intel==2.18.0->tensorflow) (0.44.0)\n",
            "Requirement already satisfied: rich in c:\\users\\asus\\anaconda3\\lib\\site-packages (from keras>=3.5.0->tensorflow-intel==2.18.0->tensorflow) (13.7.1)\n",
            "Collecting namex (from keras>=3.5.0->tensorflow-intel==2.18.0->tensorflow)\n",
            "  Using cached namex-0.0.8-py3-none-any.whl.metadata (246 bytes)\n",
            "Collecting optree (from keras>=3.5.0->tensorflow-intel==2.18.0->tensorflow)\n",
            "  Downloading optree-0.13.0-cp312-cp312-win_amd64.whl.metadata (48 kB)\n",
            "Requirement already satisfied: charset-normalizer<4,>=2 in c:\\users\\asus\\anaconda3\\lib\\site-packages (from requests<3,>=2.21.0->tensorflow-intel==2.18.0->tensorflow) (3.3.2)\n",
            "Requirement already satisfied: idna<4,>=2.5 in c:\\users\\asus\\anaconda3\\lib\\site-packages (from requests<3,>=2.21.0->tensorflow-intel==2.18.0->tensorflow) (3.7)\n",
            "Requirement already satisfied: urllib3<3,>=1.21.1 in c:\\users\\asus\\anaconda3\\lib\\site-packages (from requests<3,>=2.21.0->tensorflow-intel==2.18.0->tensorflow) (2.2.3)\n",
            "Requirement already satisfied: certifi>=2017.4.17 in c:\\users\\asus\\anaconda3\\lib\\site-packages (from requests<3,>=2.21.0->tensorflow-intel==2.18.0->tensorflow) (2024.8.30)\n",
            "Requirement already satisfied: markdown>=2.6.8 in c:\\users\\asus\\anaconda3\\lib\\site-packages (from tensorboard<2.19,>=2.18->tensorflow-intel==2.18.0->tensorflow) (3.4.1)\n",
            "Collecting tensorboard-data-server<0.8.0,>=0.7.0 (from tensorboard<2.19,>=2.18->tensorflow-intel==2.18.0->tensorflow)\n",
            "  Using cached tensorboard_data_server-0.7.2-py3-none-any.whl.metadata (1.1 kB)\n",
            "Requirement already satisfied: werkzeug>=1.0.1 in c:\\users\\asus\\anaconda3\\lib\\site-packages (from tensorboard<2.19,>=2.18->tensorflow-intel==2.18.0->tensorflow) (3.0.3)\n",
            "Requirement already satisfied: MarkupSafe>=2.1.1 in c:\\users\\asus\\anaconda3\\lib\\site-packages (from werkzeug>=1.0.1->tensorboard<2.19,>=2.18->tensorflow-intel==2.18.0->tensorflow) (2.1.3)\n",
            "Requirement already satisfied: markdown-it-py>=2.2.0 in c:\\users\\asus\\anaconda3\\lib\\site-packages (from rich->keras>=3.5.0->tensorflow-intel==2.18.0->tensorflow) (2.2.0)\n",
            "Requirement already satisfied: pygments<3.0.0,>=2.13.0 in c:\\users\\asus\\anaconda3\\lib\\site-packages (from rich->keras>=3.5.0->tensorflow-intel==2.18.0->tensorflow) (2.15.1)\n",
            "Requirement already satisfied: mdurl~=0.1 in c:\\users\\asus\\anaconda3\\lib\\site-packages (from markdown-it-py>=2.2.0->rich->keras>=3.5.0->tensorflow-intel==2.18.0->tensorflow) (0.1.0)\n",
            "Downloading tensorflow-2.18.0-cp312-cp312-win_amd64.whl (7.5 kB)\n",
            "Downloading tensorflow_intel-2.18.0-cp312-cp312-win_amd64.whl (390.3 MB)\n",
            "   ---------------------------------------- 0.0/390.3 MB ? eta -:--:--\n",
            "    --------------------------------------- 7.6/390.3 MB 39.3 MB/s eta 0:00:10\n",
            "   - -------------------------------------- 13.9/390.3 MB 33.6 MB/s eta 0:00:12\n",
            "   - -------------------------------------- 16.3/390.3 MB 26.3 MB/s eta 0:00:15\n",
            "   -- ------------------------------------- 23.6/390.3 MB 28.7 MB/s eta 0:00:13\n",
            "   --- ------------------------------------ 29.6/390.3 MB 28.1 MB/s eta 0:00:13\n",
            "   --- ------------------------------------ 34.9/390.3 MB 27.7 MB/s eta 0:00:13\n",
            "   ---- ----------------------------------- 42.5/390.3 MB 29.0 MB/s eta 0:00:12\n",
            "   ----- ---------------------------------- 51.4/390.3 MB 30.3 MB/s eta 0:00:12\n",
            "   ------ --------------------------------- 58.7/390.3 MB 30.9 MB/s eta 0:00:11\n",
            "   ------ --------------------------------- 65.0/390.3 MB 30.7 MB/s eta 0:00:11\n",
            "   ------- -------------------------------- 73.1/390.3 MB 31.5 MB/s eta 0:00:11\n",
            "   -------- ------------------------------- 79.2/390.3 MB 31.4 MB/s eta 0:00:10\n",
            "   -------- ------------------------------- 85.5/390.3 MB 31.5 MB/s eta 0:00:10\n",
            "   --------- ------------------------------ 92.3/390.3 MB 31.2 MB/s eta 0:00:10\n",
            "   ---------- ---------------------------- 100.1/390.3 MB 31.6 MB/s eta 0:00:10\n",
            "   ---------- ---------------------------- 109.8/390.3 MB 32.6 MB/s eta 0:00:09\n",
            "   ----------- --------------------------- 116.9/390.3 MB 32.6 MB/s eta 0:00:09\n",
            "   ------------ -------------------------- 122.7/390.3 MB 32.3 MB/s eta 0:00:09\n",
            "   ------------ -------------------------- 128.7/390.3 MB 32.1 MB/s eta 0:00:09\n",
            "   ------------- ------------------------- 136.1/390.3 MB 32.3 MB/s eta 0:00:08\n",
            "   -------------- ------------------------ 143.1/390.3 MB 32.2 MB/s eta 0:00:08\n",
            "   --------------- ----------------------- 153.9/390.3 MB 33.1 MB/s eta 0:00:08\n",
            "   ---------------- ---------------------- 163.1/390.3 MB 33.5 MB/s eta 0:00:07\n",
            "   ---------------- ---------------------- 168.8/390.3 MB 33.2 MB/s eta 0:00:07\n",
            "   ----------------- --------------------- 171.4/390.3 MB 32.4 MB/s eta 0:00:07\n",
            "   ----------------- --------------------- 176.2/390.3 MB 32.0 MB/s eta 0:00:07\n",
            "   ------------------ -------------------- 180.4/390.3 MB 31.6 MB/s eta 0:00:07\n",
            "   ------------------ -------------------- 186.9/390.3 MB 31.4 MB/s eta 0:00:07\n",
            "   ------------------- ------------------- 193.2/390.3 MB 31.4 MB/s eta 0:00:07\n",
            "   ------------------- ------------------- 199.8/390.3 MB 31.5 MB/s eta 0:00:07\n",
            "   -------------------- ------------------ 207.1/390.3 MB 31.4 MB/s eta 0:00:06\n",
            "   --------------------- ----------------- 213.1/390.3 MB 31.4 MB/s eta 0:00:06\n",
            "   --------------------- ----------------- 219.4/390.3 MB 31.4 MB/s eta 0:00:06\n",
            "   ---------------------- ---------------- 228.6/390.3 MB 31.8 MB/s eta 0:00:06\n",
            "   ----------------------- --------------- 238.0/390.3 MB 32.1 MB/s eta 0:00:05\n",
            "   ----------------------- --------------- 239.1/390.3 MB 31.3 MB/s eta 0:00:05\n",
            "   ------------------------ -------------- 248.5/390.3 MB 31.7 MB/s eta 0:00:05\n",
            "   ------------------------- ------------- 254.8/390.3 MB 31.6 MB/s eta 0:00:05\n",
            "   -------------------------- ------------ 262.7/390.3 MB 31.7 MB/s eta 0:00:05\n",
            "   -------------------------- ------------ 269.5/390.3 MB 31.7 MB/s eta 0:00:04\n",
            "   --------------------------- ----------- 273.2/390.3 MB 31.2 MB/s eta 0:00:04\n",
            "   --------------------------- ----------- 278.7/390.3 MB 31.7 MB/s eta 0:00:04\n",
            "   ---------------------------- ---------- 284.2/390.3 MB 31.6 MB/s eta 0:00:04\n",
            "   ---------------------------- ---------- 289.4/390.3 MB 31.5 MB/s eta 0:00:04\n",
            "   ----------------------------- --------- 294.9/390.3 MB 31.5 MB/s eta 0:00:04\n",
            "   ----------------------------- --------- 299.1/390.3 MB 31.5 MB/s eta 0:00:03\n",
            "   ------------------------------ -------- 300.9/390.3 MB 30.6 MB/s eta 0:00:03\n",
            "   ------------------------------ -------- 309.1/390.3 MB 30.6 MB/s eta 0:00:03\n",
            "   ------------------------------- ------- 317.5/390.3 MB 30.6 MB/s eta 0:00:03\n",
            "   -------------------------------- ------ 323.2/390.3 MB 30.6 MB/s eta 0:00:03\n",
            "   -------------------------------- ------ 329.8/390.3 MB 30.4 MB/s eta 0:00:02\n",
            "   --------------------------------- ----- 337.1/390.3 MB 30.5 MB/s eta 0:00:02\n",
            "   ---------------------------------- ---- 345.0/390.3 MB 30.5 MB/s eta 0:00:02\n",
            "   ----------------------------------- --- 353.4/390.3 MB 30.9 MB/s eta 0:00:02\n",
            "   ----------------------------------- --- 357.3/390.3 MB 30.5 MB/s eta 0:00:02\n",
            "   ------------------------------------ -- 367.0/390.3 MB 30.6 MB/s eta 0:00:01\n",
            "   ------------------------------------- - 375.4/390.3 MB 30.7 MB/s eta 0:00:01\n",
            "   --------------------------------------  382.7/390.3 MB 30.9 MB/s eta 0:00:01\n",
            "   --------------------------------------  390.1/390.3 MB 31.1 MB/s eta 0:00:01\n",
            "   --------------------------------------  390.1/390.3 MB 31.1 MB/s eta 0:00:01\n",
            "   --------------------------------------- 390.3/390.3 MB 29.6 MB/s eta 0:00:00\n",
            "Using cached absl_py-2.1.0-py3-none-any.whl (133 kB)\n",
            "Using cached astunparse-1.6.3-py2.py3-none-any.whl (12 kB)\n",
            "Using cached flatbuffers-24.3.25-py2.py3-none-any.whl (26 kB)\n",
            "Using cached gast-0.6.0-py3-none-any.whl (21 kB)\n",
            "Using cached google_pasta-0.2.0-py3-none-any.whl (57 kB)\n",
            "Downloading grpcio-1.67.1-cp312-cp312-win_amd64.whl (4.3 MB)\n",
            "   ---------------------------------------- 0.0/4.3 MB ? eta -:--:--\n",
            "   -------------------------------------- - 4.2/4.3 MB 27.9 MB/s eta 0:00:01\n",
            "   ---------------------------------------- 4.3/4.3 MB 21.7 MB/s eta 0:00:00\n",
            "Using cached keras-3.6.0-py3-none-any.whl (1.2 MB)\n",
            "Using cached libclang-18.1.1-py2.py3-none-win_amd64.whl (26.4 MB)\n",
            "Downloading ml_dtypes-0.4.1-cp312-cp312-win_amd64.whl (127 kB)\n",
            "Using cached opt_einsum-3.4.0-py3-none-any.whl (71 kB)\n",
            "Using cached tensorboard-2.18.0-py3-none-any.whl (5.5 MB)\n",
            "Using cached termcolor-2.5.0-py3-none-any.whl (7.8 kB)\n",
            "Using cached tensorboard_data_server-0.7.2-py3-none-any.whl (2.4 kB)\n",
            "Using cached namex-0.0.8-py3-none-any.whl (5.8 kB)\n",
            "Downloading optree-0.13.0-cp312-cp312-win_amd64.whl (283 kB)\n",
            "Installing collected packages: namex, libclang, flatbuffers, termcolor, tensorboard-data-server, optree, opt-einsum, ml-dtypes, grpcio, google-pasta, gast, astunparse, absl-py, tensorboard, keras, tensorflow-intel, tensorflow\n",
            "Successfully installed absl-py-2.1.0 astunparse-1.6.3 flatbuffers-24.3.25 gast-0.6.0 google-pasta-0.2.0 grpcio-1.67.1 keras-3.6.0 libclang-18.1.1 ml-dtypes-0.4.1 namex-0.0.8 opt-einsum-3.4.0 optree-0.13.0 tensorboard-2.18.0 tensorboard-data-server-0.7.2 tensorflow-2.18.0 tensorflow-intel-2.18.0 termcolor-2.5.0\n"
          ]
        }
      ],
      "source": [
        "# !pip install tensorflow"
      ]
    },
    {
      "cell_type": "code",
      "execution_count": null,
      "id": "e199b13e-09de-450d-8a05-9e7f10b27b69",
      "metadata": {
        "id": "e199b13e-09de-450d-8a05-9e7f10b27b69",
        "outputId": "0d11eef8-9db1-42ea-a549-aa2a54037bd2"
      },
      "outputs": [
        {
          "name": "stdout",
          "output_type": "stream",
          "text": [
            "Collecting data\n",
            "  Downloading data-0.4.tar.gz (7.0 kB)\n",
            "  Preparing metadata (setup.py): started\n",
            "  Preparing metadata (setup.py): finished with status 'done'\n",
            "Requirement already satisfied: six in c:\\users\\asus\\anaconda3\\lib\\site-packages (from data) (1.16.0)\n",
            "Requirement already satisfied: decorator in c:\\users\\asus\\anaconda3\\lib\\site-packages (from data) (5.1.1)\n",
            "Collecting funcsigs (from data)\n",
            "  Downloading funcsigs-1.0.2-py2.py3-none-any.whl.metadata (14 kB)\n",
            "Downloading funcsigs-1.0.2-py2.py3-none-any.whl (17 kB)\n",
            "Building wheels for collected packages: data\n",
            "  Building wheel for data (setup.py): started\n",
            "  Building wheel for data (setup.py): finished with status 'done'\n",
            "  Created wheel for data: filename=data-0.4-py3-none-any.whl size=7259 sha256=bcb866029188e3c46cce5ee1981ef1cf2d7954fe5d0a5f8fd62e1e59c20b493b\n",
            "  Stored in directory: c:\\users\\asus\\appdata\\local\\pip\\cache\\wheels\\0e\\90\\87\\0e55006f5c69af278687927041e334cfb928ab0a7ad9b0c1a3\n",
            "Successfully built data\n",
            "Installing collected packages: funcsigs, data\n",
            "Successfully installed data-0.4 funcsigs-1.0.2\n"
          ]
        }
      ],
      "source": [
        "# !pip install data"
      ]
    },
    {
      "cell_type": "code",
      "execution_count": null,
      "id": "bc35518c-9222-4827-9cc5-09113dbe488f",
      "metadata": {
        "id": "bc35518c-9222-4827-9cc5-09113dbe488f",
        "outputId": "f8b05140-7f7e-4926-e351-aac96b9fbcc4"
      },
      "outputs": [
        {
          "name": "stdout",
          "output_type": "stream",
          "text": [
            "Collecting pydot\n",
            "  Downloading pydot-3.0.2-py3-none-any.whl.metadata (10 kB)\n",
            "Requirement already satisfied: pyparsing>=3.0.9 in c:\\users\\asus\\anaconda3\\lib\\site-packages (from pydot) (3.1.2)\n",
            "Downloading pydot-3.0.2-py3-none-any.whl (35 kB)\n",
            "Installing collected packages: pydot\n",
            "Successfully installed pydot-3.0.2\n"
          ]
        }
      ],
      "source": [
        "!pip install pydot"
      ]
    },
    {
      "cell_type": "code",
      "execution_count": null,
      "id": "602a0971-a159-4712-b2a8-b7c53e2097d1",
      "metadata": {
        "id": "602a0971-a159-4712-b2a8-b7c53e2097d1"
      },
      "outputs": [],
      "source": [
        "import os\n",
        "import cv2\n",
        "# import pandas as pd\n",
        "import numpy as np\n",
        "import matplotlib.pyplot as plt\n",
        "# from sklearn.svm import SVC\n",
        "# from sklearn.metrics import confusion_matrix, classification_report\n",
        "from sklearn.model_selection import train_test_split\n",
        "# from sklearn.decomposition import PCA"
      ]
    },
    {
      "cell_type": "code",
      "execution_count": null,
      "id": "25efb401-1790-491a-be74-4130b1ad0ca0",
      "metadata": {
        "id": "25efb401-1790-491a-be74-4130b1ad0ca0"
      },
      "outputs": [],
      "source": [
        "# from sklearn.model_selection import train_test_split"
      ]
    },
    {
      "cell_type": "code",
      "execution_count": null,
      "id": "16c69f9b-6353-4fce-8761-ca2484618209",
      "metadata": {
        "id": "16c69f9b-6353-4fce-8761-ca2484618209",
        "outputId": "de179c49-37b1-4001-e082-a5be16bf6e00"
      },
      "outputs": [
        {
          "name": "stdout",
          "output_type": "stream",
          "text": [
            "['NORMAL', 'PNEUMONIA']\n"
          ]
        }
      ],
      "source": [
        "\n",
        "train_directory = \"input/chest-xray-pneumonia/chest_xray/train\"\n",
        "train_directory = \"C:/Users/ASUS/.cache/kagglehub/datasets/paultimothymooney/chest-xray-pneumonia/versions/2/chest_xray/train\"\n",
        "labels = ['NORMAL', 'PNEUMONIA']\n",
        "print(os.listdir(train_directory))"
      ]
    },
    {
      "cell_type": "code",
      "execution_count": null,
      "id": "aeae8286-f2cf-4aa3-86ac-49599d5cb020",
      "metadata": {
        "id": "aeae8286-f2cf-4aa3-86ac-49599d5cb020",
        "outputId": "b399d740-1625-499d-909e-d8ce1be34d5f"
      },
      "outputs": [
        {
          "name": "stdout",
          "output_type": "stream",
          "text": [
            "No. of PNEUMONIA images: 3875\n",
            "No. of NORMAL images: 1341\n"
          ]
        }
      ],
      "source": [
        "train_normal_dir = os.path.join(train_directory, \"NORMAL\")\n",
        "train_pneumonia_dir = os.path.join(train_directory, \"PNEUMONIA\")\n",
        "print(\"No. of PNEUMONIA images:\", len(os.listdir(train_pneumonia_dir)))\n",
        "print(\"No. of NORMAL images:\", len(os.listdir(train_normal_dir)))"
      ]
    },
    {
      "cell_type": "code",
      "execution_count": null,
      "id": "40e84f8e-7a6c-4452-aec2-939c9d3f2e09",
      "metadata": {
        "id": "40e84f8e-7a6c-4452-aec2-939c9d3f2e09"
      },
      "outputs": [],
      "source": [
        "sample_normal_image = os.listdir(train_normal_dir)[0]\n",
        "sample_pneumonia_image = os.listdir(train_pneumonia_dir)[0]"
      ]
    },
    {
      "cell_type": "code",
      "execution_count": null,
      "id": "70622bff-df85-45f3-98b9-edb12e84027d",
      "metadata": {
        "id": "70622bff-df85-45f3-98b9-edb12e84027d",
        "outputId": "7fdbbd38-e3a2-45ff-a027-6da274c63cd3"
      },
      "outputs": [
        {
          "name": "stdout",
          "output_type": "stream",
          "text": [
            "Normal example:\n"
          ]
        },
        {
          "data": {
            "text/plain": [
              "<matplotlib.image.AxesImage at 0x1ef5b083920>"
            ]
          },
          "execution_count": 373,
          "metadata": {},
          "output_type": "execute_result"
        },
        {
          "data": {
            "image/png": "[encoded data removed]",
            "text/plain": [
              "<Figure size 640x480 with 1 Axes>"
            ]
          },
          "metadata": {},
          "output_type": "display_data"
        }
      ],
      "source": [
        "normal_image_path = os.path.join(train_normal_dir, sample_normal_image)\n",
        "img = cv2.imread(normal_image_path)\n",
        "print(\"Normal example:\")\n",
        "plt.imshow(img)"
      ]
    },
    {
      "cell_type": "code",
      "execution_count": null,
      "id": "2dceb523-fa11-4cad-86e2-49824d5d2ee4",
      "metadata": {
        "id": "2dceb523-fa11-4cad-86e2-49824d5d2ee4",
        "outputId": "e9df8187-141d-4547-d4f1-ee481d025b1b"
      },
      "outputs": [
        {
          "name": "stdout",
          "output_type": "stream",
          "text": [
            "Pneumonia example:\n"
          ]
        },
        {
          "data": {
            "text/plain": [
              "<matplotlib.image.AxesImage at 0x1ef5b6c3230>"
            ]
          },
          "execution_count": 375,
          "metadata": {},
          "output_type": "execute_result"
        },
        {
          "data": {
            "image/png": "[encoded data removed]",
            "text/plain": [
              "<Figure size 640x480 with 1 Axes>"
            ]
          },
          "metadata": {},
          "output_type": "display_data"
        }
      ],
      "source": [
        "pneumonia_image_path = os.path.join(train_pneumonia_dir, sample_pneumonia_image)\n",
        "img = cv2.imread(pneumonia_image_path)\n",
        "print(\"Pneumonia example:\")\n",
        "plt.imshow(img)"
      ]
    },
    {
      "cell_type": "code",
      "execution_count": null,
      "id": "3f09753f-d0bc-42f9-b0be-94739b3ce924",
      "metadata": {
        "id": "3f09753f-d0bc-42f9-b0be-94739b3ce924",
        "outputId": "ff6c9864-7f00-4761-a0ae-002fb5a7915d"
      },
      "outputs": [
        {
          "data": {
            "text/plain": [
              "(760, 1152, 3)"
            ]
          },
          "execution_count": 75,
          "metadata": {},
          "output_type": "execute_result"
        }
      ],
      "source": [
        "img.shape"
      ]
    },
    {
      "cell_type": "code",
      "execution_count": null,
      "id": "9d3df069-2c97-4b1e-84cb-80f465ae7abd",
      "metadata": {
        "id": "9d3df069-2c97-4b1e-84cb-80f465ae7abd"
      },
      "outputs": [],
      "source": [
        "pneumonial_data = []\n",
        "pneumonial_target = []\n",
        "for label in labels:\n",
        "    path = os.path.join(train_directory, label)\n",
        "    for img_name in os.listdir(path):\n",
        "        image = cv2.imread(os.path.join(path, img_name))\n",
        "        if image is not None:\n",
        "            resized_image = cv2.resize(image, (128, 128))\n",
        "            pneumonial_data.append(resized_image)\n",
        "            pneumonial_target.append(labels.index(label))"
      ]
    },
    {
      "cell_type": "code",
      "execution_count": null,
      "id": "5ed7169b-d3ef-4cda-ac50-c6eb76b0bfd5",
      "metadata": {
        "id": "5ed7169b-d3ef-4cda-ac50-c6eb76b0bfd5",
        "outputId": "d1e771db-47a1-4670-fe95-fedfe0801876"
      },
      "outputs": [
        {
          "data": {
            "text/plain": [
              "['NORMAL', 'PNEUMONIA']"
            ]
          },
          "execution_count": 379,
          "metadata": {},
          "output_type": "execute_result"
        }
      ],
      "source": [
        "labels"
      ]
    },
    {
      "cell_type": "code",
      "execution_count": null,
      "id": "f61fb29a-ec35-4808-822f-35ac7db41057",
      "metadata": {
        "id": "f61fb29a-ec35-4808-822f-35ac7db41057"
      },
      "outputs": [],
      "source": [
        "#### processing slake data , and merging the slake data to use for model training and testing\n",
        "import data\n",
        "from datasets import load_dataset\n",
        "train_dataset = load_dataset(\"BoKelvin/SLAKE\" , split=\"train\")\n"
      ]
    },
    {
      "cell_type": "code",
      "execution_count": null,
      "id": "6fb22622-3d14-4563-90cf-7e3fdf666c55",
      "metadata": {
        "id": "6fb22622-3d14-4563-90cf-7e3fdf666c55"
      },
      "outputs": [],
      "source": [
        "#### processing slake data , and merging the slake data to use for model training and testing\n",
        "\n",
        "slake_data_path = \"C:/Users/ASUS/Downloads/imgs/imgs/\"\n",
        "\n",
        "\n",
        "Pneumonia_data = train_dataset.filter(lambda x: x['answer'].lower() == 'pneumonia' )\n",
        "Normal_data = train_dataset.filter(lambda x: x['img_name'] not in Pneumonia_data[\"img_name\"] )\n"
      ]
    },
    {
      "cell_type": "code",
      "execution_count": null,
      "id": "d29999da-1a58-40c9-99c6-f1f364d6f8ac",
      "metadata": {
        "scrolled": true,
        "id": "d29999da-1a58-40c9-99c6-f1f364d6f8ac",
        "outputId": "0c8033fb-c2fb-495e-c736-2573de9b90aa"
      },
      "outputs": [
        {
          "data": {
            "text/plain": [
              "(['C:/Users/ASUS/Downloads/imgs/imgs/xmlab133/source.jpg',\n",
              "  'C:/Users/ASUS/Downloads/imgs/imgs/xmlab146/source.jpg',\n",
              "  'C:/Users/ASUS/Downloads/imgs/imgs/xmlab149/source.jpg',\n",
              "  'C:/Users/ASUS/Downloads/imgs/imgs/xmlab157/source.jpg',\n",
              "  'C:/Users/ASUS/Downloads/imgs/imgs/xmlab305/source.jpg',\n",
              "  'C:/Users/ASUS/Downloads/imgs/imgs/xmlab345/source.jpg',\n",
              "  'C:/Users/ASUS/Downloads/imgs/imgs/xmlab358/source.jpg',\n",
              "  'C:/Users/ASUS/Downloads/imgs/imgs/xmlab364/source.jpg',\n",
              "  'C:/Users/ASUS/Downloads/imgs/imgs/xmlab373/source.jpg',\n",
              "  'C:/Users/ASUS/Downloads/imgs/imgs/xmlab376/source.jpg',\n",
              "  'C:/Users/ASUS/Downloads/imgs/imgs/xmlab382/source.jpg'],\n",
              " ['C:/Users/ASUS/Downloads/imgs/imgs/xmlab1/source.jpg',\n",
              "  'C:/Users/ASUS/Downloads/imgs/imgs/xmlab1/source.jpg',\n",
              "  'C:/Users/ASUS/Downloads/imgs/imgs/xmlab1/source.jpg',\n",
              "  'C:/Users/ASUS/Downloads/imgs/imgs/xmlab1/source.jpg',\n",
              "  'C:/Users/ASUS/Downloads/imgs/imgs/xmlab1/source.jpg',\n",
              "  'C:/Users/ASUS/Downloads/imgs/imgs/xmlab1/source.jpg',\n",
              "  'C:/Users/ASUS/Downloads/imgs/imgs/xmlab1/source.jpg',\n",
              "  'C:/Users/ASUS/Downloads/imgs/imgs/xmlab100/source.jpg',\n",
              "  'C:/Users/ASUS/Downloads/imgs/imgs/xmlab100/source.jpg',\n",
              "  'C:/Users/ASUS/Downloads/imgs/imgs/xmlab100/source.jpg',\n",
              "  'C:/Users/ASUS/Downloads/imgs/imgs/xmlab100/source.jpg',\n",
              "  'C:/Users/ASUS/Downloads/imgs/imgs/xmlab100/source.jpg',\n",
              "  'C:/Users/ASUS/Downloads/imgs/imgs/xmlab100/source.jpg',\n",
              "  'C:/Users/ASUS/Downloads/imgs/imgs/xmlab100/source.jpg',\n",
              "  'C:/Users/ASUS/Downloads/imgs/imgs/xmlab100/source.jpg',\n",
              "  'C:/Users/ASUS/Downloads/imgs/imgs/xmlab100/source.jpg',\n",
              "  'C:/Users/ASUS/Downloads/imgs/imgs/xmlab101/source.jpg',\n",
              "  'C:/Users/ASUS/Downloads/imgs/imgs/xmlab101/source.jpg',\n",
              "  'C:/Users/ASUS/Downloads/imgs/imgs/xmlab101/source.jpg',\n",
              "  'C:/Users/ASUS/Downloads/imgs/imgs/xmlab101/source.jpg',\n",
              "  'C:/Users/ASUS/Downloads/imgs/imgs/xmlab101/source.jpg',\n",
              "  'C:/Users/ASUS/Downloads/imgs/imgs/xmlab101/source.jpg',\n",
              "  'C:/Users/ASUS/Downloads/imgs/imgs/xmlab104/source.jpg',\n",
              "  'C:/Users/ASUS/Downloads/imgs/imgs/xmlab104/source.jpg',\n",
              "  'C:/Users/ASUS/Downloads/imgs/imgs/xmlab104/source.jpg',\n",
              "  'C:/Users/ASUS/Downloads/imgs/imgs/xmlab104/source.jpg',\n",
              "  'C:/Users/ASUS/Downloads/imgs/imgs/xmlab104/source.jpg',\n",
              "  'C:/Users/ASUS/Downloads/imgs/imgs/xmlab104/source.jpg',\n",
              "  'C:/Users/ASUS/Downloads/imgs/imgs/xmlab104/source.jpg',\n",
              "  'C:/Users/ASUS/Downloads/imgs/imgs/xmlab104/source.jpg',\n",
              "  'C:/Users/ASUS/Downloads/imgs/imgs/xmlab104/source.jpg',\n",
              "  'C:/Users/ASUS/Downloads/imgs/imgs/xmlab104/source.jpg',\n",
              "  'C:/Users/ASUS/Downloads/imgs/imgs/xmlab107/source.jpg',\n",
              "  'C:/Users/ASUS/Downloads/imgs/imgs/xmlab107/source.jpg',\n",
              "  'C:/Users/ASUS/Downloads/imgs/imgs/xmlab107/source.jpg',\n",
              "  'C:/Users/ASUS/Downloads/imgs/imgs/xmlab107/source.jpg',\n",
              "  'C:/Users/ASUS/Downloads/imgs/imgs/xmlab107/source.jpg',\n",
              "  'C:/Users/ASUS/Downloads/imgs/imgs/xmlab107/source.jpg',\n",
              "  'C:/Users/ASUS/Downloads/imgs/imgs/xmlab107/source.jpg',\n",
              "  'C:/Users/ASUS/Downloads/imgs/imgs/xmlab107/source.jpg',\n",
              "  'C:/Users/ASUS/Downloads/imgs/imgs/xmlab107/source.jpg',\n",
              "  'C:/Users/ASUS/Downloads/imgs/imgs/xmlab107/source.jpg',\n",
              "  'C:/Users/ASUS/Downloads/imgs/imgs/xmlab108/source.jpg',\n",
              "  'C:/Users/ASUS/Downloads/imgs/imgs/xmlab108/source.jpg',\n",
              "  'C:/Users/ASUS/Downloads/imgs/imgs/xmlab108/source.jpg',\n",
              "  'C:/Users/ASUS/Downloads/imgs/imgs/xmlab108/source.jpg',\n",
              "  'C:/Users/ASUS/Downloads/imgs/imgs/xmlab108/source.jpg',\n",
              "  'C:/Users/ASUS/Downloads/imgs/imgs/xmlab108/source.jpg',\n",
              "  'C:/Users/ASUS/Downloads/imgs/imgs/xmlab108/source.jpg',\n",
              "  'C:/Users/ASUS/Downloads/imgs/imgs/xmlab108/source.jpg',\n",
              "  'C:/Users/ASUS/Downloads/imgs/imgs/xmlab108/source.jpg',\n",
              "  'C:/Users/ASUS/Downloads/imgs/imgs/xmlab108/source.jpg',\n",
              "  'C:/Users/ASUS/Downloads/imgs/imgs/xmlab108/source.jpg',\n",
              "  'C:/Users/ASUS/Downloads/imgs/imgs/xmlab109/source.jpg',\n",
              "  'C:/Users/ASUS/Downloads/imgs/imgs/xmlab109/source.jpg',\n",
              "  'C:/Users/ASUS/Downloads/imgs/imgs/xmlab109/source.jpg',\n",
              "  'C:/Users/ASUS/Downloads/imgs/imgs/xmlab109/source.jpg',\n",
              "  'C:/Users/ASUS/Downloads/imgs/imgs/xmlab109/source.jpg',\n",
              "  'C:/Users/ASUS/Downloads/imgs/imgs/xmlab109/source.jpg',\n",
              "  'C:/Users/ASUS/Downloads/imgs/imgs/xmlab109/source.jpg',\n",
              "  'C:/Users/ASUS/Downloads/imgs/imgs/xmlab109/source.jpg',\n",
              "  'C:/Users/ASUS/Downloads/imgs/imgs/xmlab109/source.jpg',\n",
              "  'C:/Users/ASUS/Downloads/imgs/imgs/xmlab109/source.jpg',\n",
              "  'C:/Users/ASUS/Downloads/imgs/imgs/xmlab109/source.jpg',\n",
              "  'C:/Users/ASUS/Downloads/imgs/imgs/xmlab11/source.jpg',\n",
              "  'C:/Users/ASUS/Downloads/imgs/imgs/xmlab11/source.jpg',\n",
              "  'C:/Users/ASUS/Downloads/imgs/imgs/xmlab11/source.jpg',\n",
              "  'C:/Users/ASUS/Downloads/imgs/imgs/xmlab11/source.jpg',\n",
              "  'C:/Users/ASUS/Downloads/imgs/imgs/xmlab11/source.jpg',\n",
              "  'C:/Users/ASUS/Downloads/imgs/imgs/xmlab11/source.jpg',\n",
              "  'C:/Users/ASUS/Downloads/imgs/imgs/xmlab11/source.jpg',\n",
              "  'C:/Users/ASUS/Downloads/imgs/imgs/xmlab11/source.jpg',\n",
              "  'C:/Users/ASUS/Downloads/imgs/imgs/xmlab110/source.jpg',\n",
              "  'C:/Users/ASUS/Downloads/imgs/imgs/xmlab110/source.jpg',\n",
              "  'C:/Users/ASUS/Downloads/imgs/imgs/xmlab110/source.jpg',\n",
              "  'C:/Users/ASUS/Downloads/imgs/imgs/xmlab110/source.jpg',\n",
              "  'C:/Users/ASUS/Downloads/imgs/imgs/xmlab110/source.jpg',\n",
              "  'C:/Users/ASUS/Downloads/imgs/imgs/xmlab110/source.jpg',\n",
              "  'C:/Users/ASUS/Downloads/imgs/imgs/xmlab110/source.jpg',\n",
              "  'C:/Users/ASUS/Downloads/imgs/imgs/xmlab110/source.jpg',\n",
              "  'C:/Users/ASUS/Downloads/imgs/imgs/xmlab110/source.jpg',\n",
              "  'C:/Users/ASUS/Downloads/imgs/imgs/xmlab110/source.jpg',\n",
              "  'C:/Users/ASUS/Downloads/imgs/imgs/xmlab110/source.jpg',\n",
              "  'C:/Users/ASUS/Downloads/imgs/imgs/xmlab111/source.jpg',\n",
              "  'C:/Users/ASUS/Downloads/imgs/imgs/xmlab111/source.jpg',\n",
              "  'C:/Users/ASUS/Downloads/imgs/imgs/xmlab111/source.jpg',\n",
              "  'C:/Users/ASUS/Downloads/imgs/imgs/xmlab111/source.jpg',\n",
              "  'C:/Users/ASUS/Downloads/imgs/imgs/xmlab111/source.jpg',\n",
              "  'C:/Users/ASUS/Downloads/imgs/imgs/xmlab111/source.jpg',\n",
              "  'C:/Users/ASUS/Downloads/imgs/imgs/xmlab111/source.jpg',\n",
              "  'C:/Users/ASUS/Downloads/imgs/imgs/xmlab111/source.jpg',\n",
              "  'C:/Users/ASUS/Downloads/imgs/imgs/xmlab111/source.jpg',\n",
              "  'C:/Users/ASUS/Downloads/imgs/imgs/xmlab113/source.jpg',\n",
              "  'C:/Users/ASUS/Downloads/imgs/imgs/xmlab113/source.jpg',\n",
              "  'C:/Users/ASUS/Downloads/imgs/imgs/xmlab113/source.jpg',\n",
              "  'C:/Users/ASUS/Downloads/imgs/imgs/xmlab113/source.jpg',\n",
              "  'C:/Users/ASUS/Downloads/imgs/imgs/xmlab113/source.jpg',\n",
              "  'C:/Users/ASUS/Downloads/imgs/imgs/xmlab113/source.jpg',\n",
              "  'C:/Users/ASUS/Downloads/imgs/imgs/xmlab113/source.jpg',\n",
              "  'C:/Users/ASUS/Downloads/imgs/imgs/xmlab113/source.jpg',\n",
              "  'C:/Users/ASUS/Downloads/imgs/imgs/xmlab113/source.jpg',\n",
              "  'C:/Users/ASUS/Downloads/imgs/imgs/xmlab113/source.jpg',\n",
              "  'C:/Users/ASUS/Downloads/imgs/imgs/xmlab114/source.jpg',\n",
              "  'C:/Users/ASUS/Downloads/imgs/imgs/xmlab114/source.jpg',\n",
              "  'C:/Users/ASUS/Downloads/imgs/imgs/xmlab114/source.jpg',\n",
              "  'C:/Users/ASUS/Downloads/imgs/imgs/xmlab114/source.jpg',\n",
              "  'C:/Users/ASUS/Downloads/imgs/imgs/xmlab114/source.jpg',\n",
              "  'C:/Users/ASUS/Downloads/imgs/imgs/xmlab114/source.jpg',\n",
              "  'C:/Users/ASUS/Downloads/imgs/imgs/xmlab114/source.jpg',\n",
              "  'C:/Users/ASUS/Downloads/imgs/imgs/xmlab114/source.jpg',\n",
              "  'C:/Users/ASUS/Downloads/imgs/imgs/xmlab114/source.jpg',\n",
              "  'C:/Users/ASUS/Downloads/imgs/imgs/xmlab114/source.jpg',\n",
              "  'C:/Users/ASUS/Downloads/imgs/imgs/xmlab115/source.jpg',\n",
              "  'C:/Users/ASUS/Downloads/imgs/imgs/xmlab115/source.jpg',\n",
              "  'C:/Users/ASUS/Downloads/imgs/imgs/xmlab115/source.jpg',\n",
              "  'C:/Users/ASUS/Downloads/imgs/imgs/xmlab115/source.jpg',\n",
              "  'C:/Users/ASUS/Downloads/imgs/imgs/xmlab115/source.jpg',\n",
              "  'C:/Users/ASUS/Downloads/imgs/imgs/xmlab115/source.jpg',\n",
              "  'C:/Users/ASUS/Downloads/imgs/imgs/xmlab115/source.jpg',\n",
              "  'C:/Users/ASUS/Downloads/imgs/imgs/xmlab115/source.jpg',\n",
              "  'C:/Users/ASUS/Downloads/imgs/imgs/xmlab115/source.jpg',\n",
              "  'C:/Users/ASUS/Downloads/imgs/imgs/xmlab115/source.jpg',\n",
              "  'C:/Users/ASUS/Downloads/imgs/imgs/xmlab116/source.jpg',\n",
              "  'C:/Users/ASUS/Downloads/imgs/imgs/xmlab116/source.jpg',\n",
              "  'C:/Users/ASUS/Downloads/imgs/imgs/xmlab116/source.jpg',\n",
              "  'C:/Users/ASUS/Downloads/imgs/imgs/xmlab116/source.jpg',\n",
              "  'C:/Users/ASUS/Downloads/imgs/imgs/xmlab116/source.jpg',\n",
              "  'C:/Users/ASUS/Downloads/imgs/imgs/xmlab116/source.jpg',\n",
              "  'C:/Users/ASUS/Downloads/imgs/imgs/xmlab116/source.jpg',\n",
              "  'C:/Users/ASUS/Downloads/imgs/imgs/xmlab116/source.jpg',\n",
              "  'C:/Users/ASUS/Downloads/imgs/imgs/xmlab117/source.jpg',\n",
              "  'C:/Users/ASUS/Downloads/imgs/imgs/xmlab117/source.jpg',\n",
              "  'C:/Users/ASUS/Downloads/imgs/imgs/xmlab117/source.jpg',\n",
              "  'C:/Users/ASUS/Downloads/imgs/imgs/xmlab117/source.jpg',\n",
              "  'C:/Users/ASUS/Downloads/imgs/imgs/xmlab117/source.jpg',\n",
              "  'C:/Users/ASUS/Downloads/imgs/imgs/xmlab117/source.jpg',\n",
              "  'C:/Users/ASUS/Downloads/imgs/imgs/xmlab117/source.jpg',\n",
              "  'C:/Users/ASUS/Downloads/imgs/imgs/xmlab117/source.jpg',\n",
              "  'C:/Users/ASUS/Downloads/imgs/imgs/xmlab118/source.jpg',\n",
              "  'C:/Users/ASUS/Downloads/imgs/imgs/xmlab118/source.jpg',\n",
              "  'C:/Users/ASUS/Downloads/imgs/imgs/xmlab118/source.jpg',\n",
              "  'C:/Users/ASUS/Downloads/imgs/imgs/xmlab118/source.jpg',\n",
              "  'C:/Users/ASUS/Downloads/imgs/imgs/xmlab118/source.jpg',\n",
              "  'C:/Users/ASUS/Downloads/imgs/imgs/xmlab118/source.jpg',\n",
              "  'C:/Users/ASUS/Downloads/imgs/imgs/xmlab12/source.jpg',\n",
              "  'C:/Users/ASUS/Downloads/imgs/imgs/xmlab12/source.jpg',\n",
              "  'C:/Users/ASUS/Downloads/imgs/imgs/xmlab12/source.jpg',\n",
              "  'C:/Users/ASUS/Downloads/imgs/imgs/xmlab12/source.jpg',\n",
              "  'C:/Users/ASUS/Downloads/imgs/imgs/xmlab12/source.jpg',\n",
              "  'C:/Users/ASUS/Downloads/imgs/imgs/xmlab12/source.jpg',\n",
              "  'C:/Users/ASUS/Downloads/imgs/imgs/xmlab12/source.jpg',\n",
              "  'C:/Users/ASUS/Downloads/imgs/imgs/xmlab120/source.jpg',\n",
              "  'C:/Users/ASUS/Downloads/imgs/imgs/xmlab120/source.jpg',\n",
              "  'C:/Users/ASUS/Downloads/imgs/imgs/xmlab120/source.jpg',\n",
              "  'C:/Users/ASUS/Downloads/imgs/imgs/xmlab120/source.jpg',\n",
              "  'C:/Users/ASUS/Downloads/imgs/imgs/xmlab120/source.jpg',\n",
              "  'C:/Users/ASUS/Downloads/imgs/imgs/xmlab120/source.jpg',\n",
              "  'C:/Users/ASUS/Downloads/imgs/imgs/xmlab120/source.jpg',\n",
              "  'C:/Users/ASUS/Downloads/imgs/imgs/xmlab122/source.jpg',\n",
              "  'C:/Users/ASUS/Downloads/imgs/imgs/xmlab122/source.jpg',\n",
              "  'C:/Users/ASUS/Downloads/imgs/imgs/xmlab122/source.jpg',\n",
              "  'C:/Users/ASUS/Downloads/imgs/imgs/xmlab122/source.jpg',\n",
              "  'C:/Users/ASUS/Downloads/imgs/imgs/xmlab122/source.jpg',\n",
              "  'C:/Users/ASUS/Downloads/imgs/imgs/xmlab122/source.jpg',\n",
              "  'C:/Users/ASUS/Downloads/imgs/imgs/xmlab122/source.jpg',\n",
              "  'C:/Users/ASUS/Downloads/imgs/imgs/xmlab123/source.jpg',\n",
              "  'C:/Users/ASUS/Downloads/imgs/imgs/xmlab123/source.jpg',\n",
              "  'C:/Users/ASUS/Downloads/imgs/imgs/xmlab123/source.jpg',\n",
              "  'C:/Users/ASUS/Downloads/imgs/imgs/xmlab123/source.jpg',\n",
              "  'C:/Users/ASUS/Downloads/imgs/imgs/xmlab123/source.jpg',\n",
              "  'C:/Users/ASUS/Downloads/imgs/imgs/xmlab123/source.jpg',\n",
              "  'C:/Users/ASUS/Downloads/imgs/imgs/xmlab123/source.jpg',\n",
              "  'C:/Users/ASUS/Downloads/imgs/imgs/xmlab123/source.jpg',\n",
              "  'C:/Users/ASUS/Downloads/imgs/imgs/xmlab125/source.jpg',\n",
              "  'C:/Users/ASUS/Downloads/imgs/imgs/xmlab125/source.jpg',\n",
              "  'C:/Users/ASUS/Downloads/imgs/imgs/xmlab125/source.jpg',\n",
              "  'C:/Users/ASUS/Downloads/imgs/imgs/xmlab125/source.jpg',\n",
              "  'C:/Users/ASUS/Downloads/imgs/imgs/xmlab125/source.jpg',\n",
              "  'C:/Users/ASUS/Downloads/imgs/imgs/xmlab125/source.jpg',\n",
              "  'C:/Users/ASUS/Downloads/imgs/imgs/xmlab125/source.jpg',\n",
              "  'C:/Users/ASUS/Downloads/imgs/imgs/xmlab126/source.jpg',\n",
              "  'C:/Users/ASUS/Downloads/imgs/imgs/xmlab126/source.jpg',\n",
              "  'C:/Users/ASUS/Downloads/imgs/imgs/xmlab126/source.jpg',\n",
              "  'C:/Users/ASUS/Downloads/imgs/imgs/xmlab126/source.jpg',\n",
              "  'C:/Users/ASUS/Downloads/imgs/imgs/xmlab126/source.jpg',\n",
              "  'C:/Users/ASUS/Downloads/imgs/imgs/xmlab126/source.jpg',\n",
              "  'C:/Users/ASUS/Downloads/imgs/imgs/xmlab126/source.jpg',\n",
              "  'C:/Users/ASUS/Downloads/imgs/imgs/xmlab131/source.jpg',\n",
              "  'C:/Users/ASUS/Downloads/imgs/imgs/xmlab131/source.jpg',\n",
              "  'C:/Users/ASUS/Downloads/imgs/imgs/xmlab131/source.jpg',\n",
              "  'C:/Users/ASUS/Downloads/imgs/imgs/xmlab131/source.jpg',\n",
              "  'C:/Users/ASUS/Downloads/imgs/imgs/xmlab131/source.jpg',\n",
              "  'C:/Users/ASUS/Downloads/imgs/imgs/xmlab131/source.jpg',\n",
              "  'C:/Users/ASUS/Downloads/imgs/imgs/xmlab131/source.jpg',\n",
              "  'C:/Users/ASUS/Downloads/imgs/imgs/xmlab132/source.jpg',\n",
              "  'C:/Users/ASUS/Downloads/imgs/imgs/xmlab132/source.jpg',\n",
              "  'C:/Users/ASUS/Downloads/imgs/imgs/xmlab132/source.jpg',\n",
              "  'C:/Users/ASUS/Downloads/imgs/imgs/xmlab132/source.jpg',\n",
              "  'C:/Users/ASUS/Downloads/imgs/imgs/xmlab132/source.jpg',\n",
              "  'C:/Users/ASUS/Downloads/imgs/imgs/xmlab132/source.jpg',\n",
              "  'C:/Users/ASUS/Downloads/imgs/imgs/xmlab132/source.jpg',\n",
              "  'C:/Users/ASUS/Downloads/imgs/imgs/xmlab134/source.jpg',\n",
              "  'C:/Users/ASUS/Downloads/imgs/imgs/xmlab134/source.jpg',\n",
              "  'C:/Users/ASUS/Downloads/imgs/imgs/xmlab134/source.jpg',\n",
              "  'C:/Users/ASUS/Downloads/imgs/imgs/xmlab134/source.jpg',\n",
              "  'C:/Users/ASUS/Downloads/imgs/imgs/xmlab134/source.jpg',\n",
              "  'C:/Users/ASUS/Downloads/imgs/imgs/xmlab134/source.jpg',\n",
              "  'C:/Users/ASUS/Downloads/imgs/imgs/xmlab134/source.jpg',\n",
              "  'C:/Users/ASUS/Downloads/imgs/imgs/xmlab136/source.jpg',\n",
              "  'C:/Users/ASUS/Downloads/imgs/imgs/xmlab136/source.jpg',\n",
              "  'C:/Users/ASUS/Downloads/imgs/imgs/xmlab136/source.jpg',\n",
              "  'C:/Users/ASUS/Downloads/imgs/imgs/xmlab136/source.jpg',\n",
              "  'C:/Users/ASUS/Downloads/imgs/imgs/xmlab136/source.jpg',\n",
              "  'C:/Users/ASUS/Downloads/imgs/imgs/xmlab136/source.jpg',\n",
              "  'C:/Users/ASUS/Downloads/imgs/imgs/xmlab136/source.jpg',\n",
              "  'C:/Users/ASUS/Downloads/imgs/imgs/xmlab136/source.jpg',\n",
              "  'C:/Users/ASUS/Downloads/imgs/imgs/xmlab137/source.jpg',\n",
              "  'C:/Users/ASUS/Downloads/imgs/imgs/xmlab137/source.jpg',\n",
              "  'C:/Users/ASUS/Downloads/imgs/imgs/xmlab137/source.jpg',\n",
              "  'C:/Users/ASUS/Downloads/imgs/imgs/xmlab137/source.jpg',\n",
              "  'C:/Users/ASUS/Downloads/imgs/imgs/xmlab137/source.jpg',\n",
              "  'C:/Users/ASUS/Downloads/imgs/imgs/xmlab137/source.jpg',\n",
              "  'C:/Users/ASUS/Downloads/imgs/imgs/xmlab137/source.jpg',\n",
              "  'C:/Users/ASUS/Downloads/imgs/imgs/xmlab137/source.jpg',\n",
              "  'C:/Users/ASUS/Downloads/imgs/imgs/xmlab138/source.jpg',\n",
              "  'C:/Users/ASUS/Downloads/imgs/imgs/xmlab138/source.jpg',\n",
              "  'C:/Users/ASUS/Downloads/imgs/imgs/xmlab138/source.jpg',\n",
              "  'C:/Users/ASUS/Downloads/imgs/imgs/xmlab138/source.jpg',\n",
              "  'C:/Users/ASUS/Downloads/imgs/imgs/xmlab138/source.jpg',\n",
              "  'C:/Users/ASUS/Downloads/imgs/imgs/xmlab138/source.jpg',\n",
              "  'C:/Users/ASUS/Downloads/imgs/imgs/xmlab138/source.jpg',\n",
              "  'C:/Users/ASUS/Downloads/imgs/imgs/xmlab14/source.jpg',\n",
              "  'C:/Users/ASUS/Downloads/imgs/imgs/xmlab14/source.jpg',\n",
              "  'C:/Users/ASUS/Downloads/imgs/imgs/xmlab14/source.jpg',\n",
              "  'C:/Users/ASUS/Downloads/imgs/imgs/xmlab14/source.jpg',\n",
              "  'C:/Users/ASUS/Downloads/imgs/imgs/xmlab14/source.jpg',\n",
              "  'C:/Users/ASUS/Downloads/imgs/imgs/xmlab14/source.jpg',\n",
              "  'C:/Users/ASUS/Downloads/imgs/imgs/xmlab14/source.jpg',\n",
              "  'C:/Users/ASUS/Downloads/imgs/imgs/xmlab14/source.jpg',\n",
              "  'C:/Users/ASUS/Downloads/imgs/imgs/xmlab140/source.jpg',\n",
              "  'C:/Users/ASUS/Downloads/imgs/imgs/xmlab140/source.jpg',\n",
              "  'C:/Users/ASUS/Downloads/imgs/imgs/xmlab140/source.jpg',\n",
              "  'C:/Users/ASUS/Downloads/imgs/imgs/xmlab140/source.jpg',\n",
              "  'C:/Users/ASUS/Downloads/imgs/imgs/xmlab140/source.jpg',\n",
              "  'C:/Users/ASUS/Downloads/imgs/imgs/xmlab140/source.jpg',\n",
              "  'C:/Users/ASUS/Downloads/imgs/imgs/xmlab140/source.jpg',\n",
              "  'C:/Users/ASUS/Downloads/imgs/imgs/xmlab140/source.jpg',\n",
              "  'C:/Users/ASUS/Downloads/imgs/imgs/xmlab141/source.jpg',\n",
              "  'C:/Users/ASUS/Downloads/imgs/imgs/xmlab141/source.jpg',\n",
              "  'C:/Users/ASUS/Downloads/imgs/imgs/xmlab141/source.jpg',\n",
              "  'C:/Users/ASUS/Downloads/imgs/imgs/xmlab141/source.jpg',\n",
              "  'C:/Users/ASUS/Downloads/imgs/imgs/xmlab141/source.jpg',\n",
              "  'C:/Users/ASUS/Downloads/imgs/imgs/xmlab141/source.jpg',\n",
              "  'C:/Users/ASUS/Downloads/imgs/imgs/xmlab141/source.jpg',\n",
              "  'C:/Users/ASUS/Downloads/imgs/imgs/xmlab141/source.jpg',\n",
              "  'C:/Users/ASUS/Downloads/imgs/imgs/xmlab143/source.jpg',\n",
              "  'C:/Users/ASUS/Downloads/imgs/imgs/xmlab143/source.jpg',\n",
              "  'C:/Users/ASUS/Downloads/imgs/imgs/xmlab143/source.jpg',\n",
              "  'C:/Users/ASUS/Downloads/imgs/imgs/xmlab143/source.jpg',\n",
              "  'C:/Users/ASUS/Downloads/imgs/imgs/xmlab143/source.jpg',\n",
              "  'C:/Users/ASUS/Downloads/imgs/imgs/xmlab143/source.jpg',\n",
              "  'C:/Users/ASUS/Downloads/imgs/imgs/xmlab143/source.jpg',\n",
              "  'C:/Users/ASUS/Downloads/imgs/imgs/xmlab143/source.jpg',\n",
              "  'C:/Users/ASUS/Downloads/imgs/imgs/xmlab144/source.jpg',\n",
              "  'C:/Users/ASUS/Downloads/imgs/imgs/xmlab144/source.jpg',\n",
              "  'C:/Users/ASUS/Downloads/imgs/imgs/xmlab144/source.jpg',\n",
              "  'C:/Users/ASUS/Downloads/imgs/imgs/xmlab144/source.jpg',\n",
              "  'C:/Users/ASUS/Downloads/imgs/imgs/xmlab144/source.jpg',\n",
              "  'C:/Users/ASUS/Downloads/imgs/imgs/xmlab144/source.jpg',\n",
              "  'C:/Users/ASUS/Downloads/imgs/imgs/xmlab144/source.jpg',\n",
              "  'C:/Users/ASUS/Downloads/imgs/imgs/xmlab144/source.jpg',\n",
              "  'C:/Users/ASUS/Downloads/imgs/imgs/xmlab145/source.jpg',\n",
              "  'C:/Users/ASUS/Downloads/imgs/imgs/xmlab145/source.jpg',\n",
              "  'C:/Users/ASUS/Downloads/imgs/imgs/xmlab145/source.jpg',\n",
              "  'C:/Users/ASUS/Downloads/imgs/imgs/xmlab145/source.jpg',\n",
              "  'C:/Users/ASUS/Downloads/imgs/imgs/xmlab145/source.jpg',\n",
              "  'C:/Users/ASUS/Downloads/imgs/imgs/xmlab145/source.jpg',\n",
              "  'C:/Users/ASUS/Downloads/imgs/imgs/xmlab145/source.jpg',\n",
              "  'C:/Users/ASUS/Downloads/imgs/imgs/xmlab145/source.jpg',\n",
              "  'C:/Users/ASUS/Downloads/imgs/imgs/xmlab15/source.jpg',\n",
              "  'C:/Users/ASUS/Downloads/imgs/imgs/xmlab15/source.jpg',\n",
              "  'C:/Users/ASUS/Downloads/imgs/imgs/xmlab15/source.jpg',\n",
              "  'C:/Users/ASUS/Downloads/imgs/imgs/xmlab15/source.jpg',\n",
              "  'C:/Users/ASUS/Downloads/imgs/imgs/xmlab15/source.jpg',\n",
              "  'C:/Users/ASUS/Downloads/imgs/imgs/xmlab15/source.jpg',\n",
              "  'C:/Users/ASUS/Downloads/imgs/imgs/xmlab15/source.jpg',\n",
              "  'C:/Users/ASUS/Downloads/imgs/imgs/xmlab150/source.jpg',\n",
              "  'C:/Users/ASUS/Downloads/imgs/imgs/xmlab150/source.jpg',\n",
              "  'C:/Users/ASUS/Downloads/imgs/imgs/xmlab150/source.jpg',\n",
              "  'C:/Users/ASUS/Downloads/imgs/imgs/xmlab150/source.jpg',\n",
              "  'C:/Users/ASUS/Downloads/imgs/imgs/xmlab150/source.jpg',\n",
              "  'C:/Users/ASUS/Downloads/imgs/imgs/xmlab150/source.jpg',\n",
              "  'C:/Users/ASUS/Downloads/imgs/imgs/xmlab150/source.jpg',\n",
              "  'C:/Users/ASUS/Downloads/imgs/imgs/xmlab151/source.jpg',\n",
              "  'C:/Users/ASUS/Downloads/imgs/imgs/xmlab151/source.jpg',\n",
              "  'C:/Users/ASUS/Downloads/imgs/imgs/xmlab151/source.jpg',\n",
              "  'C:/Users/ASUS/Downloads/imgs/imgs/xmlab151/source.jpg',\n",
              "  'C:/Users/ASUS/Downloads/imgs/imgs/xmlab151/source.jpg',\n",
              "  'C:/Users/ASUS/Downloads/imgs/imgs/xmlab151/source.jpg',\n",
              "  'C:/Users/ASUS/Downloads/imgs/imgs/xmlab151/source.jpg',\n",
              "  'C:/Users/ASUS/Downloads/imgs/imgs/xmlab153/source.jpg',\n",
              "  'C:/Users/ASUS/Downloads/imgs/imgs/xmlab153/source.jpg',\n",
              "  'C:/Users/ASUS/Downloads/imgs/imgs/xmlab153/source.jpg',\n",
              "  'C:/Users/ASUS/Downloads/imgs/imgs/xmlab153/source.jpg',\n",
              "  'C:/Users/ASUS/Downloads/imgs/imgs/xmlab153/source.jpg',\n",
              "  'C:/Users/ASUS/Downloads/imgs/imgs/xmlab153/source.jpg',\n",
              "  'C:/Users/ASUS/Downloads/imgs/imgs/xmlab153/source.jpg',\n",
              "  'C:/Users/ASUS/Downloads/imgs/imgs/xmlab154/source.jpg',\n",
              "  'C:/Users/ASUS/Downloads/imgs/imgs/xmlab154/source.jpg',\n",
              "  'C:/Users/ASUS/Downloads/imgs/imgs/xmlab154/source.jpg',\n",
              "  'C:/Users/ASUS/Downloads/imgs/imgs/xmlab154/source.jpg',\n",
              "  'C:/Users/ASUS/Downloads/imgs/imgs/xmlab154/source.jpg',\n",
              "  'C:/Users/ASUS/Downloads/imgs/imgs/xmlab154/source.jpg',\n",
              "  'C:/Users/ASUS/Downloads/imgs/imgs/xmlab154/source.jpg',\n",
              "  'C:/Users/ASUS/Downloads/imgs/imgs/xmlab154/source.jpg',\n",
              "  'C:/Users/ASUS/Downloads/imgs/imgs/xmlab155/source.jpg',\n",
              "  'C:/Users/ASUS/Downloads/imgs/imgs/xmlab155/source.jpg',\n",
              "  'C:/Users/ASUS/Downloads/imgs/imgs/xmlab155/source.jpg',\n",
              "  'C:/Users/ASUS/Downloads/imgs/imgs/xmlab155/source.jpg',\n",
              "  'C:/Users/ASUS/Downloads/imgs/imgs/xmlab155/source.jpg',\n",
              "  'C:/Users/ASUS/Downloads/imgs/imgs/xmlab155/source.jpg',\n",
              "  'C:/Users/ASUS/Downloads/imgs/imgs/xmlab155/source.jpg',\n",
              "  'C:/Users/ASUS/Downloads/imgs/imgs/xmlab155/source.jpg',\n",
              "  'C:/Users/ASUS/Downloads/imgs/imgs/xmlab156/source.jpg',\n",
              "  'C:/Users/ASUS/Downloads/imgs/imgs/xmlab156/source.jpg',\n",
              "  'C:/Users/ASUS/Downloads/imgs/imgs/xmlab156/source.jpg',\n",
              "  'C:/Users/ASUS/Downloads/imgs/imgs/xmlab156/source.jpg',\n",
              "  'C:/Users/ASUS/Downloads/imgs/imgs/xmlab156/source.jpg',\n",
              "  'C:/Users/ASUS/Downloads/imgs/imgs/xmlab156/source.jpg',\n",
              "  'C:/Users/ASUS/Downloads/imgs/imgs/xmlab156/source.jpg',\n",
              "  'C:/Users/ASUS/Downloads/imgs/imgs/xmlab156/source.jpg',\n",
              "  'C:/Users/ASUS/Downloads/imgs/imgs/xmlab156/source.jpg',\n",
              "  'C:/Users/ASUS/Downloads/imgs/imgs/xmlab158/source.jpg',\n",
              "  'C:/Users/ASUS/Downloads/imgs/imgs/xmlab158/source.jpg',\n",
              "  'C:/Users/ASUS/Downloads/imgs/imgs/xmlab158/source.jpg',\n",
              "  'C:/Users/ASUS/Downloads/imgs/imgs/xmlab158/source.jpg',\n",
              "  'C:/Users/ASUS/Downloads/imgs/imgs/xmlab158/source.jpg',\n",
              "  'C:/Users/ASUS/Downloads/imgs/imgs/xmlab158/source.jpg',\n",
              "  'C:/Users/ASUS/Downloads/imgs/imgs/xmlab158/source.jpg',\n",
              "  'C:/Users/ASUS/Downloads/imgs/imgs/xmlab16/source.jpg',\n",
              "  'C:/Users/ASUS/Downloads/imgs/imgs/xmlab16/source.jpg',\n",
              "  'C:/Users/ASUS/Downloads/imgs/imgs/xmlab16/source.jpg',\n",
              "  'C:/Users/ASUS/Downloads/imgs/imgs/xmlab16/source.jpg',\n",
              "  'C:/Users/ASUS/Downloads/imgs/imgs/xmlab16/source.jpg',\n",
              "  'C:/Users/ASUS/Downloads/imgs/imgs/xmlab16/source.jpg',\n",
              "  'C:/Users/ASUS/Downloads/imgs/imgs/xmlab16/source.jpg',\n",
              "  'C:/Users/ASUS/Downloads/imgs/imgs/xmlab161/source.jpg',\n",
              "  'C:/Users/ASUS/Downloads/imgs/imgs/xmlab161/source.jpg',\n",
              "  'C:/Users/ASUS/Downloads/imgs/imgs/xmlab161/source.jpg',\n",
              "  'C:/Users/ASUS/Downloads/imgs/imgs/xmlab161/source.jpg',\n",
              "  'C:/Users/ASUS/Downloads/imgs/imgs/xmlab161/source.jpg',\n",
              "  'C:/Users/ASUS/Downloads/imgs/imgs/xmlab161/source.jpg',\n",
              "  'C:/Users/ASUS/Downloads/imgs/imgs/xmlab161/source.jpg',\n",
              "  'C:/Users/ASUS/Downloads/imgs/imgs/xmlab162/source.jpg',\n",
              "  'C:/Users/ASUS/Downloads/imgs/imgs/xmlab162/source.jpg',\n",
              "  'C:/Users/ASUS/Downloads/imgs/imgs/xmlab162/source.jpg',\n",
              "  'C:/Users/ASUS/Downloads/imgs/imgs/xmlab162/source.jpg',\n",
              "  'C:/Users/ASUS/Downloads/imgs/imgs/xmlab162/source.jpg',\n",
              "  'C:/Users/ASUS/Downloads/imgs/imgs/xmlab162/source.jpg',\n",
              "  'C:/Users/ASUS/Downloads/imgs/imgs/xmlab162/source.jpg',\n",
              "  'C:/Users/ASUS/Downloads/imgs/imgs/xmlab163/source.jpg',\n",
              "  'C:/Users/ASUS/Downloads/imgs/imgs/xmlab163/source.jpg',\n",
              "  'C:/Users/ASUS/Downloads/imgs/imgs/xmlab163/source.jpg',\n",
              "  'C:/Users/ASUS/Downloads/imgs/imgs/xmlab163/source.jpg',\n",
              "  'C:/Users/ASUS/Downloads/imgs/imgs/xmlab163/source.jpg',\n",
              "  'C:/Users/ASUS/Downloads/imgs/imgs/xmlab163/source.jpg',\n",
              "  'C:/Users/ASUS/Downloads/imgs/imgs/xmlab163/source.jpg',\n",
              "  'C:/Users/ASUS/Downloads/imgs/imgs/xmlab163/source.jpg',\n",
              "  'C:/Users/ASUS/Downloads/imgs/imgs/xmlab163/source.jpg',\n",
              "  'C:/Users/ASUS/Downloads/imgs/imgs/xmlab165/source.jpg',\n",
              "  'C:/Users/ASUS/Downloads/imgs/imgs/xmlab165/source.jpg',\n",
              "  'C:/Users/ASUS/Downloads/imgs/imgs/xmlab165/source.jpg',\n",
              "  'C:/Users/ASUS/Downloads/imgs/imgs/xmlab165/source.jpg',\n",
              "  'C:/Users/ASUS/Downloads/imgs/imgs/xmlab165/source.jpg',\n",
              "  'C:/Users/ASUS/Downloads/imgs/imgs/xmlab165/source.jpg',\n",
              "  'C:/Users/ASUS/Downloads/imgs/imgs/xmlab165/source.jpg',\n",
              "  'C:/Users/ASUS/Downloads/imgs/imgs/xmlab165/source.jpg',\n",
              "  'C:/Users/ASUS/Downloads/imgs/imgs/xmlab166/source.jpg',\n",
              "  'C:/Users/ASUS/Downloads/imgs/imgs/xmlab166/source.jpg',\n",
              "  'C:/Users/ASUS/Downloads/imgs/imgs/xmlab166/source.jpg',\n",
              "  'C:/Users/ASUS/Downloads/imgs/imgs/xmlab166/source.jpg',\n",
              "  'C:/Users/ASUS/Downloads/imgs/imgs/xmlab166/source.jpg',\n",
              "  'C:/Users/ASUS/Downloads/imgs/imgs/xmlab166/source.jpg',\n",
              "  'C:/Users/ASUS/Downloads/imgs/imgs/xmlab166/source.jpg',\n",
              "  'C:/Users/ASUS/Downloads/imgs/imgs/xmlab166/source.jpg',\n",
              "  'C:/Users/ASUS/Downloads/imgs/imgs/xmlab167/source.jpg',\n",
              "  'C:/Users/ASUS/Downloads/imgs/imgs/xmlab167/source.jpg',\n",
              "  'C:/Users/ASUS/Downloads/imgs/imgs/xmlab167/source.jpg',\n",
              "  'C:/Users/ASUS/Downloads/imgs/imgs/xmlab167/source.jpg',\n",
              "  'C:/Users/ASUS/Downloads/imgs/imgs/xmlab167/source.jpg',\n",
              "  'C:/Users/ASUS/Downloads/imgs/imgs/xmlab167/source.jpg',\n",
              "  'C:/Users/ASUS/Downloads/imgs/imgs/xmlab167/source.jpg',\n",
              "  'C:/Users/ASUS/Downloads/imgs/imgs/xmlab167/source.jpg',\n",
              "  'C:/Users/ASUS/Downloads/imgs/imgs/xmlab167/source.jpg',\n",
              "  'C:/Users/ASUS/Downloads/imgs/imgs/xmlab168/source.jpg',\n",
              "  'C:/Users/ASUS/Downloads/imgs/imgs/xmlab168/source.jpg',\n",
              "  'C:/Users/ASUS/Downloads/imgs/imgs/xmlab168/source.jpg',\n",
              "  'C:/Users/ASUS/Downloads/imgs/imgs/xmlab168/source.jpg',\n",
              "  'C:/Users/ASUS/Downloads/imgs/imgs/xmlab168/source.jpg',\n",
              "  'C:/Users/ASUS/Downloads/imgs/imgs/xmlab168/source.jpg',\n",
              "  'C:/Users/ASUS/Downloads/imgs/imgs/xmlab168/source.jpg',\n",
              "  'C:/Users/ASUS/Downloads/imgs/imgs/xmlab168/source.jpg',\n",
              "  'C:/Users/ASUS/Downloads/imgs/imgs/xmlab17/source.jpg',\n",
              "  'C:/Users/ASUS/Downloads/imgs/imgs/xmlab17/source.jpg',\n",
              "  'C:/Users/ASUS/Downloads/imgs/imgs/xmlab17/source.jpg',\n",
              "  'C:/Users/ASUS/Downloads/imgs/imgs/xmlab17/source.jpg',\n",
              "  'C:/Users/ASUS/Downloads/imgs/imgs/xmlab17/source.jpg',\n",
              "  'C:/Users/ASUS/Downloads/imgs/imgs/xmlab17/source.jpg',\n",
              "  'C:/Users/ASUS/Downloads/imgs/imgs/xmlab171/source.jpg',\n",
              "  'C:/Users/ASUS/Downloads/imgs/imgs/xmlab171/source.jpg',\n",
              "  'C:/Users/ASUS/Downloads/imgs/imgs/xmlab171/source.jpg',\n",
              "  'C:/Users/ASUS/Downloads/imgs/imgs/xmlab171/source.jpg',\n",
              "  'C:/Users/ASUS/Downloads/imgs/imgs/xmlab171/source.jpg',\n",
              "  'C:/Users/ASUS/Downloads/imgs/imgs/xmlab171/source.jpg',\n",
              "  'C:/Users/ASUS/Downloads/imgs/imgs/xmlab171/source.jpg',\n",
              "  'C:/Users/ASUS/Downloads/imgs/imgs/xmlab171/source.jpg',\n",
              "  'C:/Users/ASUS/Downloads/imgs/imgs/xmlab171/source.jpg',\n",
              "  'C:/Users/ASUS/Downloads/imgs/imgs/xmlab172/source.jpg',\n",
              "  'C:/Users/ASUS/Downloads/imgs/imgs/xmlab172/source.jpg',\n",
              "  'C:/Users/ASUS/Downloads/imgs/imgs/xmlab172/source.jpg',\n",
              "  'C:/Users/ASUS/Downloads/imgs/imgs/xmlab172/source.jpg',\n",
              "  'C:/Users/ASUS/Downloads/imgs/imgs/xmlab172/source.jpg',\n",
              "  'C:/Users/ASUS/Downloads/imgs/imgs/xmlab172/source.jpg',\n",
              "  'C:/Users/ASUS/Downloads/imgs/imgs/xmlab172/source.jpg',\n",
              "  'C:/Users/ASUS/Downloads/imgs/imgs/xmlab172/source.jpg',\n",
              "  'C:/Users/ASUS/Downloads/imgs/imgs/xmlab172/source.jpg',\n",
              "  'C:/Users/ASUS/Downloads/imgs/imgs/xmlab174/source.jpg',\n",
              "  'C:/Users/ASUS/Downloads/imgs/imgs/xmlab174/source.jpg',\n",
              "  'C:/Users/ASUS/Downloads/imgs/imgs/xmlab174/source.jpg',\n",
              "  'C:/Users/ASUS/Downloads/imgs/imgs/xmlab174/source.jpg',\n",
              "  'C:/Users/ASUS/Downloads/imgs/imgs/xmlab174/source.jpg',\n",
              "  'C:/Users/ASUS/Downloads/imgs/imgs/xmlab174/source.jpg',\n",
              "  'C:/Users/ASUS/Downloads/imgs/imgs/xmlab174/source.jpg',\n",
              "  'C:/Users/ASUS/Downloads/imgs/imgs/xmlab174/source.jpg',\n",
              "  'C:/Users/ASUS/Downloads/imgs/imgs/xmlab175/source.jpg',\n",
              "  'C:/Users/ASUS/Downloads/imgs/imgs/xmlab175/source.jpg',\n",
              "  'C:/Users/ASUS/Downloads/imgs/imgs/xmlab175/source.jpg',\n",
              "  'C:/Users/ASUS/Downloads/imgs/imgs/xmlab175/source.jpg',\n",
              "  'C:/Users/ASUS/Downloads/imgs/imgs/xmlab175/source.jpg',\n",
              "  'C:/Users/ASUS/Downloads/imgs/imgs/xmlab175/source.jpg',\n",
              "  'C:/Users/ASUS/Downloads/imgs/imgs/xmlab175/source.jpg',\n",
              "  'C:/Users/ASUS/Downloads/imgs/imgs/xmlab175/source.jpg',\n",
              "  'C:/Users/ASUS/Downloads/imgs/imgs/xmlab175/source.jpg',\n",
              "  'C:/Users/ASUS/Downloads/imgs/imgs/xmlab176/source.jpg',\n",
              "  'C:/Users/ASUS/Downloads/imgs/imgs/xmlab176/source.jpg',\n",
              "  'C:/Users/ASUS/Downloads/imgs/imgs/xmlab176/source.jpg',\n",
              "  'C:/Users/ASUS/Downloads/imgs/imgs/xmlab176/source.jpg',\n",
              "  'C:/Users/ASUS/Downloads/imgs/imgs/xmlab176/source.jpg',\n",
              "  'C:/Users/ASUS/Downloads/imgs/imgs/xmlab176/source.jpg',\n",
              "  'C:/Users/ASUS/Downloads/imgs/imgs/xmlab176/source.jpg',\n",
              "  'C:/Users/ASUS/Downloads/imgs/imgs/xmlab176/source.jpg',\n",
              "  'C:/Users/ASUS/Downloads/imgs/imgs/xmlab177/source.jpg',\n",
              "  'C:/Users/ASUS/Downloads/imgs/imgs/xmlab177/source.jpg',\n",
              "  'C:/Users/ASUS/Downloads/imgs/imgs/xmlab177/source.jpg',\n",
              "  'C:/Users/ASUS/Downloads/imgs/imgs/xmlab177/source.jpg',\n",
              "  'C:/Users/ASUS/Downloads/imgs/imgs/xmlab177/source.jpg',\n",
              "  'C:/Users/ASUS/Downloads/imgs/imgs/xmlab177/source.jpg',\n",
              "  'C:/Users/ASUS/Downloads/imgs/imgs/xmlab177/source.jpg',\n",
              "  'C:/Users/ASUS/Downloads/imgs/imgs/xmlab177/source.jpg',\n",
              "  'C:/Users/ASUS/Downloads/imgs/imgs/xmlab178/source.jpg',\n",
              "  'C:/Users/ASUS/Downloads/imgs/imgs/xmlab178/source.jpg',\n",
              "  'C:/Users/ASUS/Downloads/imgs/imgs/xmlab178/source.jpg',\n",
              "  'C:/Users/ASUS/Downloads/imgs/imgs/xmlab178/source.jpg',\n",
              "  'C:/Users/ASUS/Downloads/imgs/imgs/xmlab178/source.jpg',\n",
              "  'C:/Users/ASUS/Downloads/imgs/imgs/xmlab178/source.jpg',\n",
              "  'C:/Users/ASUS/Downloads/imgs/imgs/xmlab178/source.jpg',\n",
              "  'C:/Users/ASUS/Downloads/imgs/imgs/xmlab179/source.jpg',\n",
              "  'C:/Users/ASUS/Downloads/imgs/imgs/xmlab179/source.jpg',\n",
              "  'C:/Users/ASUS/Downloads/imgs/imgs/xmlab179/source.jpg',\n",
              "  'C:/Users/ASUS/Downloads/imgs/imgs/xmlab179/source.jpg',\n",
              "  'C:/Users/ASUS/Downloads/imgs/imgs/xmlab179/source.jpg',\n",
              "  'C:/Users/ASUS/Downloads/imgs/imgs/xmlab179/source.jpg',\n",
              "  'C:/Users/ASUS/Downloads/imgs/imgs/xmlab179/source.jpg',\n",
              "  'C:/Users/ASUS/Downloads/imgs/imgs/xmlab179/source.jpg',\n",
              "  'C:/Users/ASUS/Downloads/imgs/imgs/xmlab180/source.jpg',\n",
              "  'C:/Users/ASUS/Downloads/imgs/imgs/xmlab180/source.jpg',\n",
              "  'C:/Users/ASUS/Downloads/imgs/imgs/xmlab180/source.jpg',\n",
              "  'C:/Users/ASUS/Downloads/imgs/imgs/xmlab180/source.jpg',\n",
              "  'C:/Users/ASUS/Downloads/imgs/imgs/xmlab180/source.jpg',\n",
              "  'C:/Users/ASUS/Downloads/imgs/imgs/xmlab180/source.jpg',\n",
              "  'C:/Users/ASUS/Downloads/imgs/imgs/xmlab180/source.jpg',\n",
              "  'C:/Users/ASUS/Downloads/imgs/imgs/xmlab180/source.jpg',\n",
              "  'C:/Users/ASUS/Downloads/imgs/imgs/xmlab181/source.jpg',\n",
              "  'C:/Users/ASUS/Downloads/imgs/imgs/xmlab181/source.jpg',\n",
              "  'C:/Users/ASUS/Downloads/imgs/imgs/xmlab181/source.jpg',\n",
              "  'C:/Users/ASUS/Downloads/imgs/imgs/xmlab181/source.jpg',\n",
              "  'C:/Users/ASUS/Downloads/imgs/imgs/xmlab181/source.jpg',\n",
              "  'C:/Users/ASUS/Downloads/imgs/imgs/xmlab181/source.jpg',\n",
              "  'C:/Users/ASUS/Downloads/imgs/imgs/xmlab181/source.jpg',\n",
              "  'C:/Users/ASUS/Downloads/imgs/imgs/xmlab181/source.jpg',\n",
              "  'C:/Users/ASUS/Downloads/imgs/imgs/xmlab182/source.jpg',\n",
              "  'C:/Users/ASUS/Downloads/imgs/imgs/xmlab182/source.jpg',\n",
              "  'C:/Users/ASUS/Downloads/imgs/imgs/xmlab182/source.jpg',\n",
              "  'C:/Users/ASUS/Downloads/imgs/imgs/xmlab182/source.jpg',\n",
              "  'C:/Users/ASUS/Downloads/imgs/imgs/xmlab182/source.jpg',\n",
              "  'C:/Users/ASUS/Downloads/imgs/imgs/xmlab182/source.jpg',\n",
              "  'C:/Users/ASUS/Downloads/imgs/imgs/xmlab182/source.jpg',\n",
              "  'C:/Users/ASUS/Downloads/imgs/imgs/xmlab182/source.jpg',\n",
              "  'C:/Users/ASUS/Downloads/imgs/imgs/xmlab182/source.jpg',\n",
              "  'C:/Users/ASUS/Downloads/imgs/imgs/xmlab183/source.jpg',\n",
              "  'C:/Users/ASUS/Downloads/imgs/imgs/xmlab183/source.jpg',\n",
              "  'C:/Users/ASUS/Downloads/imgs/imgs/xmlab183/source.jpg',\n",
              "  'C:/Users/ASUS/Downloads/imgs/imgs/xmlab183/source.jpg',\n",
              "  'C:/Users/ASUS/Downloads/imgs/imgs/xmlab183/source.jpg',\n",
              "  'C:/Users/ASUS/Downloads/imgs/imgs/xmlab183/source.jpg',\n",
              "  'C:/Users/ASUS/Downloads/imgs/imgs/xmlab183/source.jpg',\n",
              "  'C:/Users/ASUS/Downloads/imgs/imgs/xmlab183/source.jpg',\n",
              "  'C:/Users/ASUS/Downloads/imgs/imgs/xmlab183/source.jpg',\n",
              "  'C:/Users/ASUS/Downloads/imgs/imgs/xmlab184/source.jpg',\n",
              "  'C:/Users/ASUS/Downloads/imgs/imgs/xmlab184/source.jpg',\n",
              "  'C:/Users/ASUS/Downloads/imgs/imgs/xmlab184/source.jpg',\n",
              "  'C:/Users/ASUS/Downloads/imgs/imgs/xmlab184/source.jpg',\n",
              "  'C:/Users/ASUS/Downloads/imgs/imgs/xmlab184/source.jpg',\n",
              "  'C:/Users/ASUS/Downloads/imgs/imgs/xmlab184/source.jpg',\n",
              "  'C:/Users/ASUS/Downloads/imgs/imgs/xmlab184/source.jpg',\n",
              "  'C:/Users/ASUS/Downloads/imgs/imgs/xmlab184/source.jpg',\n",
              "  'C:/Users/ASUS/Downloads/imgs/imgs/xmlab184/source.jpg',\n",
              "  'C:/Users/ASUS/Downloads/imgs/imgs/xmlab186/source.jpg',\n",
              "  'C:/Users/ASUS/Downloads/imgs/imgs/xmlab186/source.jpg',\n",
              "  'C:/Users/ASUS/Downloads/imgs/imgs/xmlab186/source.jpg',\n",
              "  'C:/Users/ASUS/Downloads/imgs/imgs/xmlab186/source.jpg',\n",
              "  'C:/Users/ASUS/Downloads/imgs/imgs/xmlab186/source.jpg',\n",
              "  'C:/Users/ASUS/Downloads/imgs/imgs/xmlab186/source.jpg',\n",
              "  'C:/Users/ASUS/Downloads/imgs/imgs/xmlab186/source.jpg',\n",
              "  'C:/Users/ASUS/Downloads/imgs/imgs/xmlab186/source.jpg',\n",
              "  'C:/Users/ASUS/Downloads/imgs/imgs/xmlab187/source.jpg',\n",
              "  'C:/Users/ASUS/Downloads/imgs/imgs/xmlab187/source.jpg',\n",
              "  'C:/Users/ASUS/Downloads/imgs/imgs/xmlab187/source.jpg',\n",
              "  'C:/Users/ASUS/Downloads/imgs/imgs/xmlab187/source.jpg',\n",
              "  'C:/Users/ASUS/Downloads/imgs/imgs/xmlab187/source.jpg',\n",
              "  'C:/Users/ASUS/Downloads/imgs/imgs/xmlab187/source.jpg',\n",
              "  'C:/Users/ASUS/Downloads/imgs/imgs/xmlab187/source.jpg',\n",
              "  'C:/Users/ASUS/Downloads/imgs/imgs/xmlab187/source.jpg',\n",
              "  'C:/Users/ASUS/Downloads/imgs/imgs/xmlab187/source.jpg',\n",
              "  'C:/Users/ASUS/Downloads/imgs/imgs/xmlab188/source.jpg',\n",
              "  'C:/Users/ASUS/Downloads/imgs/imgs/xmlab188/source.jpg',\n",
              "  'C:/Users/ASUS/Downloads/imgs/imgs/xmlab188/source.jpg',\n",
              "  'C:/Users/ASUS/Downloads/imgs/imgs/xmlab188/source.jpg',\n",
              "  'C:/Users/ASUS/Downloads/imgs/imgs/xmlab188/source.jpg',\n",
              "  'C:/Users/ASUS/Downloads/imgs/imgs/xmlab188/source.jpg',\n",
              "  'C:/Users/ASUS/Downloads/imgs/imgs/xmlab188/source.jpg',\n",
              "  'C:/Users/ASUS/Downloads/imgs/imgs/xmlab188/source.jpg',\n",
              "  'C:/Users/ASUS/Downloads/imgs/imgs/xmlab188/source.jpg',\n",
              "  'C:/Users/ASUS/Downloads/imgs/imgs/xmlab189/source.jpg',\n",
              "  'C:/Users/ASUS/Downloads/imgs/imgs/xmlab189/source.jpg',\n",
              "  'C:/Users/ASUS/Downloads/imgs/imgs/xmlab189/source.jpg',\n",
              "  'C:/Users/ASUS/Downloads/imgs/imgs/xmlab189/source.jpg',\n",
              "  'C:/Users/ASUS/Downloads/imgs/imgs/xmlab189/source.jpg',\n",
              "  'C:/Users/ASUS/Downloads/imgs/imgs/xmlab189/source.jpg',\n",
              "  'C:/Users/ASUS/Downloads/imgs/imgs/xmlab189/source.jpg',\n",
              "  'C:/Users/ASUS/Downloads/imgs/imgs/xmlab189/source.jpg',\n",
              "  'C:/Users/ASUS/Downloads/imgs/imgs/xmlab19/source.jpg',\n",
              "  'C:/Users/ASUS/Downloads/imgs/imgs/xmlab19/source.jpg',\n",
              "  'C:/Users/ASUS/Downloads/imgs/imgs/xmlab19/source.jpg',\n",
              "  'C:/Users/ASUS/Downloads/imgs/imgs/xmlab19/source.jpg',\n",
              "  'C:/Users/ASUS/Downloads/imgs/imgs/xmlab19/source.jpg',\n",
              "  'C:/Users/ASUS/Downloads/imgs/imgs/xmlab19/source.jpg',\n",
              "  'C:/Users/ASUS/Downloads/imgs/imgs/xmlab19/source.jpg',\n",
              "  'C:/Users/ASUS/Downloads/imgs/imgs/xmlab19/source.jpg',\n",
              "  'C:/Users/ASUS/Downloads/imgs/imgs/xmlab19/source.jpg',\n",
              "  'C:/Users/ASUS/Downloads/imgs/imgs/xmlab19/source.jpg',\n",
              "  'C:/Users/ASUS/Downloads/imgs/imgs/xmlab19/source.jpg',\n",
              "  'C:/Users/ASUS/Downloads/imgs/imgs/xmlab19/source.jpg',\n",
              "  'C:/Users/ASUS/Downloads/imgs/imgs/xmlab19/source.jpg',\n",
              "  'C:/Users/ASUS/Downloads/imgs/imgs/xmlab19/source.jpg',\n",
              "  'C:/Users/ASUS/Downloads/imgs/imgs/xmlab19/source.jpg',\n",
              "  'C:/Users/ASUS/Downloads/imgs/imgs/xmlab190/source.jpg',\n",
              "  'C:/Users/ASUS/Downloads/imgs/imgs/xmlab190/source.jpg',\n",
              "  'C:/Users/ASUS/Downloads/imgs/imgs/xmlab190/source.jpg',\n",
              "  'C:/Users/ASUS/Downloads/imgs/imgs/xmlab190/source.jpg',\n",
              "  'C:/Users/ASUS/Downloads/imgs/imgs/xmlab190/source.jpg',\n",
              "  'C:/Users/ASUS/Downloads/imgs/imgs/xmlab190/source.jpg',\n",
              "  'C:/Users/ASUS/Downloads/imgs/imgs/xmlab190/source.jpg',\n",
              "  'C:/Users/ASUS/Downloads/imgs/imgs/xmlab190/source.jpg',\n",
              "  'C:/Users/ASUS/Downloads/imgs/imgs/xmlab190/source.jpg',\n",
              "  'C:/Users/ASUS/Downloads/imgs/imgs/xmlab192/source.jpg',\n",
              "  'C:/Users/ASUS/Downloads/imgs/imgs/xmlab192/source.jpg',\n",
              "  'C:/Users/ASUS/Downloads/imgs/imgs/xmlab192/source.jpg',\n",
              "  'C:/Users/ASUS/Downloads/imgs/imgs/xmlab192/source.jpg',\n",
              "  'C:/Users/ASUS/Downloads/imgs/imgs/xmlab192/source.jpg',\n",
              "  'C:/Users/ASUS/Downloads/imgs/imgs/xmlab192/source.jpg',\n",
              "  'C:/Users/ASUS/Downloads/imgs/imgs/xmlab192/source.jpg',\n",
              "  'C:/Users/ASUS/Downloads/imgs/imgs/xmlab192/source.jpg',\n",
              "  'C:/Users/ASUS/Downloads/imgs/imgs/xmlab192/source.jpg',\n",
              "  'C:/Users/ASUS/Downloads/imgs/imgs/xmlab193/source.jpg',\n",
              "  'C:/Users/ASUS/Downloads/imgs/imgs/xmlab193/source.jpg',\n",
              "  'C:/Users/ASUS/Downloads/imgs/imgs/xmlab193/source.jpg',\n",
              "  'C:/Users/ASUS/Downloads/imgs/imgs/xmlab193/source.jpg',\n",
              "  'C:/Users/ASUS/Downloads/imgs/imgs/xmlab193/source.jpg',\n",
              "  'C:/Users/ASUS/Downloads/imgs/imgs/xmlab193/source.jpg',\n",
              "  'C:/Users/ASUS/Downloads/imgs/imgs/xmlab193/source.jpg',\n",
              "  'C:/Users/ASUS/Downloads/imgs/imgs/xmlab193/source.jpg',\n",
              "  'C:/Users/ASUS/Downloads/imgs/imgs/xmlab193/source.jpg',\n",
              "  'C:/Users/ASUS/Downloads/imgs/imgs/xmlab194/source.jpg',\n",
              "  'C:/Users/ASUS/Downloads/imgs/imgs/xmlab194/source.jpg',\n",
              "  'C:/Users/ASUS/Downloads/imgs/imgs/xmlab194/source.jpg',\n",
              "  'C:/Users/ASUS/Downloads/imgs/imgs/xmlab194/source.jpg',\n",
              "  'C:/Users/ASUS/Downloads/imgs/imgs/xmlab194/source.jpg',\n",
              "  'C:/Users/ASUS/Downloads/imgs/imgs/xmlab194/source.jpg',\n",
              "  'C:/Users/ASUS/Downloads/imgs/imgs/xmlab194/source.jpg',\n",
              "  'C:/Users/ASUS/Downloads/imgs/imgs/xmlab194/source.jpg',\n",
              "  'C:/Users/ASUS/Downloads/imgs/imgs/xmlab194/source.jpg',\n",
              "  'C:/Users/ASUS/Downloads/imgs/imgs/xmlab195/source.jpg',\n",
              "  'C:/Users/ASUS/Downloads/imgs/imgs/xmlab195/source.jpg',\n",
              "  'C:/Users/ASUS/Downloads/imgs/imgs/xmlab195/source.jpg',\n",
              "  'C:/Users/ASUS/Downloads/imgs/imgs/xmlab195/source.jpg',\n",
              "  'C:/Users/ASUS/Downloads/imgs/imgs/xmlab195/source.jpg',\n",
              "  'C:/Users/ASUS/Downloads/imgs/imgs/xmlab195/source.jpg',\n",
              "  'C:/Users/ASUS/Downloads/imgs/imgs/xmlab195/source.jpg',\n",
              "  'C:/Users/ASUS/Downloads/imgs/imgs/xmlab195/source.jpg',\n",
              "  'C:/Users/ASUS/Downloads/imgs/imgs/xmlab195/source.jpg',\n",
              "  'C:/Users/ASUS/Downloads/imgs/imgs/xmlab197/source.jpg',\n",
              "  'C:/Users/ASUS/Downloads/imgs/imgs/xmlab197/source.jpg',\n",
              "  'C:/Users/ASUS/Downloads/imgs/imgs/xmlab197/source.jpg',\n",
              "  'C:/Users/ASUS/Downloads/imgs/imgs/xmlab197/source.jpg',\n",
              "  'C:/Users/ASUS/Downloads/imgs/imgs/xmlab197/source.jpg',\n",
              "  'C:/Users/ASUS/Downloads/imgs/imgs/xmlab197/source.jpg',\n",
              "  'C:/Users/ASUS/Downloads/imgs/imgs/xmlab197/source.jpg',\n",
              "  'C:/Users/ASUS/Downloads/imgs/imgs/xmlab197/source.jpg',\n",
              "  'C:/Users/ASUS/Downloads/imgs/imgs/xmlab197/source.jpg',\n",
              "  'C:/Users/ASUS/Downloads/imgs/imgs/xmlab198/source.jpg',\n",
              "  'C:/Users/ASUS/Downloads/imgs/imgs/xmlab198/source.jpg',\n",
              "  'C:/Users/ASUS/Downloads/imgs/imgs/xmlab198/source.jpg',\n",
              "  'C:/Users/ASUS/Downloads/imgs/imgs/xmlab198/source.jpg',\n",
              "  'C:/Users/ASUS/Downloads/imgs/imgs/xmlab198/source.jpg',\n",
              "  'C:/Users/ASUS/Downloads/imgs/imgs/xmlab198/source.jpg',\n",
              "  'C:/Users/ASUS/Downloads/imgs/imgs/xmlab198/source.jpg',\n",
              "  'C:/Users/ASUS/Downloads/imgs/imgs/xmlab198/source.jpg',\n",
              "  'C:/Users/ASUS/Downloads/imgs/imgs/xmlab198/source.jpg',\n",
              "  'C:/Users/ASUS/Downloads/imgs/imgs/xmlab199/source.jpg',\n",
              "  'C:/Users/ASUS/Downloads/imgs/imgs/xmlab199/source.jpg',\n",
              "  'C:/Users/ASUS/Downloads/imgs/imgs/xmlab199/source.jpg',\n",
              "  'C:/Users/ASUS/Downloads/imgs/imgs/xmlab199/source.jpg',\n",
              "  'C:/Users/ASUS/Downloads/imgs/imgs/xmlab199/source.jpg',\n",
              "  'C:/Users/ASUS/Downloads/imgs/imgs/xmlab199/source.jpg',\n",
              "  'C:/Users/ASUS/Downloads/imgs/imgs/xmlab199/source.jpg',\n",
              "  'C:/Users/ASUS/Downloads/imgs/imgs/xmlab199/source.jpg',\n",
              "  'C:/Users/ASUS/Downloads/imgs/imgs/xmlab199/source.jpg',\n",
              "  'C:/Users/ASUS/Downloads/imgs/imgs/xmlab2/source.jpg',\n",
              "  'C:/Users/ASUS/Downloads/imgs/imgs/xmlab2/source.jpg',\n",
              "  'C:/Users/ASUS/Downloads/imgs/imgs/xmlab2/source.jpg',\n",
              "  'C:/Users/ASUS/Downloads/imgs/imgs/xmlab2/source.jpg',\n",
              "  'C:/Users/ASUS/Downloads/imgs/imgs/xmlab2/source.jpg',\n",
              "  'C:/Users/ASUS/Downloads/imgs/imgs/xmlab2/source.jpg',\n",
              "  'C:/Users/ASUS/Downloads/imgs/imgs/xmlab2/source.jpg',\n",
              "  'C:/Users/ASUS/Downloads/imgs/imgs/xmlab2/source.jpg',\n",
              "  'C:/Users/ASUS/Downloads/imgs/imgs/xmlab2/source.jpg',\n",
              "  'C:/Users/ASUS/Downloads/imgs/imgs/xmlab20/source.jpg',\n",
              "  'C:/Users/ASUS/Downloads/imgs/imgs/xmlab20/source.jpg',\n",
              "  'C:/Users/ASUS/Downloads/imgs/imgs/xmlab20/source.jpg',\n",
              "  'C:/Users/ASUS/Downloads/imgs/imgs/xmlab20/source.jpg',\n",
              "  'C:/Users/ASUS/Downloads/imgs/imgs/xmlab20/source.jpg',\n",
              "  'C:/Users/ASUS/Downloads/imgs/imgs/xmlab20/source.jpg',\n",
              "  'C:/Users/ASUS/Downloads/imgs/imgs/xmlab20/source.jpg',\n",
              "  'C:/Users/ASUS/Downloads/imgs/imgs/xmlab200/source.jpg',\n",
              "  'C:/Users/ASUS/Downloads/imgs/imgs/xmlab200/source.jpg',\n",
              "  'C:/Users/ASUS/Downloads/imgs/imgs/xmlab200/source.jpg',\n",
              "  'C:/Users/ASUS/Downloads/imgs/imgs/xmlab200/source.jpg',\n",
              "  'C:/Users/ASUS/Downloads/imgs/imgs/xmlab200/source.jpg',\n",
              "  'C:/Users/ASUS/Downloads/imgs/imgs/xmlab200/source.jpg',\n",
              "  'C:/Users/ASUS/Downloads/imgs/imgs/xmlab200/source.jpg',\n",
              "  'C:/Users/ASUS/Downloads/imgs/imgs/xmlab200/source.jpg',\n",
              "  'C:/Users/ASUS/Downloads/imgs/imgs/xmlab201/source.jpg',\n",
              "  'C:/Users/ASUS/Downloads/imgs/imgs/xmlab201/source.jpg',\n",
              "  'C:/Users/ASUS/Downloads/imgs/imgs/xmlab201/source.jpg',\n",
              "  'C:/Users/ASUS/Downloads/imgs/imgs/xmlab201/source.jpg',\n",
              "  'C:/Users/ASUS/Downloads/imgs/imgs/xmlab201/source.jpg',\n",
              "  'C:/Users/ASUS/Downloads/imgs/imgs/xmlab201/source.jpg',\n",
              "  'C:/Users/ASUS/Downloads/imgs/imgs/xmlab201/source.jpg',\n",
              "  'C:/Users/ASUS/Downloads/imgs/imgs/xmlab201/source.jpg',\n",
              "  'C:/Users/ASUS/Downloads/imgs/imgs/xmlab201/source.jpg',\n",
              "  'C:/Users/ASUS/Downloads/imgs/imgs/xmlab201/source.jpg',\n",
              "  'C:/Users/ASUS/Downloads/imgs/imgs/xmlab201/source.jpg',\n",
              "  'C:/Users/ASUS/Downloads/imgs/imgs/xmlab201/source.jpg',\n",
              "  'C:/Users/ASUS/Downloads/imgs/imgs/xmlab201/source.jpg',\n",
              "  'C:/Users/ASUS/Downloads/imgs/imgs/xmlab201/source.jpg',\n",
              "  'C:/Users/ASUS/Downloads/imgs/imgs/xmlab202/source.jpg',\n",
              "  'C:/Users/ASUS/Downloads/imgs/imgs/xmlab202/source.jpg',\n",
              "  'C:/Users/ASUS/Downloads/imgs/imgs/xmlab202/source.jpg',\n",
              "  'C:/Users/ASUS/Downloads/imgs/imgs/xmlab202/source.jpg',\n",
              "  'C:/Users/ASUS/Downloads/imgs/imgs/xmlab202/source.jpg',\n",
              "  'C:/Users/ASUS/Downloads/imgs/imgs/xmlab202/source.jpg',\n",
              "  'C:/Users/ASUS/Downloads/imgs/imgs/xmlab202/source.jpg',\n",
              "  'C:/Users/ASUS/Downloads/imgs/imgs/xmlab202/source.jpg',\n",
              "  'C:/Users/ASUS/Downloads/imgs/imgs/xmlab202/source.jpg',\n",
              "  'C:/Users/ASUS/Downloads/imgs/imgs/xmlab202/source.jpg',\n",
              "  'C:/Users/ASUS/Downloads/imgs/imgs/xmlab202/source.jpg',\n",
              "  'C:/Users/ASUS/Downloads/imgs/imgs/xmlab202/source.jpg',\n",
              "  'C:/Users/ASUS/Downloads/imgs/imgs/xmlab202/source.jpg',\n",
              "  'C:/Users/ASUS/Downloads/imgs/imgs/xmlab202/source.jpg',\n",
              "  'C:/Users/ASUS/Downloads/imgs/imgs/xmlab203/source.jpg',\n",
              "  'C:/Users/ASUS/Downloads/imgs/imgs/xmlab203/source.jpg',\n",
              "  'C:/Users/ASUS/Downloads/imgs/imgs/xmlab203/source.jpg',\n",
              "  'C:/Users/ASUS/Downloads/imgs/imgs/xmlab203/source.jpg',\n",
              "  'C:/Users/ASUS/Downloads/imgs/imgs/xmlab203/source.jpg',\n",
              "  'C:/Users/ASUS/Downloads/imgs/imgs/xmlab203/source.jpg',\n",
              "  'C:/Users/ASUS/Downloads/imgs/imgs/xmlab203/source.jpg',\n",
              "  'C:/Users/ASUS/Downloads/imgs/imgs/xmlab203/source.jpg',\n",
              "  'C:/Users/ASUS/Downloads/imgs/imgs/xmlab203/source.jpg',\n",
              "  'C:/Users/ASUS/Downloads/imgs/imgs/xmlab203/source.jpg',\n",
              "  'C:/Users/ASUS/Downloads/imgs/imgs/xmlab204/source.jpg',\n",
              "  'C:/Users/ASUS/Downloads/imgs/imgs/xmlab204/source.jpg',\n",
              "  'C:/Users/ASUS/Downloads/imgs/imgs/xmlab204/source.jpg',\n",
              "  'C:/Users/ASUS/Downloads/imgs/imgs/xmlab204/source.jpg',\n",
              "  'C:/Users/ASUS/Downloads/imgs/imgs/xmlab204/source.jpg',\n",
              "  'C:/Users/ASUS/Downloads/imgs/imgs/xmlab204/source.jpg',\n",
              "  'C:/Users/ASUS/Downloads/imgs/imgs/xmlab204/source.jpg',\n",
              "  'C:/Users/ASUS/Downloads/imgs/imgs/xmlab204/source.jpg',\n",
              "  'C:/Users/ASUS/Downloads/imgs/imgs/xmlab204/source.jpg',\n",
              "  'C:/Users/ASUS/Downloads/imgs/imgs/xmlab204/source.jpg',\n",
              "  'C:/Users/ASUS/Downloads/imgs/imgs/xmlab204/source.jpg',\n",
              "  'C:/Users/ASUS/Downloads/imgs/imgs/xmlab204/source.jpg',\n",
              "  'C:/Users/ASUS/Downloads/imgs/imgs/xmlab204/source.jpg',\n",
              "  'C:/Users/ASUS/Downloads/imgs/imgs/xmlab204/source.jpg',\n",
              "  'C:/Users/ASUS/Downloads/imgs/imgs/xmlab204/source.jpg',\n",
              "  'C:/Users/ASUS/Downloads/imgs/imgs/xmlab204/source.jpg',\n",
              "  'C:/Users/ASUS/Downloads/imgs/imgs/xmlab205/source.jpg',\n",
              "  'C:/Users/ASUS/Downloads/imgs/imgs/xmlab205/source.jpg',\n",
              "  'C:/Users/ASUS/Downloads/imgs/imgs/xmlab205/source.jpg',\n",
              "  'C:/Users/ASUS/Downloads/imgs/imgs/xmlab205/source.jpg',\n",
              "  'C:/Users/ASUS/Downloads/imgs/imgs/xmlab205/source.jpg',\n",
              "  'C:/Users/ASUS/Downloads/imgs/imgs/xmlab205/source.jpg',\n",
              "  'C:/Users/ASUS/Downloads/imgs/imgs/xmlab205/source.jpg',\n",
              "  'C:/Users/ASUS/Downloads/imgs/imgs/xmlab205/source.jpg',\n",
              "  'C:/Users/ASUS/Downloads/imgs/imgs/xmlab205/source.jpg',\n",
              "  'C:/Users/ASUS/Downloads/imgs/imgs/xmlab205/source.jpg',\n",
              "  'C:/Users/ASUS/Downloads/imgs/imgs/xmlab205/source.jpg',\n",
              "  'C:/Users/ASUS/Downloads/imgs/imgs/xmlab205/source.jpg',\n",
              "  'C:/Users/ASUS/Downloads/imgs/imgs/xmlab205/source.jpg',\n",
              "  'C:/Users/ASUS/Downloads/imgs/imgs/xmlab205/source.jpg',\n",
              "  'C:/Users/ASUS/Downloads/imgs/imgs/xmlab206/source.jpg',\n",
              "  'C:/Users/ASUS/Downloads/imgs/imgs/xmlab206/source.jpg',\n",
              "  'C:/Users/ASUS/Downloads/imgs/imgs/xmlab206/source.jpg',\n",
              "  'C:/Users/ASUS/Downloads/imgs/imgs/xmlab206/source.jpg',\n",
              "  'C:/Users/ASUS/Downloads/imgs/imgs/xmlab206/source.jpg',\n",
              "  'C:/Users/ASUS/Downloads/imgs/imgs/xmlab206/source.jpg',\n",
              "  'C:/Users/ASUS/Downloads/imgs/imgs/xmlab206/source.jpg',\n",
              "  'C:/Users/ASUS/Downloads/imgs/imgs/xmlab206/source.jpg',\n",
              "  'C:/Users/ASUS/Downloads/imgs/imgs/xmlab206/source.jpg',\n",
              "  'C:/Users/ASUS/Downloads/imgs/imgs/xmlab206/source.jpg',\n",
              "  'C:/Users/ASUS/Downloads/imgs/imgs/xmlab206/source.jpg',\n",
              "  'C:/Users/ASUS/Downloads/imgs/imgs/xmlab206/source.jpg',\n",
              "  'C:/Users/ASUS/Downloads/imgs/imgs/xmlab209/source.jpg',\n",
              "  'C:/Users/ASUS/Downloads/imgs/imgs/xmlab209/source.jpg',\n",
              "  'C:/Users/ASUS/Downloads/imgs/imgs/xmlab209/source.jpg',\n",
              "  'C:/Users/ASUS/Downloads/imgs/imgs/xmlab209/source.jpg',\n",
              "  'C:/Users/ASUS/Downloads/imgs/imgs/xmlab209/source.jpg',\n",
              "  'C:/Users/ASUS/Downloads/imgs/imgs/xmlab209/source.jpg',\n",
              "  'C:/Users/ASUS/Downloads/imgs/imgs/xmlab209/source.jpg',\n",
              "  'C:/Users/ASUS/Downloads/imgs/imgs/xmlab209/source.jpg',\n",
              "  'C:/Users/ASUS/Downloads/imgs/imgs/xmlab209/source.jpg',\n",
              "  'C:/Users/ASUS/Downloads/imgs/imgs/xmlab209/source.jpg',\n",
              "  'C:/Users/ASUS/Downloads/imgs/imgs/xmlab209/source.jpg',\n",
              "  'C:/Users/ASUS/Downloads/imgs/imgs/xmlab209/source.jpg',\n",
              "  'C:/Users/ASUS/Downloads/imgs/imgs/xmlab209/source.jpg',\n",
              "  'C:/Users/ASUS/Downloads/imgs/imgs/xmlab209/source.jpg',\n",
              "  'C:/Users/ASUS/Downloads/imgs/imgs/xmlab210/source.jpg',\n",
              "  'C:/Users/ASUS/Downloads/imgs/imgs/xmlab210/source.jpg',\n",
              "  'C:/Users/ASUS/Downloads/imgs/imgs/xmlab210/source.jpg',\n",
              "  'C:/Users/ASUS/Downloads/imgs/imgs/xmlab210/source.jpg',\n",
              "  'C:/Users/ASUS/Downloads/imgs/imgs/xmlab210/source.jpg',\n",
              "  'C:/Users/ASUS/Downloads/imgs/imgs/xmlab210/source.jpg',\n",
              "  'C:/Users/ASUS/Downloads/imgs/imgs/xmlab210/source.jpg',\n",
              "  'C:/Users/ASUS/Downloads/imgs/imgs/xmlab210/source.jpg',\n",
              "  'C:/Users/ASUS/Downloads/imgs/imgs/xmlab210/source.jpg',\n",
              "  'C:/Users/ASUS/Downloads/imgs/imgs/xmlab210/source.jpg',\n",
              "  'C:/Users/ASUS/Downloads/imgs/imgs/xmlab210/source.jpg',\n",
              "  'C:/Users/ASUS/Downloads/imgs/imgs/xmlab210/source.jpg',\n",
              "  'C:/Users/ASUS/Downloads/imgs/imgs/xmlab210/source.jpg',\n",
              "  'C:/Users/ASUS/Downloads/imgs/imgs/xmlab210/source.jpg',\n",
              "  'C:/Users/ASUS/Downloads/imgs/imgs/xmlab210/source.jpg',\n",
              "  'C:/Users/ASUS/Downloads/imgs/imgs/xmlab210/source.jpg',\n",
              "  'C:/Users/ASUS/Downloads/imgs/imgs/xmlab210/source.jpg',\n",
              "  'C:/Users/ASUS/Downloads/imgs/imgs/xmlab210/source.jpg',\n",
              "  'C:/Users/ASUS/Downloads/imgs/imgs/xmlab211/source.jpg',\n",
              "  'C:/Users/ASUS/Downloads/imgs/imgs/xmlab211/source.jpg',\n",
              "  'C:/Users/ASUS/Downloads/imgs/imgs/xmlab211/source.jpg',\n",
              "  'C:/Users/ASUS/Downloads/imgs/imgs/xmlab211/source.jpg',\n",
              "  'C:/Users/ASUS/Downloads/imgs/imgs/xmlab211/source.jpg',\n",
              "  'C:/Users/ASUS/Downloads/imgs/imgs/xmlab211/source.jpg',\n",
              "  'C:/Users/ASUS/Downloads/imgs/imgs/xmlab211/source.jpg',\n",
              "  'C:/Users/ASUS/Downloads/imgs/imgs/xmlab211/source.jpg',\n",
              "  'C:/Users/ASUS/Downloads/imgs/imgs/xmlab211/source.jpg',\n",
              "  'C:/Users/ASUS/Downloads/imgs/imgs/xmlab211/source.jpg',\n",
              "  'C:/Users/ASUS/Downloads/imgs/imgs/xmlab211/source.jpg',\n",
              "  'C:/Users/ASUS/Downloads/imgs/imgs/xmlab211/source.jpg',\n",
              "  'C:/Users/ASUS/Downloads/imgs/imgs/xmlab211/source.jpg',\n",
              "  'C:/Users/ASUS/Downloads/imgs/imgs/xmlab211/source.jpg',\n",
              "  'C:/Users/ASUS/Downloads/imgs/imgs/xmlab211/source.jpg',\n",
              "  'C:/Users/ASUS/Downloads/imgs/imgs/xmlab211/source.jpg',\n",
              "  'C:/Users/ASUS/Downloads/imgs/imgs/xmlab211/source.jpg',\n",
              "  'C:/Users/ASUS/Downloads/imgs/imgs/xmlab211/source.jpg',\n",
              "  'C:/Users/ASUS/Downloads/imgs/imgs/xmlab212/source.jpg',\n",
              "  'C:/Users/ASUS/Downloads/imgs/imgs/xmlab212/source.jpg',\n",
              "  'C:/Users/ASUS/Downloads/imgs/imgs/xmlab212/source.jpg',\n",
              "  'C:/Users/ASUS/Downloads/imgs/imgs/xmlab212/source.jpg',\n",
              "  'C:/Users/ASUS/Downloads/imgs/imgs/xmlab212/source.jpg',\n",
              "  'C:/Users/ASUS/Downloads/imgs/imgs/xmlab212/source.jpg',\n",
              "  'C:/Users/ASUS/Downloads/imgs/imgs/xmlab212/source.jpg',\n",
              "  'C:/Users/ASUS/Downloads/imgs/imgs/xmlab212/source.jpg',\n",
              "  'C:/Users/ASUS/Downloads/imgs/imgs/xmlab212/source.jpg',\n",
              "  'C:/Users/ASUS/Downloads/imgs/imgs/xmlab212/source.jpg',\n",
              "  'C:/Users/ASUS/Downloads/imgs/imgs/xmlab212/source.jpg',\n",
              "  'C:/Users/ASUS/Downloads/imgs/imgs/xmlab212/source.jpg',\n",
              "  'C:/Users/ASUS/Downloads/imgs/imgs/xmlab212/source.jpg',\n",
              "  'C:/Users/ASUS/Downloads/imgs/imgs/xmlab212/source.jpg',\n",
              "  'C:/Users/ASUS/Downloads/imgs/imgs/xmlab212/source.jpg',\n",
              "  'C:/Users/ASUS/Downloads/imgs/imgs/xmlab212/source.jpg',\n",
              "  'C:/Users/ASUS/Downloads/imgs/imgs/xmlab212/source.jpg',\n",
              "  'C:/Users/ASUS/Downloads/imgs/imgs/xmlab212/source.jpg',\n",
              "  'C:/Users/ASUS/Downloads/imgs/imgs/xmlab212/source.jpg',\n",
              "  'C:/Users/ASUS/Downloads/imgs/imgs/xmlab214/source.jpg',\n",
              "  'C:/Users/ASUS/Downloads/imgs/imgs/xmlab214/source.jpg',\n",
              "  'C:/Users/ASUS/Downloads/imgs/imgs/xmlab214/source.jpg',\n",
              "  'C:/Users/ASUS/Downloads/imgs/imgs/xmlab214/source.jpg',\n",
              "  'C:/Users/ASUS/Downloads/imgs/imgs/xmlab214/source.jpg',\n",
              "  'C:/Users/ASUS/Downloads/imgs/imgs/xmlab214/source.jpg',\n",
              "  'C:/Users/ASUS/Downloads/imgs/imgs/xmlab214/source.jpg',\n",
              "  'C:/Users/ASUS/Downloads/imgs/imgs/xmlab214/source.jpg',\n",
              "  'C:/Users/ASUS/Downloads/imgs/imgs/xmlab214/source.jpg',\n",
              "  'C:/Users/ASUS/Downloads/imgs/imgs/xmlab214/source.jpg',\n",
              "  'C:/Users/ASUS/Downloads/imgs/imgs/xmlab214/source.jpg',\n",
              "  'C:/Users/ASUS/Downloads/imgs/imgs/xmlab214/source.jpg',\n",
              "  'C:/Users/ASUS/Downloads/imgs/imgs/xmlab214/source.jpg',\n",
              "  'C:/Users/ASUS/Downloads/imgs/imgs/xmlab214/source.jpg',\n",
              "  'C:/Users/ASUS/Downloads/imgs/imgs/xmlab215/source.jpg',\n",
              "  'C:/Users/ASUS/Downloads/imgs/imgs/xmlab215/source.jpg',\n",
              "  'C:/Users/ASUS/Downloads/imgs/imgs/xmlab215/source.jpg',\n",
              "  'C:/Users/ASUS/Downloads/imgs/imgs/xmlab215/source.jpg',\n",
              "  'C:/Users/ASUS/Downloads/imgs/imgs/xmlab215/source.jpg',\n",
              "  'C:/Users/ASUS/Downloads/imgs/imgs/xmlab215/source.jpg',\n",
              "  'C:/Users/ASUS/Downloads/imgs/imgs/xmlab215/source.jpg',\n",
              "  'C:/Users/ASUS/Downloads/imgs/imgs/xmlab215/source.jpg',\n",
              "  'C:/Users/ASUS/Downloads/imgs/imgs/xmlab215/source.jpg',\n",
              "  'C:/Users/ASUS/Downloads/imgs/imgs/xmlab215/source.jpg',\n",
              "  'C:/Users/ASUS/Downloads/imgs/imgs/xmlab215/source.jpg',\n",
              "  'C:/Users/ASUS/Downloads/imgs/imgs/xmlab215/source.jpg',\n",
              "  'C:/Users/ASUS/Downloads/imgs/imgs/xmlab215/source.jpg',\n",
              "  'C:/Users/ASUS/Downloads/imgs/imgs/xmlab215/source.jpg',\n",
              "  'C:/Users/ASUS/Downloads/imgs/imgs/xmlab216/source.jpg',\n",
              "  'C:/Users/ASUS/Downloads/imgs/imgs/xmlab216/source.jpg',\n",
              "  'C:/Users/ASUS/Downloads/imgs/imgs/xmlab216/source.jpg',\n",
              "  'C:/Users/ASUS/Downloads/imgs/imgs/xmlab216/source.jpg',\n",
              "  'C:/Users/ASUS/Downloads/imgs/imgs/xmlab216/source.jpg',\n",
              "  'C:/Users/ASUS/Downloads/imgs/imgs/xmlab216/source.jpg',\n",
              "  'C:/Users/ASUS/Downloads/imgs/imgs/xmlab216/source.jpg',\n",
              "  'C:/Users/ASUS/Downloads/imgs/imgs/xmlab216/source.jpg',\n",
              "  'C:/Users/ASUS/Downloads/imgs/imgs/xmlab216/source.jpg',\n",
              "  'C:/Users/ASUS/Downloads/imgs/imgs/xmlab216/source.jpg',\n",
              "  'C:/Users/ASUS/Downloads/imgs/imgs/xmlab216/source.jpg',\n",
              "  'C:/Users/ASUS/Downloads/imgs/imgs/xmlab216/source.jpg',\n",
              "  'C:/Users/ASUS/Downloads/imgs/imgs/xmlab216/source.jpg',\n",
              "  'C:/Users/ASUS/Downloads/imgs/imgs/xmlab216/source.jpg',\n",
              "  'C:/Users/ASUS/Downloads/imgs/imgs/xmlab217/source.jpg',\n",
              "  'C:/Users/ASUS/Downloads/imgs/imgs/xmlab217/source.jpg',\n",
              "  'C:/Users/ASUS/Downloads/imgs/imgs/xmlab217/source.jpg',\n",
              "  'C:/Users/ASUS/Downloads/imgs/imgs/xmlab217/source.jpg',\n",
              "  'C:/Users/ASUS/Downloads/imgs/imgs/xmlab217/source.jpg',\n",
              "  'C:/Users/ASUS/Downloads/imgs/imgs/xmlab217/source.jpg',\n",
              "  'C:/Users/ASUS/Downloads/imgs/imgs/xmlab217/source.jpg',\n",
              "  'C:/Users/ASUS/Downloads/imgs/imgs/xmlab217/source.jpg',\n",
              "  'C:/Users/ASUS/Downloads/imgs/imgs/xmlab217/source.jpg',\n",
              "  'C:/Users/ASUS/Downloads/imgs/imgs/xmlab217/source.jpg',\n",
              "  'C:/Users/ASUS/Downloads/imgs/imgs/xmlab217/source.jpg',\n",
              "  'C:/Users/ASUS/Downloads/imgs/imgs/xmlab217/source.jpg',\n",
              "  'C:/Users/ASUS/Downloads/imgs/imgs/xmlab217/source.jpg',\n",
              "  'C:/Users/ASUS/Downloads/imgs/imgs/xmlab217/source.jpg',\n",
              "  'C:/Users/ASUS/Downloads/imgs/imgs/xmlab218/source.jpg',\n",
              "  'C:/Users/ASUS/Downloads/imgs/imgs/xmlab218/source.jpg',\n",
              "  'C:/Users/ASUS/Downloads/imgs/imgs/xmlab218/source.jpg',\n",
              "  'C:/Users/ASUS/Downloads/imgs/imgs/xmlab218/source.jpg',\n",
              "  'C:/Users/ASUS/Downloads/imgs/imgs/xmlab218/source.jpg',\n",
              "  'C:/Users/ASUS/Downloads/imgs/imgs/xmlab218/source.jpg',\n",
              "  'C:/Users/ASUS/Downloads/imgs/imgs/xmlab218/source.jpg',\n",
              "  'C:/Users/ASUS/Downloads/imgs/imgs/xmlab218/source.jpg',\n",
              "  'C:/Users/ASUS/Downloads/imgs/imgs/xmlab218/source.jpg',\n",
              "  'C:/Users/ASUS/Downloads/imgs/imgs/xmlab218/source.jpg',\n",
              "  'C:/Users/ASUS/Downloads/imgs/imgs/xmlab218/source.jpg',\n",
              "  'C:/Users/ASUS/Downloads/imgs/imgs/xmlab218/source.jpg',\n",
              "  'C:/Users/ASUS/Downloads/imgs/imgs/xmlab218/source.jpg',\n",
              "  'C:/Users/ASUS/Downloads/imgs/imgs/xmlab218/source.jpg',\n",
              "  'C:/Users/ASUS/Downloads/imgs/imgs/xmlab218/source.jpg',\n",
              "  'C:/Users/ASUS/Downloads/imgs/imgs/xmlab218/source.jpg',\n",
              "  'C:/Users/ASUS/Downloads/imgs/imgs/xmlab220/source.jpg',\n",
              "  'C:/Users/ASUS/Downloads/imgs/imgs/xmlab220/source.jpg',\n",
              "  'C:/Users/ASUS/Downloads/imgs/imgs/xmlab220/source.jpg',\n",
              "  'C:/Users/ASUS/Downloads/imgs/imgs/xmlab220/source.jpg',\n",
              "  'C:/Users/ASUS/Downloads/imgs/imgs/xmlab220/source.jpg',\n",
              "  'C:/Users/ASUS/Downloads/imgs/imgs/xmlab220/source.jpg',\n",
              "  'C:/Users/ASUS/Downloads/imgs/imgs/xmlab220/source.jpg',\n",
              "  'C:/Users/ASUS/Downloads/imgs/imgs/xmlab220/source.jpg',\n",
              "  'C:/Users/ASUS/Downloads/imgs/imgs/xmlab220/source.jpg',\n",
              "  'C:/Users/ASUS/Downloads/imgs/imgs/xmlab220/source.jpg',\n",
              "  'C:/Users/ASUS/Downloads/imgs/imgs/xmlab220/source.jpg',\n",
              "  'C:/Users/ASUS/Downloads/imgs/imgs/xmlab220/source.jpg',\n",
              "  'C:/Users/ASUS/Downloads/imgs/imgs/xmlab221/source.jpg',\n",
              "  'C:/Users/ASUS/Downloads/imgs/imgs/xmlab221/source.jpg',\n",
              "  'C:/Users/ASUS/Downloads/imgs/imgs/xmlab221/source.jpg',\n",
              "  'C:/Users/ASUS/Downloads/imgs/imgs/xmlab221/source.jpg',\n",
              "  'C:/Users/ASUS/Downloads/imgs/imgs/xmlab221/source.jpg',\n",
              "  'C:/Users/ASUS/Downloads/imgs/imgs/xmlab221/source.jpg',\n",
              "  'C:/Users/ASUS/Downloads/imgs/imgs/xmlab221/source.jpg',\n",
              "  'C:/Users/ASUS/Downloads/imgs/imgs/xmlab221/source.jpg',\n",
              "  'C:/Users/ASUS/Downloads/imgs/imgs/xmlab221/source.jpg',\n",
              "  'C:/Users/ASUS/Downloads/imgs/imgs/xmlab221/source.jpg',\n",
              "  'C:/Users/ASUS/Downloads/imgs/imgs/xmlab221/source.jpg',\n",
              "  'C:/Users/ASUS/Downloads/imgs/imgs/xmlab221/source.jpg',\n",
              "  'C:/Users/ASUS/Downloads/imgs/imgs/xmlab221/source.jpg',\n",
              "  'C:/Users/ASUS/Downloads/imgs/imgs/xmlab221/source.jpg',\n",
              "  'C:/Users/ASUS/Downloads/imgs/imgs/xmlab221/source.jpg',\n",
              "  'C:/Users/ASUS/Downloads/imgs/imgs/xmlab221/source.jpg',\n",
              "  'C:/Users/ASUS/Downloads/imgs/imgs/xmlab222/source.jpg',\n",
              "  'C:/Users/ASUS/Downloads/imgs/imgs/xmlab222/source.jpg',\n",
              "  'C:/Users/ASUS/Downloads/imgs/imgs/xmlab222/source.jpg',\n",
              "  'C:/Users/ASUS/Downloads/imgs/imgs/xmlab222/source.jpg',\n",
              "  'C:/Users/ASUS/Downloads/imgs/imgs/xmlab222/source.jpg',\n",
              "  'C:/Users/ASUS/Downloads/imgs/imgs/xmlab222/source.jpg',\n",
              "  'C:/Users/ASUS/Downloads/imgs/imgs/xmlab222/source.jpg',\n",
              "  'C:/Users/ASUS/Downloads/imgs/imgs/xmlab222/source.jpg',\n",
              "  'C:/Users/ASUS/Downloads/imgs/imgs/xmlab222/source.jpg',\n",
              "  'C:/Users/ASUS/Downloads/imgs/imgs/xmlab222/source.jpg',\n",
              "  'C:/Users/ASUS/Downloads/imgs/imgs/xmlab222/source.jpg',\n",
              "  'C:/Users/ASUS/Downloads/imgs/imgs/xmlab222/source.jpg',\n",
              "  'C:/Users/ASUS/Downloads/imgs/imgs/xmlab223/source.jpg',\n",
              "  'C:/Users/ASUS/Downloads/imgs/imgs/xmlab223/source.jpg',\n",
              "  'C:/Users/ASUS/Downloads/imgs/imgs/xmlab223/source.jpg',\n",
              "  'C:/Users/ASUS/Downloads/imgs/imgs/xmlab223/source.jpg',\n",
              "  'C:/Users/ASUS/Downloads/imgs/imgs/xmlab223/source.jpg',\n",
              "  'C:/Users/ASUS/Downloads/imgs/imgs/xmlab223/source.jpg',\n",
              "  'C:/Users/ASUS/Downloads/imgs/imgs/xmlab223/source.jpg',\n",
              "  'C:/Users/ASUS/Downloads/imgs/imgs/xmlab223/source.jpg',\n",
              "  'C:/Users/ASUS/Downloads/imgs/imgs/xmlab223/source.jpg',\n",
              "  'C:/Users/ASUS/Downloads/imgs/imgs/xmlab223/source.jpg',\n",
              "  'C:/Users/ASUS/Downloads/imgs/imgs/xmlab223/source.jpg',\n",
              "  'C:/Users/ASUS/Downloads/imgs/imgs/xmlab223/source.jpg',\n",
              "  'C:/Users/ASUS/Downloads/imgs/imgs/xmlab223/source.jpg',\n",
              "  'C:/Users/ASUS/Downloads/imgs/imgs/xmlab225/source.jpg',\n",
              "  'C:/Users/ASUS/Downloads/imgs/imgs/xmlab225/source.jpg',\n",
              "  'C:/Users/ASUS/Downloads/imgs/imgs/xmlab225/source.jpg',\n",
              "  'C:/Users/ASUS/Downloads/imgs/imgs/xmlab225/source.jpg',\n",
              "  'C:/Users/ASUS/Downloads/imgs/imgs/xmlab225/source.jpg',\n",
              "  'C:/Users/ASUS/Downloads/imgs/imgs/xmlab225/source.jpg',\n",
              "  'C:/Users/ASUS/Downloads/imgs/imgs/xmlab225/source.jpg',\n",
              "  'C:/Users/ASUS/Downloads/imgs/imgs/xmlab225/source.jpg',\n",
              "  'C:/Users/ASUS/Downloads/imgs/imgs/xmlab225/source.jpg',\n",
              "  'C:/Users/ASUS/Downloads/imgs/imgs/xmlab225/source.jpg',\n",
              "  'C:/Users/ASUS/Downloads/imgs/imgs/xmlab225/source.jpg',\n",
              "  'C:/Users/ASUS/Downloads/imgs/imgs/xmlab225/source.jpg',\n",
              "  'C:/Users/ASUS/Downloads/imgs/imgs/xmlab225/source.jpg',\n",
              "  'C:/Users/ASUS/Downloads/imgs/imgs/xmlab225/source.jpg',\n",
              "  'C:/Users/ASUS/Downloads/imgs/imgs/xmlab225/source.jpg',\n",
              "  'C:/Users/ASUS/Downloads/imgs/imgs/xmlab225/source.jpg',\n",
              "  'C:/Users/ASUS/Downloads/imgs/imgs/xmlab226/source.jpg',\n",
              "  'C:/Users/ASUS/Downloads/imgs/imgs/xmlab226/source.jpg',\n",
              "  'C:/Users/ASUS/Downloads/imgs/imgs/xmlab226/source.jpg',\n",
              "  'C:/Users/ASUS/Downloads/imgs/imgs/xmlab226/source.jpg',\n",
              "  'C:/Users/ASUS/Downloads/imgs/imgs/xmlab226/source.jpg',\n",
              "  'C:/Users/ASUS/Downloads/imgs/imgs/xmlab226/source.jpg',\n",
              "  'C:/Users/ASUS/Downloads/imgs/imgs/xmlab226/source.jpg',\n",
              "  'C:/Users/ASUS/Downloads/imgs/imgs/xmlab226/source.jpg',\n",
              "  'C:/Users/ASUS/Downloads/imgs/imgs/xmlab226/source.jpg',\n",
              "  'C:/Users/ASUS/Downloads/imgs/imgs/xmlab226/source.jpg',\n",
              "  'C:/Users/ASUS/Downloads/imgs/imgs/xmlab226/source.jpg',\n",
              "  'C:/Users/ASUS/Downloads/imgs/imgs/xmlab226/source.jpg',\n",
              "  'C:/Users/ASUS/Downloads/imgs/imgs/xmlab226/source.jpg',\n",
              "  'C:/Users/ASUS/Downloads/imgs/imgs/xmlab226/source.jpg',\n",
              "  'C:/Users/ASUS/Downloads/imgs/imgs/xmlab226/source.jpg',\n",
              "  'C:/Users/ASUS/Downloads/imgs/imgs/xmlab226/source.jpg',\n",
              "  'C:/Users/ASUS/Downloads/imgs/imgs/xmlab227/source.jpg',\n",
              "  'C:/Users/ASUS/Downloads/imgs/imgs/xmlab227/source.jpg',\n",
              "  'C:/Users/ASUS/Downloads/imgs/imgs/xmlab227/source.jpg',\n",
              "  'C:/Users/ASUS/Downloads/imgs/imgs/xmlab227/source.jpg',\n",
              "  'C:/Users/ASUS/Downloads/imgs/imgs/xmlab227/source.jpg',\n",
              "  'C:/Users/ASUS/Downloads/imgs/imgs/xmlab227/source.jpg',\n",
              "  'C:/Users/ASUS/Downloads/imgs/imgs/xmlab227/source.jpg',\n",
              "  'C:/Users/ASUS/Downloads/imgs/imgs/xmlab227/source.jpg',\n",
              "  'C:/Users/ASUS/Downloads/imgs/imgs/xmlab227/source.jpg',\n",
              "  'C:/Users/ASUS/Downloads/imgs/imgs/xmlab227/source.jpg',\n",
              "  'C:/Users/ASUS/Downloads/imgs/imgs/xmlab227/source.jpg',\n",
              "  'C:/Users/ASUS/Downloads/imgs/imgs/xmlab227/source.jpg',\n",
              "  'C:/Users/ASUS/Downloads/imgs/imgs/xmlab227/source.jpg',\n",
              "  'C:/Users/ASUS/Downloads/imgs/imgs/xmlab23/source.jpg',\n",
              "  'C:/Users/ASUS/Downloads/imgs/imgs/xmlab23/source.jpg',\n",
              "  'C:/Users/ASUS/Downloads/imgs/imgs/xmlab23/source.jpg',\n",
              "  'C:/Users/ASUS/Downloads/imgs/imgs/xmlab23/source.jpg',\n",
              "  'C:/Users/ASUS/Downloads/imgs/imgs/xmlab23/source.jpg',\n",
              "  'C:/Users/ASUS/Downloads/imgs/imgs/xmlab23/source.jpg',\n",
              "  'C:/Users/ASUS/Downloads/imgs/imgs/xmlab23/source.jpg',\n",
              "  'C:/Users/ASUS/Downloads/imgs/imgs/xmlab23/source.jpg',\n",
              "  'C:/Users/ASUS/Downloads/imgs/imgs/xmlab23/source.jpg',\n",
              "  'C:/Users/ASUS/Downloads/imgs/imgs/xmlab23/source.jpg',\n",
              "  'C:/Users/ASUS/Downloads/imgs/imgs/xmlab230/source.jpg',\n",
              "  'C:/Users/ASUS/Downloads/imgs/imgs/xmlab230/source.jpg',\n",
              "  'C:/Users/ASUS/Downloads/imgs/imgs/xmlab230/source.jpg',\n",
              "  'C:/Users/ASUS/Downloads/imgs/imgs/xmlab230/source.jpg',\n",
              "  'C:/Users/ASUS/Downloads/imgs/imgs/xmlab230/source.jpg',\n",
              "  'C:/Users/ASUS/Downloads/imgs/imgs/xmlab230/source.jpg',\n",
              "  'C:/Users/ASUS/Downloads/imgs/imgs/xmlab230/source.jpg',\n",
              "  'C:/Users/ASUS/Downloads/imgs/imgs/xmlab230/source.jpg',\n",
              "  'C:/Users/ASUS/Downloads/imgs/imgs/xmlab230/source.jpg',\n",
              "  ...])"
            ]
          },
          "execution_count": 458,
          "metadata": {},
          "output_type": "execute_result"
        }
      ],
      "source": [
        "Pnuemonia_image_path = []\n",
        "for image_path in Pneumonia_data['img_name']:\n",
        "    slake_image_path = slake_data_path + image_path\n",
        "    Pnuemonia_image_path.append(slake_image_path)\n",
        "\n",
        "Other_image_path = []\n",
        "for image_path in Normal_data['img_name']:\n",
        "    slake_image_path = slake_data_path + image_path\n",
        "    Other_image_path.append(slake_image_path)\n",
        "\n",
        "Pnuemonia_image_path,Other_image_path"
      ]
    },
    {
      "cell_type": "code",
      "execution_count": null,
      "id": "79a41815-20bf-47ac-9af2-e310ec737520",
      "metadata": {
        "id": "79a41815-20bf-47ac-9af2-e310ec737520"
      },
      "outputs": [],
      "source": []
    },
    {
      "cell_type": "code",
      "execution_count": null,
      "id": "7a02c5d6-6726-46f5-8ebe-82f457a5f71b",
      "metadata": {
        "id": "7a02c5d6-6726-46f5-8ebe-82f457a5f71b"
      },
      "outputs": [],
      "source": [
        "# ['NORMAL', 'PNEUMONIA']\n",
        "\n",
        "slake_data = []\n",
        "slake_target = []\n",
        "\n",
        "for label in labels:\n",
        "    if label == \"PNEUMONIA\":\n",
        "        for img_path in Pnuemonia_image_path:\n",
        "            image = cv2.imread(img_path)\n",
        "            if image is not None:\n",
        "                resized_image = cv2.resize(image, (128, 128))\n",
        "                slake_data.append(resized_image)\n",
        "                slake_target.append(labels.index(label))\n",
        "    else:\n",
        "        for img_path in Other_image_path:\n",
        "            image = cv2.imread(os.path.join(path, img_name))\n",
        "            if image is not None:\n",
        "                resized_image = cv2.resize(image, (128, 128))\n",
        "                slake_data.append(resized_image)\n",
        "                slake_target.append(labels.index(label))"
      ]
    },
    {
      "cell_type": "code",
      "execution_count": null,
      "id": "2047ff68-e1b5-495f-9ccb-2a3ae439222b",
      "metadata": {
        "id": "2047ff68-e1b5-495f-9ccb-2a3ae439222b",
        "outputId": "dfc2e8f6-7760-41f0-d40f-a51736d5f3d7"
      },
      "outputs": [
        {
          "data": {
            "text/plain": [
              "(list, list, list, list)"
            ]
          },
          "execution_count": 464,
          "metadata": {},
          "output_type": "execute_result"
        }
      ],
      "source": [
        "type(pneumonial_data),type(pneumonial_target),type(slake_data),type(slake_target)"
      ]
    },
    {
      "cell_type": "code",
      "execution_count": null,
      "id": "f348ca32-6aa9-4f6c-a345-5662d0a4d25e",
      "metadata": {
        "id": "f348ca32-6aa9-4f6c-a345-5662d0a4d25e"
      },
      "outputs": [],
      "source": [
        "pneumonial_data = pneumonial_data + slake_data"
      ]
    },
    {
      "cell_type": "code",
      "execution_count": null,
      "id": "57b0c78b-344c-4297-8ac0-a3a479ceb460",
      "metadata": {
        "id": "57b0c78b-344c-4297-8ac0-a3a479ceb460"
      },
      "outputs": [],
      "source": [
        "pneumonial_target = pneumonial_target + slake_target"
      ]
    },
    {
      "cell_type": "code",
      "execution_count": null,
      "id": "15a4b905-7826-4135-9963-fcaa95b2818f",
      "metadata": {
        "id": "15a4b905-7826-4135-9963-fcaa95b2818f",
        "outputId": "ac0e4f91-0859-4752-ae68-216094d66ddb"
      },
      "outputs": [
        {
          "data": {
            "text/plain": [
              "(numpy.ndarray, numpy.ndarray)"
            ]
          },
          "execution_count": 470,
          "metadata": {},
          "output_type": "execute_result"
        }
      ],
      "source": [
        "pneumonial_data = np.array(pneumonial_data)\n",
        "pneumonial_target = np.array(pneumonial_target)\n",
        "type(pneumonial_target), type(pneumonial_data)"
      ]
    },
    {
      "cell_type": "code",
      "execution_count": null,
      "id": "f301ccb2-bb73-4e21-9879-1d87ad26c7d1",
      "metadata": {
        "id": "f301ccb2-bb73-4e21-9879-1d87ad26c7d1",
        "outputId": "9a060a3a-6602-435c-c454-1fb0319530ca"
      },
      "outputs": [
        {
          "data": {
            "text/plain": [
              "((14824, 128, 128, 3), (14824,))"
            ]
          },
          "execution_count": 472,
          "metadata": {},
          "output_type": "execute_result"
        }
      ],
      "source": [
        "pneumonial_data.shape, pneumonial_target.shape"
      ]
    },
    {
      "cell_type": "code",
      "execution_count": null,
      "id": "2b930630-4199-4d86-9cda-687dc3252a19",
      "metadata": {
        "id": "2b930630-4199-4d86-9cda-687dc3252a19"
      },
      "outputs": [],
      "source": [
        "pneumonial_data_flattened = pneumonial_data.reshape(pneumonial_data.shape[0], -1)"
      ]
    },
    {
      "cell_type": "code",
      "execution_count": null,
      "id": "a4c47c4a-62d2-4a31-ab20-94cf8f58fca7",
      "metadata": {
        "id": "a4c47c4a-62d2-4a31-ab20-94cf8f58fca7",
        "outputId": "1ec21f65-70c6-4a21-f7a7-aaf147ea0e60"
      },
      "outputs": [
        {
          "data": {
            "text/plain": [
              "(14824, 49152)"
            ]
          },
          "execution_count": 478,
          "metadata": {},
          "output_type": "execute_result"
        }
      ],
      "source": [
        "pneumonial_data_flattened.shape"
      ]
    },
    {
      "cell_type": "code",
      "execution_count": null,
      "id": "41afeaf3-ffa3-4743-a5ac-c5140b0a38c1",
      "metadata": {
        "id": "41afeaf3-ffa3-4743-a5ac-c5140b0a38c1"
      },
      "outputs": [],
      "source": [
        "import tensorflow as tf\n",
        "\n"
      ]
    },
    {
      "cell_type": "code",
      "execution_count": null,
      "id": "bf0ce8ea-b309-4cd3-b2a8-d419b949eca2",
      "metadata": {
        "id": "bf0ce8ea-b309-4cd3-b2a8-d419b949eca2"
      },
      "outputs": [],
      "source": [
        "# import keras\n",
        "from tensorflow.keras.layers import Dense, Conv2D, MaxPooling2D, Flatten\n",
        "from tensorflow.keras.models import Sequential"
      ]
    },
    {
      "cell_type": "code",
      "execution_count": null,
      "id": "fa3761a3-3395-4ecd-87af-7ec407406b4c",
      "metadata": {
        "id": "fa3761a3-3395-4ecd-87af-7ec407406b4c",
        "outputId": "f82b0770-6760-40ff-830a-2ef7df73f8de"
      },
      "outputs": [
        {
          "name": "stderr",
          "output_type": "stream",
          "text": [
            "C:\\Users\\ASUS\\anaconda3\\Lib\\site-packages\\keras\\src\\layers\\convolutional\\base_conv.py:107: UserWarning: Do not pass an `input_shape`/`input_dim` argument to a layer. When using Sequential models, prefer using an `Input(shape)` object as the first layer in the model instead.\n",
            "  super().__init__(activity_regularizer=activity_regularizer, **kwargs)\n"
          ]
        },
        {
          "data": {
            "text/html": [
              "<pre style=\"white-space:pre;overflow-x:auto;line-height:normal;font-family:Menlo,'DejaVu Sans Mono',consolas,'Courier New',monospace\"><span style=\"font-weight: bold\">Model: \"sequential_6\"</span>\n",
              "</pre>\n"
            ],
            "text/plain": [
              "\u001b[1mModel: \"sequential_6\"\u001b[0m\n"
            ]
          },
          "metadata": {},
          "output_type": "display_data"
        },
        {
          "data": {
            "text/html": [
              "<pre style=\"white-space:pre;overflow-x:auto;line-height:normal;font-family:Menlo,'DejaVu Sans Mono',consolas,'Courier New',monospace\">┏━━━━━━━━━━━━━━━━━━━━━━━━━━━━━━━━━┳━━━━━━━━━━━━━━━━━━━━━━━━┳━━━━━━━━━━━━━━━┓\n",
              "┃<span style=\"font-weight: bold\"> Layer (type)                    </span>┃<span style=\"font-weight: bold\"> Output Shape           </span>┃<span style=\"font-weight: bold\">       Param # </span>┃\n",
              "┡━━━━━━━━━━━━━━━━━━━━━━━━━━━━━━━━━╇━━━━━━━━━━━━━━━━━━━━━━━━╇━━━━━━━━━━━━━━━┩\n",
              "│ conv2d_19 (<span style=\"color: #0087ff; text-decoration-color: #0087ff\">Conv2D</span>)              │ (<span style=\"color: #00d7ff; text-decoration-color: #00d7ff\">None</span>, <span style=\"color: #00af00; text-decoration-color: #00af00\">126</span>, <span style=\"color: #00af00; text-decoration-color: #00af00\">126</span>, <span style=\"color: #00af00; text-decoration-color: #00af00\">64</span>)   │         <span style=\"color: #00af00; text-decoration-color: #00af00\">1,792</span> │\n",
              "├─────────────────────────────────┼────────────────────────┼───────────────┤\n",
              "│ max_pooling2d_6 (<span style=\"color: #0087ff; text-decoration-color: #0087ff\">MaxPooling2D</span>)  │ (<span style=\"color: #00d7ff; text-decoration-color: #00d7ff\">None</span>, <span style=\"color: #00af00; text-decoration-color: #00af00\">63</span>, <span style=\"color: #00af00; text-decoration-color: #00af00\">63</span>, <span style=\"color: #00af00; text-decoration-color: #00af00\">64</span>)     │             <span style=\"color: #00af00; text-decoration-color: #00af00\">0</span> │\n",
              "├─────────────────────────────────┼────────────────────────┼───────────────┤\n",
              "│ conv2d_20 (<span style=\"color: #0087ff; text-decoration-color: #0087ff\">Conv2D</span>)              │ (<span style=\"color: #00d7ff; text-decoration-color: #00d7ff\">None</span>, <span style=\"color: #00af00; text-decoration-color: #00af00\">61</span>, <span style=\"color: #00af00; text-decoration-color: #00af00\">61</span>, <span style=\"color: #00af00; text-decoration-color: #00af00\">64</span>)     │        <span style=\"color: #00af00; text-decoration-color: #00af00\">36,928</span> │\n",
              "├─────────────────────────────────┼────────────────────────┼───────────────┤\n",
              "│ max_pooling2d_7 (<span style=\"color: #0087ff; text-decoration-color: #0087ff\">MaxPooling2D</span>)  │ (<span style=\"color: #00d7ff; text-decoration-color: #00d7ff\">None</span>, <span style=\"color: #00af00; text-decoration-color: #00af00\">30</span>, <span style=\"color: #00af00; text-decoration-color: #00af00\">30</span>, <span style=\"color: #00af00; text-decoration-color: #00af00\">64</span>)     │             <span style=\"color: #00af00; text-decoration-color: #00af00\">0</span> │\n",
              "└─────────────────────────────────┴────────────────────────┴───────────────┘\n",
              "</pre>\n"
            ],
            "text/plain": [
              "┏━━━━━━━━━━━━━━━━━━━━━━━━━━━━━━━━━┳━━━━━━━━━━━━━━━━━━━━━━━━┳━━━━━━━━━━━━━━━┓\n",
              "┃\u001b[1m \u001b[0m\u001b[1mLayer (type)                   \u001b[0m\u001b[1m \u001b[0m┃\u001b[1m \u001b[0m\u001b[1mOutput Shape          \u001b[0m\u001b[1m \u001b[0m┃\u001b[1m \u001b[0m\u001b[1m      Param #\u001b[0m\u001b[1m \u001b[0m┃\n",
              "┡━━━━━━━━━━━━━━━━━━━━━━━━━━━━━━━━━╇━━━━━━━━━━━━━━━━━━━━━━━━╇━━━━━━━━━━━━━━━┩\n",
              "│ conv2d_19 (\u001b[38;5;33mConv2D\u001b[0m)              │ (\u001b[38;5;45mNone\u001b[0m, \u001b[38;5;34m126\u001b[0m, \u001b[38;5;34m126\u001b[0m, \u001b[38;5;34m64\u001b[0m)   │         \u001b[38;5;34m1,792\u001b[0m │\n",
              "├─────────────────────────────────┼────────────────────────┼───────────────┤\n",
              "│ max_pooling2d_6 (\u001b[38;5;33mMaxPooling2D\u001b[0m)  │ (\u001b[38;5;45mNone\u001b[0m, \u001b[38;5;34m63\u001b[0m, \u001b[38;5;34m63\u001b[0m, \u001b[38;5;34m64\u001b[0m)     │             \u001b[38;5;34m0\u001b[0m │\n",
              "├─────────────────────────────────┼────────────────────────┼───────────────┤\n",
              "│ conv2d_20 (\u001b[38;5;33mConv2D\u001b[0m)              │ (\u001b[38;5;45mNone\u001b[0m, \u001b[38;5;34m61\u001b[0m, \u001b[38;5;34m61\u001b[0m, \u001b[38;5;34m64\u001b[0m)     │        \u001b[38;5;34m36,928\u001b[0m │\n",
              "├─────────────────────────────────┼────────────────────────┼───────────────┤\n",
              "│ max_pooling2d_7 (\u001b[38;5;33mMaxPooling2D\u001b[0m)  │ (\u001b[38;5;45mNone\u001b[0m, \u001b[38;5;34m30\u001b[0m, \u001b[38;5;34m30\u001b[0m, \u001b[38;5;34m64\u001b[0m)     │             \u001b[38;5;34m0\u001b[0m │\n",
              "└─────────────────────────────────┴────────────────────────┴───────────────┘\n"
            ]
          },
          "metadata": {},
          "output_type": "display_data"
        },
        {
          "data": {
            "text/html": [
              "<pre style=\"white-space:pre;overflow-x:auto;line-height:normal;font-family:Menlo,'DejaVu Sans Mono',consolas,'Courier New',monospace\"><span style=\"font-weight: bold\"> Total params: </span><span style=\"color: #00af00; text-decoration-color: #00af00\">38,720</span> (151.25 KB)\n",
              "</pre>\n"
            ],
            "text/plain": [
              "\u001b[1m Total params: \u001b[0m\u001b[38;5;34m38,720\u001b[0m (151.25 KB)\n"
            ]
          },
          "metadata": {},
          "output_type": "display_data"
        },
        {
          "data": {
            "text/html": [
              "<pre style=\"white-space:pre;overflow-x:auto;line-height:normal;font-family:Menlo,'DejaVu Sans Mono',consolas,'Courier New',monospace\"><span style=\"font-weight: bold\"> Trainable params: </span><span style=\"color: #00af00; text-decoration-color: #00af00\">38,720</span> (151.25 KB)\n",
              "</pre>\n"
            ],
            "text/plain": [
              "\u001b[1m Trainable params: \u001b[0m\u001b[38;5;34m38,720\u001b[0m (151.25 KB)\n"
            ]
          },
          "metadata": {},
          "output_type": "display_data"
        },
        {
          "data": {
            "text/html": [
              "<pre style=\"white-space:pre;overflow-x:auto;line-height:normal;font-family:Menlo,'DejaVu Sans Mono',consolas,'Courier New',monospace\"><span style=\"font-weight: bold\"> Non-trainable params: </span><span style=\"color: #00af00; text-decoration-color: #00af00\">0</span> (0.00 B)\n",
              "</pre>\n"
            ],
            "text/plain": [
              "\u001b[1m Non-trainable params: \u001b[0m\u001b[38;5;34m0\u001b[0m (0.00 B)\n"
            ]
          },
          "metadata": {},
          "output_type": "display_data"
        }
      ],
      "source": [
        "import os\n",
        "os.environ['KMP_DUPLICATE_LIB_OK']='True'\n",
        "\n",
        "model_NN = Sequential([\n",
        "    Conv2D(64, (3, 3), activation=\"relu\", input_shape=(128, 128, 3)),\n",
        "    MaxPooling2D((2, 2)),\n",
        "    Conv2D(64, (3, 3), activation=\"relu\"),\n",
        "    MaxPooling2D((2, 2)),\n",
        "])\n",
        "model_NN.summary()"
      ]
    },
    {
      "cell_type": "code",
      "execution_count": null,
      "id": "cf782088-e72c-440c-ba34-2e856eb35b60",
      "metadata": {
        "id": "cf782088-e72c-440c-ba34-2e856eb35b60",
        "outputId": "6713ad4a-0970-4e51-96fa-ac5c2d29b04b"
      },
      "outputs": [
        {
          "data": {
            "text/html": [
              "<pre style=\"white-space:pre;overflow-x:auto;line-height:normal;font-family:Menlo,'DejaVu Sans Mono',consolas,'Courier New',monospace\"><span style=\"font-weight: bold\">Model: \"sequential_6\"</span>\n",
              "</pre>\n"
            ],
            "text/plain": [
              "\u001b[1mModel: \"sequential_6\"\u001b[0m\n"
            ]
          },
          "metadata": {},
          "output_type": "display_data"
        },
        {
          "data": {
            "text/html": [
              "<pre style=\"white-space:pre;overflow-x:auto;line-height:normal;font-family:Menlo,'DejaVu Sans Mono',consolas,'Courier New',monospace\">┏━━━━━━━━━━━━━━━━━━━━━━━━━━━━━━━━━┳━━━━━━━━━━━━━━━━━━━━━━━━┳━━━━━━━━━━━━━━━┓\n",
              "┃<span style=\"font-weight: bold\"> Layer (type)                    </span>┃<span style=\"font-weight: bold\"> Output Shape           </span>┃<span style=\"font-weight: bold\">       Param # </span>┃\n",
              "┡━━━━━━━━━━━━━━━━━━━━━━━━━━━━━━━━━╇━━━━━━━━━━━━━━━━━━━━━━━━╇━━━━━━━━━━━━━━━┩\n",
              "│ conv2d_19 (<span style=\"color: #0087ff; text-decoration-color: #0087ff\">Conv2D</span>)              │ (<span style=\"color: #00d7ff; text-decoration-color: #00d7ff\">None</span>, <span style=\"color: #00af00; text-decoration-color: #00af00\">126</span>, <span style=\"color: #00af00; text-decoration-color: #00af00\">126</span>, <span style=\"color: #00af00; text-decoration-color: #00af00\">64</span>)   │         <span style=\"color: #00af00; text-decoration-color: #00af00\">1,792</span> │\n",
              "├─────────────────────────────────┼────────────────────────┼───────────────┤\n",
              "│ max_pooling2d_6 (<span style=\"color: #0087ff; text-decoration-color: #0087ff\">MaxPooling2D</span>)  │ (<span style=\"color: #00d7ff; text-decoration-color: #00d7ff\">None</span>, <span style=\"color: #00af00; text-decoration-color: #00af00\">63</span>, <span style=\"color: #00af00; text-decoration-color: #00af00\">63</span>, <span style=\"color: #00af00; text-decoration-color: #00af00\">64</span>)     │             <span style=\"color: #00af00; text-decoration-color: #00af00\">0</span> │\n",
              "├─────────────────────────────────┼────────────────────────┼───────────────┤\n",
              "│ conv2d_20 (<span style=\"color: #0087ff; text-decoration-color: #0087ff\">Conv2D</span>)              │ (<span style=\"color: #00d7ff; text-decoration-color: #00d7ff\">None</span>, <span style=\"color: #00af00; text-decoration-color: #00af00\">61</span>, <span style=\"color: #00af00; text-decoration-color: #00af00\">61</span>, <span style=\"color: #00af00; text-decoration-color: #00af00\">64</span>)     │        <span style=\"color: #00af00; text-decoration-color: #00af00\">36,928</span> │\n",
              "├─────────────────────────────────┼────────────────────────┼───────────────┤\n",
              "│ max_pooling2d_7 (<span style=\"color: #0087ff; text-decoration-color: #0087ff\">MaxPooling2D</span>)  │ (<span style=\"color: #00d7ff; text-decoration-color: #00d7ff\">None</span>, <span style=\"color: #00af00; text-decoration-color: #00af00\">30</span>, <span style=\"color: #00af00; text-decoration-color: #00af00\">30</span>, <span style=\"color: #00af00; text-decoration-color: #00af00\">64</span>)     │             <span style=\"color: #00af00; text-decoration-color: #00af00\">0</span> │\n",
              "├─────────────────────────────────┼────────────────────────┼───────────────┤\n",
              "│ flatten_6 (<span style=\"color: #0087ff; text-decoration-color: #0087ff\">Flatten</span>)             │ (<span style=\"color: #00d7ff; text-decoration-color: #00d7ff\">None</span>, <span style=\"color: #00af00; text-decoration-color: #00af00\">57600</span>)          │             <span style=\"color: #00af00; text-decoration-color: #00af00\">0</span> │\n",
              "├─────────────────────────────────┼────────────────────────┼───────────────┤\n",
              "│ dense_27 (<span style=\"color: #0087ff; text-decoration-color: #0087ff\">Dense</span>)                │ (<span style=\"color: #00d7ff; text-decoration-color: #00d7ff\">None</span>, <span style=\"color: #00af00; text-decoration-color: #00af00\">256</span>)            │    <span style=\"color: #00af00; text-decoration-color: #00af00\">14,745,856</span> │\n",
              "├─────────────────────────────────┼────────────────────────┼───────────────┤\n",
              "│ dense_28 (<span style=\"color: #0087ff; text-decoration-color: #0087ff\">Dense</span>)                │ (<span style=\"color: #00d7ff; text-decoration-color: #00d7ff\">None</span>, <span style=\"color: #00af00; text-decoration-color: #00af00\">128</span>)            │        <span style=\"color: #00af00; text-decoration-color: #00af00\">32,896</span> │\n",
              "├─────────────────────────────────┼────────────────────────┼───────────────┤\n",
              "│ dense_29 (<span style=\"color: #0087ff; text-decoration-color: #0087ff\">Dense</span>)                │ (<span style=\"color: #00d7ff; text-decoration-color: #00d7ff\">None</span>, <span style=\"color: #00af00; text-decoration-color: #00af00\">128</span>)            │        <span style=\"color: #00af00; text-decoration-color: #00af00\">16,512</span> │\n",
              "├─────────────────────────────────┼────────────────────────┼───────────────┤\n",
              "│ dense_30 (<span style=\"color: #0087ff; text-decoration-color: #0087ff\">Dense</span>)                │ (<span style=\"color: #00d7ff; text-decoration-color: #00d7ff\">None</span>, <span style=\"color: #00af00; text-decoration-color: #00af00\">64</span>)             │         <span style=\"color: #00af00; text-decoration-color: #00af00\">8,256</span> │\n",
              "├─────────────────────────────────┼────────────────────────┼───────────────┤\n",
              "│ dense_31 (<span style=\"color: #0087ff; text-decoration-color: #0087ff\">Dense</span>)                │ (<span style=\"color: #00d7ff; text-decoration-color: #00d7ff\">None</span>, <span style=\"color: #00af00; text-decoration-color: #00af00\">64</span>)             │         <span style=\"color: #00af00; text-decoration-color: #00af00\">4,160</span> │\n",
              "├─────────────────────────────────┼────────────────────────┼───────────────┤\n",
              "│ dense_32 (<span style=\"color: #0087ff; text-decoration-color: #0087ff\">Dense</span>)                │ (<span style=\"color: #00d7ff; text-decoration-color: #00d7ff\">None</span>, <span style=\"color: #00af00; text-decoration-color: #00af00\">32</span>)             │         <span style=\"color: #00af00; text-decoration-color: #00af00\">2,080</span> │\n",
              "├─────────────────────────────────┼────────────────────────┼───────────────┤\n",
              "│ dense_33 (<span style=\"color: #0087ff; text-decoration-color: #0087ff\">Dense</span>)                │ (<span style=\"color: #00d7ff; text-decoration-color: #00d7ff\">None</span>, <span style=\"color: #00af00; text-decoration-color: #00af00\">16</span>)             │           <span style=\"color: #00af00; text-decoration-color: #00af00\">528</span> │\n",
              "├─────────────────────────────────┼────────────────────────┼───────────────┤\n",
              "│ dense_34 (<span style=\"color: #0087ff; text-decoration-color: #0087ff\">Dense</span>)                │ (<span style=\"color: #00d7ff; text-decoration-color: #00d7ff\">None</span>, <span style=\"color: #00af00; text-decoration-color: #00af00\">1</span>)              │            <span style=\"color: #00af00; text-decoration-color: #00af00\">17</span> │\n",
              "└─────────────────────────────────┴────────────────────────┴───────────────┘\n",
              "</pre>\n"
            ],
            "text/plain": [
              "┏━━━━━━━━━━━━━━━━━━━━━━━━━━━━━━━━━┳━━━━━━━━━━━━━━━━━━━━━━━━┳━━━━━━━━━━━━━━━┓\n",
              "┃\u001b[1m \u001b[0m\u001b[1mLayer (type)                   \u001b[0m\u001b[1m \u001b[0m┃\u001b[1m \u001b[0m\u001b[1mOutput Shape          \u001b[0m\u001b[1m \u001b[0m┃\u001b[1m \u001b[0m\u001b[1m      Param #\u001b[0m\u001b[1m \u001b[0m┃\n",
              "┡━━━━━━━━━━━━━━━━━━━━━━━━━━━━━━━━━╇━━━━━━━━━━━━━━━━━━━━━━━━╇━━━━━━━━━━━━━━━┩\n",
              "│ conv2d_19 (\u001b[38;5;33mConv2D\u001b[0m)              │ (\u001b[38;5;45mNone\u001b[0m, \u001b[38;5;34m126\u001b[0m, \u001b[38;5;34m126\u001b[0m, \u001b[38;5;34m64\u001b[0m)   │         \u001b[38;5;34m1,792\u001b[0m │\n",
              "├─────────────────────────────────┼────────────────────────┼───────────────┤\n",
              "│ max_pooling2d_6 (\u001b[38;5;33mMaxPooling2D\u001b[0m)  │ (\u001b[38;5;45mNone\u001b[0m, \u001b[38;5;34m63\u001b[0m, \u001b[38;5;34m63\u001b[0m, \u001b[38;5;34m64\u001b[0m)     │             \u001b[38;5;34m0\u001b[0m │\n",
              "├─────────────────────────────────┼────────────────────────┼───────────────┤\n",
              "│ conv2d_20 (\u001b[38;5;33mConv2D\u001b[0m)              │ (\u001b[38;5;45mNone\u001b[0m, \u001b[38;5;34m61\u001b[0m, \u001b[38;5;34m61\u001b[0m, \u001b[38;5;34m64\u001b[0m)     │        \u001b[38;5;34m36,928\u001b[0m │\n",
              "├─────────────────────────────────┼────────────────────────┼───────────────┤\n",
              "│ max_pooling2d_7 (\u001b[38;5;33mMaxPooling2D\u001b[0m)  │ (\u001b[38;5;45mNone\u001b[0m, \u001b[38;5;34m30\u001b[0m, \u001b[38;5;34m30\u001b[0m, \u001b[38;5;34m64\u001b[0m)     │             \u001b[38;5;34m0\u001b[0m │\n",
              "├─────────────────────────────────┼────────────────────────┼───────────────┤\n",
              "│ flatten_6 (\u001b[38;5;33mFlatten\u001b[0m)             │ (\u001b[38;5;45mNone\u001b[0m, \u001b[38;5;34m57600\u001b[0m)          │             \u001b[38;5;34m0\u001b[0m │\n",
              "├─────────────────────────────────┼────────────────────────┼───────────────┤\n",
              "│ dense_27 (\u001b[38;5;33mDense\u001b[0m)                │ (\u001b[38;5;45mNone\u001b[0m, \u001b[38;5;34m256\u001b[0m)            │    \u001b[38;5;34m14,745,856\u001b[0m │\n",
              "├─────────────────────────────────┼────────────────────────┼───────────────┤\n",
              "│ dense_28 (\u001b[38;5;33mDense\u001b[0m)                │ (\u001b[38;5;45mNone\u001b[0m, \u001b[38;5;34m128\u001b[0m)            │        \u001b[38;5;34m32,896\u001b[0m │\n",
              "├─────────────────────────────────┼────────────────────────┼───────────────┤\n",
              "│ dense_29 (\u001b[38;5;33mDense\u001b[0m)                │ (\u001b[38;5;45mNone\u001b[0m, \u001b[38;5;34m128\u001b[0m)            │        \u001b[38;5;34m16,512\u001b[0m │\n",
              "├─────────────────────────────────┼────────────────────────┼───────────────┤\n",
              "│ dense_30 (\u001b[38;5;33mDense\u001b[0m)                │ (\u001b[38;5;45mNone\u001b[0m, \u001b[38;5;34m64\u001b[0m)             │         \u001b[38;5;34m8,256\u001b[0m │\n",
              "├─────────────────────────────────┼────────────────────────┼───────────────┤\n",
              "│ dense_31 (\u001b[38;5;33mDense\u001b[0m)                │ (\u001b[38;5;45mNone\u001b[0m, \u001b[38;5;34m64\u001b[0m)             │         \u001b[38;5;34m4,160\u001b[0m │\n",
              "├─────────────────────────────────┼────────────────────────┼───────────────┤\n",
              "│ dense_32 (\u001b[38;5;33mDense\u001b[0m)                │ (\u001b[38;5;45mNone\u001b[0m, \u001b[38;5;34m32\u001b[0m)             │         \u001b[38;5;34m2,080\u001b[0m │\n",
              "├─────────────────────────────────┼────────────────────────┼───────────────┤\n",
              "│ dense_33 (\u001b[38;5;33mDense\u001b[0m)                │ (\u001b[38;5;45mNone\u001b[0m, \u001b[38;5;34m16\u001b[0m)             │           \u001b[38;5;34m528\u001b[0m │\n",
              "├─────────────────────────────────┼────────────────────────┼───────────────┤\n",
              "│ dense_34 (\u001b[38;5;33mDense\u001b[0m)                │ (\u001b[38;5;45mNone\u001b[0m, \u001b[38;5;34m1\u001b[0m)              │            \u001b[38;5;34m17\u001b[0m │\n",
              "└─────────────────────────────────┴────────────────────────┴───────────────┘\n"
            ]
          },
          "metadata": {},
          "output_type": "display_data"
        },
        {
          "data": {
            "text/html": [
              "<pre style=\"white-space:pre;overflow-x:auto;line-height:normal;font-family:Menlo,'DejaVu Sans Mono',consolas,'Courier New',monospace\"><span style=\"font-weight: bold\"> Total params: </span><span style=\"color: #00af00; text-decoration-color: #00af00\">14,849,025</span> (56.64 MB)\n",
              "</pre>\n"
            ],
            "text/plain": [
              "\u001b[1m Total params: \u001b[0m\u001b[38;5;34m14,849,025\u001b[0m (56.64 MB)\n"
            ]
          },
          "metadata": {},
          "output_type": "display_data"
        },
        {
          "data": {
            "text/html": [
              "<pre style=\"white-space:pre;overflow-x:auto;line-height:normal;font-family:Menlo,'DejaVu Sans Mono',consolas,'Courier New',monospace\"><span style=\"font-weight: bold\"> Trainable params: </span><span style=\"color: #00af00; text-decoration-color: #00af00\">14,849,025</span> (56.64 MB)\n",
              "</pre>\n"
            ],
            "text/plain": [
              "\u001b[1m Trainable params: \u001b[0m\u001b[38;5;34m14,849,025\u001b[0m (56.64 MB)\n"
            ]
          },
          "metadata": {},
          "output_type": "display_data"
        },
        {
          "data": {
            "text/html": [
              "<pre style=\"white-space:pre;overflow-x:auto;line-height:normal;font-family:Menlo,'DejaVu Sans Mono',consolas,'Courier New',monospace\"><span style=\"font-weight: bold\"> Non-trainable params: </span><span style=\"color: #00af00; text-decoration-color: #00af00\">0</span> (0.00 B)\n",
              "</pre>\n"
            ],
            "text/plain": [
              "\u001b[1m Non-trainable params: \u001b[0m\u001b[38;5;34m0\u001b[0m (0.00 B)\n"
            ]
          },
          "metadata": {},
          "output_type": "display_data"
        }
      ],
      "source": [
        "model_NN.add(Flatten())\n",
        "model_NN.add(Dense(256, activation=\"relu\"))\n",
        "model_NN.add(Dense(128, activation=\"relu\"))\n",
        "model_NN.add(Dense(128, activation=\"relu\"))\n",
        "model_NN.add(Dense(64, activation=\"relu\"))\n",
        "model_NN.add(Dense(64, activation=\"relu\"))\n",
        "model_NN.add(Dense(32, activation=\"relu\"))\n",
        "model_NN.add(Dense(16, activation=\"relu\"))\n",
        "model_NN.add(Dense(1, activation=\"sigmoid\"))\n",
        "\n",
        "model_NN.summary()"
      ]
    },
    {
      "cell_type": "code",
      "execution_count": null,
      "id": "7886dbf8-6554-4c85-a666-2505ae8d56da",
      "metadata": {
        "id": "7886dbf8-6554-4c85-a666-2505ae8d56da"
      },
      "outputs": [],
      "source": [
        "model_NN.compile(optimizer='adam', loss='binary_crossentropy', metrics=['accuracy'])"
      ]
    },
    {
      "cell_type": "code",
      "execution_count": null,
      "id": "f21d047e-acc8-4a49-b66e-e8479445277b",
      "metadata": {
        "id": "f21d047e-acc8-4a49-b66e-e8479445277b"
      },
      "outputs": [],
      "source": [
        "X_train_nn, X_test_nn, y_train_nn, y_test_nn = train_test_split(pneumonial_data, pneumonial_target, test_size=0.3, random_state=42)"
      ]
    },
    {
      "cell_type": "code",
      "execution_count": null,
      "id": "a7352a48-08bd-447b-b0b6-60908d61e372",
      "metadata": {
        "id": "a7352a48-08bd-447b-b0b6-60908d61e372",
        "outputId": "f3276023-2762-4047-9309-3bf4b3e6986a"
      },
      "outputs": [
        {
          "name": "stdout",
          "output_type": "stream",
          "text": [
            "Epoch 1/5\n",
            "\u001b[1m2594/2594\u001b[0m \u001b[32m━━━━━━━━━━━━━━━━━━━━\u001b[0m\u001b[37m\u001b[0m \u001b[1m431s\u001b[0m 165ms/step - accuracy: 0.9004 - loss: 0.4904\n",
            "Epoch 2/5\n",
            "\u001b[1m2594/2594\u001b[0m \u001b[32m━━━━━━━━━━━━━━━━━━━━\u001b[0m\u001b[37m\u001b[0m \u001b[1m413s\u001b[0m 159ms/step - accuracy: 0.9448 - loss: 0.1616\n",
            "Epoch 3/5\n",
            "\u001b[1m2594/2594\u001b[0m \u001b[32m━━━━━━━━━━━━━━━━━━━━\u001b[0m\u001b[37m\u001b[0m \u001b[1m410s\u001b[0m 158ms/step - accuracy: 0.9472 - loss: 0.1894\n",
            "Epoch 4/5\n",
            "\u001b[1m2594/2594\u001b[0m \u001b[32m━━━━━━━━━━━━━━━━━━━━\u001b[0m\u001b[37m\u001b[0m \u001b[1m410s\u001b[0m 158ms/step - accuracy: 0.9579 - loss: 0.1175\n",
            "Epoch 5/5\n",
            "\u001b[1m2594/2594\u001b[0m \u001b[32m━━━━━━━━━━━━━━━━━━━━\u001b[0m\u001b[37m\u001b[0m \u001b[1m410s\u001b[0m 158ms/step - accuracy: 0.9646 - loss: 0.1023\n"
          ]
        },
        {
          "data": {
            "text/plain": [
              "<keras.src.callbacks.history.History at 0x1ef75674ad0>"
            ]
          },
          "execution_count": 562,
          "metadata": {},
          "output_type": "execute_result"
        }
      ],
      "source": [
        "model_NN.fit(X_train_nn, y_train_nn, epochs=12, batch_size=4,validation_data=(X_test_nn, y_test_nn))"
      ]
    },
    {
      "cell_type": "code",
      "execution_count": null,
      "id": "1463e93c-18b2-4aff-abad-f2b474793472",
      "metadata": {
        "id": "1463e93c-18b2-4aff-abad-f2b474793472",
        "outputId": "b543dd4a-127b-420d-da72-a121092b63f1"
      },
      "outputs": [
        {
          "name": "stdout",
          "output_type": "stream",
          "text": [
            "Epoch 1/5\n",
            "\u001b[1m2594/2594\u001b[0m \u001b[32m━━━━━━━━━━━━━━━━━━━━\u001b[0m\u001b[37m\u001b[0m \u001b[1m392s\u001b[0m 150ms/step - accuracy: 0.8854 - loss: 0.9788 - val_accuracy: 0.9436 - val_loss: 0.1313\n",
            "Epoch 2/5\n",
            "\u001b[1m2594/2594\u001b[0m \u001b[32m━━━━━━━━━━━━━━━━━━━━\u001b[0m\u001b[37m\u001b[0m \u001b[1m391s\u001b[0m 151ms/step - accuracy: 0.9441 - loss: 0.1409 - val_accuracy: 0.9406 - val_loss: 0.1628\n",
            "Epoch 3/5\n",
            "\u001b[1m2594/2594\u001b[0m \u001b[32m━━━━━━━━━━━━━━━━━━━━\u001b[0m\u001b[37m\u001b[0m \u001b[1m395s\u001b[0m 152ms/step - accuracy: 0.9474 - loss: 0.1341 - val_accuracy: 0.9503 - val_loss: 0.1535\n",
            "Epoch 4/5\n",
            "\u001b[1m2594/2594\u001b[0m \u001b[32m━━━━━━━━━━━━━━━━━━━━\u001b[0m\u001b[37m\u001b[0m \u001b[1m390s\u001b[0m 150ms/step - accuracy: 0.9544 - loss: 0.1136 - val_accuracy: 0.9582 - val_loss: 0.1359\n",
            "Epoch 5/5\n",
            "\u001b[1m2594/2594\u001b[0m \u001b[32m━━━━━━━━━━━━━━━━━━━━\u001b[0m\u001b[37m\u001b[0m \u001b[1m392s\u001b[0m 151ms/step - accuracy: 0.9599 - loss: 0.1080 - val_accuracy: 0.9611 - val_loss: 0.1591\n"
          ]
        }
      ],
      "source": [
        "history = model_NN.fit(X_train_nn, y_train_nn, epochs=5, batch_size=4,validation_data=(X_test_nn, y_test_nn))\n"
      ]
    },
    {
      "cell_type": "code",
      "execution_count": null,
      "id": "16ac632d-b707-42f5-83f6-ed1e5db72408",
      "metadata": {
        "id": "16ac632d-b707-42f5-83f6-ed1e5db72408",
        "outputId": "4b0211c5-c213-4bda-eacb-6b1ef0b6eaf9"
      },
      "outputs": [
        {
          "data": {
            "image/png": "[encoded data removed]",
            "text/plain": [
              "<Figure size 640x480 with 2 Axes>"
            ]
          },
          "metadata": {},
          "output_type": "display_data"
        }
      ],
      "source": [
        "import matplotlib.pyplot as plt\n",
        "\n",
        "# Plot Loss\n",
        "plt.plot(history.history['loss'])\n",
        "# plt.plot(history.history['val_loss'])  # Uncomment if you have validation data\n",
        "plt.title('Model Loss and Accuracy')  # Updated title\n",
        "plt.ylabel('Loss')\n",
        "plt.xlabel('Epoch')\n",
        "\n",
        "# Plot Accuracy on a secondary y-axis\n",
        "plt.twinx()  # Create a secondary y-axis\n",
        "plt.plot(history.history['accuracy'], color='red')  # Plot accuracy in red\n",
        "# plt.plot(history.history['val_accuracy'], color='orange')  # Uncomment if you have validation data\n",
        "plt.ylabel('Accuracy', color='red')  # Label the secondary y-axis\n",
        "\n",
        "plt.legend(['Train Loss', 'Validation Loss', 'Train Accuracy', 'Validation Accuracy'], loc='upper left')  # Adjust legend as needed\n",
        "plt.show()\n"
      ]
    },
    {
      "cell_type": "code",
      "execution_count": null,
      "id": "199cc12d-4047-420f-b219-51f0ec35cec9",
      "metadata": {
        "id": "199cc12d-4047-420f-b219-51f0ec35cec9",
        "outputId": "b65e897f-a681-42d0-fe58-6208e757bc4e"
      },
      "outputs": [
        {
          "name": "stdout",
          "output_type": "stream",
          "text": [
            "Optimal Threshold: 0.6860613822937012\n"
          ]
        }
      ],
      "source": [
        "from sklearn.metrics import precision_recall_curve, f1_score\n",
        "\n",
        "# ... (Your existing code for model training and prediction) ...\n",
        "\n",
        "# Calculate precision, recall, and thresholds\n",
        "precision, recall, thresholds = precision_recall_curve(y_test_nn, y_pred_nn)\n",
        "\n",
        "# Calculate F1-score for each threshold\n",
        "f1_scores = (2 * precision * recall) / (precision + recall)\n",
        "\n",
        "# Find the threshold with the maximum F1-score\n",
        "optimal_threshold = thresholds[np.argmax(f1_scores)]\n",
        "\n",
        "print(f\"Optimal Threshold: {optimal_threshold}\")\n",
        "\n",
        "# Update y_pred_binary with the optimal threshold\n",
        "y_pred_binary = (y_pred_nn > optimal_threshold).astype(int)\n"
      ]
    },
    {
      "cell_type": "code",
      "execution_count": null,
      "id": "e757eeb4-c49b-41f3-95de-edda5ecec3aa",
      "metadata": {
        "id": "e757eeb4-c49b-41f3-95de-edda5ecec3aa"
      },
      "outputs": [],
      "source": []
    },
    {
      "cell_type": "code",
      "execution_count": null,
      "id": "d4d27ba1-aabb-4433-a31d-2d4c87b3ae4f",
      "metadata": {
        "id": "d4d27ba1-aabb-4433-a31d-2d4c87b3ae4f",
        "outputId": "8e45ee16-54c3-4853-a54f-d40246165f4d",
        "colab": {
          "base_uri": "https://localhost:8080/",
          "height": 216
        }
      },
      "outputs": [
        {
          "output_type": "error",
          "ename": "NameError",
          "evalue": "name 'model_NN' is not defined",
          "traceback": [
            "\u001b[0;31m---------------------------------------------------------------------------\u001b[0m",
            "\u001b[0;31mNameError\u001b[0m                                 Traceback (most recent call last)",
            "\u001b[0;32m<ipython-input-2-3e57d2e42f84>\u001b[0m in \u001b[0;36m<cell line: 8>\u001b[0;34m()\u001b[0m\n\u001b[1;32m      6\u001b[0m \u001b[0;34m\u001b[0m\u001b[0m\n\u001b[1;32m      7\u001b[0m \u001b[0;31m# 1. Make predictions on the test set\u001b[0m\u001b[0;34m\u001b[0m\u001b[0;34m\u001b[0m\u001b[0m\n\u001b[0;32m----> 8\u001b[0;31m \u001b[0my_pred_nn\u001b[0m \u001b[0;34m=\u001b[0m \u001b[0mmodel_NN\u001b[0m\u001b[0;34m.\u001b[0m\u001b[0mpredict\u001b[0m\u001b[0;34m(\u001b[0m\u001b[0mX_test_nn\u001b[0m\u001b[0;34m)\u001b[0m\u001b[0;34m\u001b[0m\u001b[0;34m\u001b[0m\u001b[0m\n\u001b[0m\u001b[1;32m      9\u001b[0m \u001b[0;34m\u001b[0m\u001b[0m\n\u001b[1;32m     10\u001b[0m \u001b[0;34m\u001b[0m\u001b[0m\n",
            "\u001b[0;31mNameError\u001b[0m: name 'model_NN' is not defined"
          ]
        }
      ],
      "source": [
        "### getting scores for our model\n",
        "\n",
        "from sklearn.metrics import accuracy_score, precision_score, recall_score, f1_score, roc_auc_score\n",
        "\n",
        "# Assuming you have already trained your model (model_NN) and have X_test_nn and y_test_nn\n",
        "\n",
        "# 1. Make predictions on the test set\n",
        "y_pred_nn = model_NN.predict(X_test_nn)\n",
        "\n",
        "\n",
        "# 3. Calculate various scores\n",
        "accuracy = accuracy_score(y_test_nn, y_pred_binary)\n",
        "precision = precision_score(y_test_nn, y_pred_binary)\n",
        "recall = recall_score(y_test_nn, y_pred_binary)\n",
        "f1 = f1_score(y_test_nn, y_pred_binary)\n",
        "roc_auc = roc_auc_score(y_test_nn, y_pred_nn)  # Use probabilities for ROC AUC\n",
        "\n",
        "# 4. Print the scores\n",
        "print(\"Accuracy:\", accuracy)\n",
        "print(\"Precision:\", precision)\n",
        "print(\"Recall:\", recall)\n",
        "print(\"F1-score:\", f1)\n",
        "print(\"ROC AUC:\", roc_auc)"
      ]
    },
    {
      "cell_type": "code",
      "execution_count": null,
      "id": "26979f67-7505-44bf-ab21-e3135921dd6b",
      "metadata": {
        "id": "26979f67-7505-44bf-ab21-e3135921dd6b",
        "outputId": "83a0600a-2ce0-4381-af68-f0739352be52"
      },
      "outputs": [
        {
          "name": "stdout",
          "output_type": "stream",
          "text": [
            "(1, 128, 128, 3)\n",
            "\u001b[1m1/1\u001b[0m \u001b[32m━━━━━━━━━━━━━━━━━━━━\u001b[0m\u001b[37m\u001b[0m \u001b[1m0s\u001b[0m 113ms/step\n",
            "[[1.]]\n"
          ]
        }
      ],
      "source": [
        "from PIL import Image\n",
        "val_image_path = 'C:/Users/ASUS/.cache/kagglehub/datasets/paultimothymooney/chest-xray-pneumonia/versions/2/chest_xray/val/PNEUMONIA/person1946_bacteria_4874.jpeg'\n",
        "# image = Image.open(val_image_path)\n",
        "resized_image = []\n",
        "predict_data = []\n",
        "image = cv2.imread(val_image_path)\n",
        "if image is not None:\n",
        "            resize = cv2.resize(image, (128, 128))\n",
        "            resized_image.append(resize)\n",
        "resized_image = np.array(resized_image)\n",
        "print(resized_image.shape)\n",
        "print(model_NN.predict(resized_image))"
      ]
    },
    {
      "cell_type": "code",
      "execution_count": null,
      "id": "01290b14-14d6-4b48-a732-2933ffdf7344",
      "metadata": {
        "id": "01290b14-14d6-4b48-a732-2933ffdf7344",
        "outputId": "77a469f6-4edf-479b-ee0a-359eefe9bf32"
      },
      "outputs": [
        {
          "name": "stderr",
          "output_type": "stream",
          "text": [
            "WARNING:absl:You are saving your model as an HDF5 file via `model.save()` or `keras.saving.save_model(model)`. This file format is considered legacy. We recommend using instead the native Keras format, e.g. `model.save('my_model.keras')` or `keras.saving.save_model(model, 'my_model.keras')`. \n"
          ]
        }
      ],
      "source": [
        "model_NN.save('model_NN.h5')"
      ]
    },
    {
      "cell_type": "code",
      "execution_count": null,
      "id": "8f9bd253-2b3f-47bc-847d-3fe0ae499a06",
      "metadata": {
        "id": "8f9bd253-2b3f-47bc-847d-3fe0ae499a06",
        "outputId": "2e208927-fed7-4abc-ca94-33d41a7260ee"
      },
      "outputs": [
        {
          "name": "stderr",
          "output_type": "stream",
          "text": [
            "WARNING:absl:Compiled the loaded model, but the compiled metrics have yet to be built. `model.compile_metrics` will be empty until you train or evaluate the model.\n"
          ]
        }
      ],
      "source": [
        "from tensorflow.keras.models import load_model\n",
        "\n",
        "pneumonia_model = load_model('model_NN.h5')"
      ]
    },
    {
      "cell_type": "code",
      "execution_count": null,
      "id": "0d1855fb-f8ef-47ee-9df3-e82b38676ec7",
      "metadata": {
        "id": "0d1855fb-f8ef-47ee-9df3-e82b38676ec7",
        "outputId": "e12ed904-eb72-43fb-9a29-95c449c3fc32"
      },
      "outputs": [
        {
          "data": {
            "text/html": [
              "<pre style=\"white-space:pre;overflow-x:auto;line-height:normal;font-family:Menlo,'DejaVu Sans Mono',consolas,'Courier New',monospace\"><span style=\"font-weight: bold\">Model: \"sequential_5\"</span>\n",
              "</pre>\n"
            ],
            "text/plain": [
              "\u001b[1mModel: \"sequential_5\"\u001b[0m\n"
            ]
          },
          "metadata": {},
          "output_type": "display_data"
        },
        {
          "data": {
            "text/html": [
              "<pre style=\"white-space:pre;overflow-x:auto;line-height:normal;font-family:Menlo,'DejaVu Sans Mono',consolas,'Courier New',monospace\">┏━━━━━━━━━━━━━━━━━━━━━━━━━━━━━━━━━┳━━━━━━━━━━━━━━━━━━━━━━━━┳━━━━━━━━━━━━━━━┓\n",
              "┃<span style=\"font-weight: bold\"> Layer (type)                    </span>┃<span style=\"font-weight: bold\"> Output Shape           </span>┃<span style=\"font-weight: bold\">       Param # </span>┃\n",
              "┡━━━━━━━━━━━━━━━━━━━━━━━━━━━━━━━━━╇━━━━━━━━━━━━━━━━━━━━━━━━╇━━━━━━━━━━━━━━━┩\n",
              "│ conv2d_13 (<span style=\"color: #0087ff; text-decoration-color: #0087ff\">Conv2D</span>)              │ (<span style=\"color: #00d7ff; text-decoration-color: #00d7ff\">None</span>, <span style=\"color: #00af00; text-decoration-color: #00af00\">126</span>, <span style=\"color: #00af00; text-decoration-color: #00af00\">126</span>, <span style=\"color: #00af00; text-decoration-color: #00af00\">64</span>)   │         <span style=\"color: #00af00; text-decoration-color: #00af00\">1,792</span> │\n",
              "├─────────────────────────────────┼────────────────────────┼───────────────┤\n",
              "│ max_pooling2d_4 (<span style=\"color: #0087ff; text-decoration-color: #0087ff\">MaxPooling2D</span>)  │ (<span style=\"color: #00d7ff; text-decoration-color: #00d7ff\">None</span>, <span style=\"color: #00af00; text-decoration-color: #00af00\">63</span>, <span style=\"color: #00af00; text-decoration-color: #00af00\">63</span>, <span style=\"color: #00af00; text-decoration-color: #00af00\">64</span>)     │             <span style=\"color: #00af00; text-decoration-color: #00af00\">0</span> │\n",
              "├─────────────────────────────────┼────────────────────────┼───────────────┤\n",
              "│ conv2d_14 (<span style=\"color: #0087ff; text-decoration-color: #0087ff\">Conv2D</span>)              │ (<span style=\"color: #00d7ff; text-decoration-color: #00d7ff\">None</span>, <span style=\"color: #00af00; text-decoration-color: #00af00\">61</span>, <span style=\"color: #00af00; text-decoration-color: #00af00\">61</span>, <span style=\"color: #00af00; text-decoration-color: #00af00\">64</span>)     │        <span style=\"color: #00af00; text-decoration-color: #00af00\">36,928</span> │\n",
              "├─────────────────────────────────┼────────────────────────┼───────────────┤\n",
              "│ max_pooling2d_5 (<span style=\"color: #0087ff; text-decoration-color: #0087ff\">MaxPooling2D</span>)  │ (<span style=\"color: #00d7ff; text-decoration-color: #00d7ff\">None</span>, <span style=\"color: #00af00; text-decoration-color: #00af00\">30</span>, <span style=\"color: #00af00; text-decoration-color: #00af00\">30</span>, <span style=\"color: #00af00; text-decoration-color: #00af00\">64</span>)     │             <span style=\"color: #00af00; text-decoration-color: #00af00\">0</span> │\n",
              "├─────────────────────────────────┼────────────────────────┼───────────────┤\n",
              "│ flatten_5 (<span style=\"color: #0087ff; text-decoration-color: #0087ff\">Flatten</span>)             │ (<span style=\"color: #00d7ff; text-decoration-color: #00d7ff\">None</span>, <span style=\"color: #00af00; text-decoration-color: #00af00\">57600</span>)          │             <span style=\"color: #00af00; text-decoration-color: #00af00\">0</span> │\n",
              "├─────────────────────────────────┼────────────────────────┼───────────────┤\n",
              "│ dense_19 (<span style=\"color: #0087ff; text-decoration-color: #0087ff\">Dense</span>)                │ (<span style=\"color: #00d7ff; text-decoration-color: #00d7ff\">None</span>, <span style=\"color: #00af00; text-decoration-color: #00af00\">256</span>)            │    <span style=\"color: #00af00; text-decoration-color: #00af00\">14,745,856</span> │\n",
              "├─────────────────────────────────┼────────────────────────┼───────────────┤\n",
              "│ dense_20 (<span style=\"color: #0087ff; text-decoration-color: #0087ff\">Dense</span>)                │ (<span style=\"color: #00d7ff; text-decoration-color: #00d7ff\">None</span>, <span style=\"color: #00af00; text-decoration-color: #00af00\">128</span>)            │        <span style=\"color: #00af00; text-decoration-color: #00af00\">32,896</span> │\n",
              "├─────────────────────────────────┼────────────────────────┼───────────────┤\n",
              "│ dense_21 (<span style=\"color: #0087ff; text-decoration-color: #0087ff\">Dense</span>)                │ (<span style=\"color: #00d7ff; text-decoration-color: #00d7ff\">None</span>, <span style=\"color: #00af00; text-decoration-color: #00af00\">128</span>)            │        <span style=\"color: #00af00; text-decoration-color: #00af00\">16,512</span> │\n",
              "├─────────────────────────────────┼────────────────────────┼───────────────┤\n",
              "│ dense_22 (<span style=\"color: #0087ff; text-decoration-color: #0087ff\">Dense</span>)                │ (<span style=\"color: #00d7ff; text-decoration-color: #00d7ff\">None</span>, <span style=\"color: #00af00; text-decoration-color: #00af00\">64</span>)             │         <span style=\"color: #00af00; text-decoration-color: #00af00\">8,256</span> │\n",
              "├─────────────────────────────────┼────────────────────────┼───────────────┤\n",
              "│ dense_23 (<span style=\"color: #0087ff; text-decoration-color: #0087ff\">Dense</span>)                │ (<span style=\"color: #00d7ff; text-decoration-color: #00d7ff\">None</span>, <span style=\"color: #00af00; text-decoration-color: #00af00\">64</span>)             │         <span style=\"color: #00af00; text-decoration-color: #00af00\">4,160</span> │\n",
              "├─────────────────────────────────┼────────────────────────┼───────────────┤\n",
              "│ dense_24 (<span style=\"color: #0087ff; text-decoration-color: #0087ff\">Dense</span>)                │ (<span style=\"color: #00d7ff; text-decoration-color: #00d7ff\">None</span>, <span style=\"color: #00af00; text-decoration-color: #00af00\">32</span>)             │         <span style=\"color: #00af00; text-decoration-color: #00af00\">2,080</span> │\n",
              "├─────────────────────────────────┼────────────────────────┼───────────────┤\n",
              "│ dense_25 (<span style=\"color: #0087ff; text-decoration-color: #0087ff\">Dense</span>)                │ (<span style=\"color: #00d7ff; text-decoration-color: #00d7ff\">None</span>, <span style=\"color: #00af00; text-decoration-color: #00af00\">16</span>)             │           <span style=\"color: #00af00; text-decoration-color: #00af00\">528</span> │\n",
              "├─────────────────────────────────┼────────────────────────┼───────────────┤\n",
              "│ dense_26 (<span style=\"color: #0087ff; text-decoration-color: #0087ff\">Dense</span>)                │ (<span style=\"color: #00d7ff; text-decoration-color: #00d7ff\">None</span>, <span style=\"color: #00af00; text-decoration-color: #00af00\">1</span>)              │            <span style=\"color: #00af00; text-decoration-color: #00af00\">17</span> │\n",
              "└─────────────────────────────────┴────────────────────────┴───────────────┘\n",
              "</pre>\n"
            ],
            "text/plain": [
              "┏━━━━━━━━━━━━━━━━━━━━━━━━━━━━━━━━━┳━━━━━━━━━━━━━━━━━━━━━━━━┳━━━━━━━━━━━━━━━┓\n",
              "┃\u001b[1m \u001b[0m\u001b[1mLayer (type)                   \u001b[0m\u001b[1m \u001b[0m┃\u001b[1m \u001b[0m\u001b[1mOutput Shape          \u001b[0m\u001b[1m \u001b[0m┃\u001b[1m \u001b[0m\u001b[1m      Param #\u001b[0m\u001b[1m \u001b[0m┃\n",
              "┡━━━━━━━━━━━━━━━━━━━━━━━━━━━━━━━━━╇━━━━━━━━━━━━━━━━━━━━━━━━╇━━━━━━━━━━━━━━━┩\n",
              "│ conv2d_13 (\u001b[38;5;33mConv2D\u001b[0m)              │ (\u001b[38;5;45mNone\u001b[0m, \u001b[38;5;34m126\u001b[0m, \u001b[38;5;34m126\u001b[0m, \u001b[38;5;34m64\u001b[0m)   │         \u001b[38;5;34m1,792\u001b[0m │\n",
              "├─────────────────────────────────┼────────────────────────┼───────────────┤\n",
              "│ max_pooling2d_4 (\u001b[38;5;33mMaxPooling2D\u001b[0m)  │ (\u001b[38;5;45mNone\u001b[0m, \u001b[38;5;34m63\u001b[0m, \u001b[38;5;34m63\u001b[0m, \u001b[38;5;34m64\u001b[0m)     │             \u001b[38;5;34m0\u001b[0m │\n",
              "├─────────────────────────────────┼────────────────────────┼───────────────┤\n",
              "│ conv2d_14 (\u001b[38;5;33mConv2D\u001b[0m)              │ (\u001b[38;5;45mNone\u001b[0m, \u001b[38;5;34m61\u001b[0m, \u001b[38;5;34m61\u001b[0m, \u001b[38;5;34m64\u001b[0m)     │        \u001b[38;5;34m36,928\u001b[0m │\n",
              "├─────────────────────────────────┼────────────────────────┼───────────────┤\n",
              "│ max_pooling2d_5 (\u001b[38;5;33mMaxPooling2D\u001b[0m)  │ (\u001b[38;5;45mNone\u001b[0m, \u001b[38;5;34m30\u001b[0m, \u001b[38;5;34m30\u001b[0m, \u001b[38;5;34m64\u001b[0m)     │             \u001b[38;5;34m0\u001b[0m │\n",
              "├─────────────────────────────────┼────────────────────────┼───────────────┤\n",
              "│ flatten_5 (\u001b[38;5;33mFlatten\u001b[0m)             │ (\u001b[38;5;45mNone\u001b[0m, \u001b[38;5;34m57600\u001b[0m)          │             \u001b[38;5;34m0\u001b[0m │\n",
              "├─────────────────────────────────┼────────────────────────┼───────────────┤\n",
              "│ dense_19 (\u001b[38;5;33mDense\u001b[0m)                │ (\u001b[38;5;45mNone\u001b[0m, \u001b[38;5;34m256\u001b[0m)            │    \u001b[38;5;34m14,745,856\u001b[0m │\n",
              "├─────────────────────────────────┼────────────────────────┼───────────────┤\n",
              "│ dense_20 (\u001b[38;5;33mDense\u001b[0m)                │ (\u001b[38;5;45mNone\u001b[0m, \u001b[38;5;34m128\u001b[0m)            │        \u001b[38;5;34m32,896\u001b[0m │\n",
              "├─────────────────────────────────┼────────────────────────┼───────────────┤\n",
              "│ dense_21 (\u001b[38;5;33mDense\u001b[0m)                │ (\u001b[38;5;45mNone\u001b[0m, \u001b[38;5;34m128\u001b[0m)            │        \u001b[38;5;34m16,512\u001b[0m │\n",
              "├─────────────────────────────────┼────────────────────────┼───────────────┤\n",
              "│ dense_22 (\u001b[38;5;33mDense\u001b[0m)                │ (\u001b[38;5;45mNone\u001b[0m, \u001b[38;5;34m64\u001b[0m)             │         \u001b[38;5;34m8,256\u001b[0m │\n",
              "├─────────────────────────────────┼────────────────────────┼───────────────┤\n",
              "│ dense_23 (\u001b[38;5;33mDense\u001b[0m)                │ (\u001b[38;5;45mNone\u001b[0m, \u001b[38;5;34m64\u001b[0m)             │         \u001b[38;5;34m4,160\u001b[0m │\n",
              "├─────────────────────────────────┼────────────────────────┼───────────────┤\n",
              "│ dense_24 (\u001b[38;5;33mDense\u001b[0m)                │ (\u001b[38;5;45mNone\u001b[0m, \u001b[38;5;34m32\u001b[0m)             │         \u001b[38;5;34m2,080\u001b[0m │\n",
              "├─────────────────────────────────┼────────────────────────┼───────────────┤\n",
              "│ dense_25 (\u001b[38;5;33mDense\u001b[0m)                │ (\u001b[38;5;45mNone\u001b[0m, \u001b[38;5;34m16\u001b[0m)             │           \u001b[38;5;34m528\u001b[0m │\n",
              "├─────────────────────────────────┼────────────────────────┼───────────────┤\n",
              "│ dense_26 (\u001b[38;5;33mDense\u001b[0m)                │ (\u001b[38;5;45mNone\u001b[0m, \u001b[38;5;34m1\u001b[0m)              │            \u001b[38;5;34m17\u001b[0m │\n",
              "└─────────────────────────────────┴────────────────────────┴───────────────┘\n"
            ]
          },
          "metadata": {},
          "output_type": "display_data"
        },
        {
          "data": {
            "text/html": [
              "<pre style=\"white-space:pre;overflow-x:auto;line-height:normal;font-family:Menlo,'DejaVu Sans Mono',consolas,'Courier New',monospace\"><span style=\"font-weight: bold\"> Total params: </span><span style=\"color: #00af00; text-decoration-color: #00af00\">14,849,027</span> (56.64 MB)\n",
              "</pre>\n"
            ],
            "text/plain": [
              "\u001b[1m Total params: \u001b[0m\u001b[38;5;34m14,849,027\u001b[0m (56.64 MB)\n"
            ]
          },
          "metadata": {},
          "output_type": "display_data"
        },
        {
          "data": {
            "text/html": [
              "<pre style=\"white-space:pre;overflow-x:auto;line-height:normal;font-family:Menlo,'DejaVu Sans Mono',consolas,'Courier New',monospace\"><span style=\"font-weight: bold\"> Trainable params: </span><span style=\"color: #00af00; text-decoration-color: #00af00\">14,849,025</span> (56.64 MB)\n",
              "</pre>\n"
            ],
            "text/plain": [
              "\u001b[1m Trainable params: \u001b[0m\u001b[38;5;34m14,849,025\u001b[0m (56.64 MB)\n"
            ]
          },
          "metadata": {},
          "output_type": "display_data"
        },
        {
          "data": {
            "text/html": [
              "<pre style=\"white-space:pre;overflow-x:auto;line-height:normal;font-family:Menlo,'DejaVu Sans Mono',consolas,'Courier New',monospace\"><span style=\"font-weight: bold\"> Non-trainable params: </span><span style=\"color: #00af00; text-decoration-color: #00af00\">0</span> (0.00 B)\n",
              "</pre>\n"
            ],
            "text/plain": [
              "\u001b[1m Non-trainable params: \u001b[0m\u001b[38;5;34m0\u001b[0m (0.00 B)\n"
            ]
          },
          "metadata": {},
          "output_type": "display_data"
        },
        {
          "data": {
            "text/html": [
              "<pre style=\"white-space:pre;overflow-x:auto;line-height:normal;font-family:Menlo,'DejaVu Sans Mono',consolas,'Courier New',monospace\"><span style=\"font-weight: bold\"> Optimizer params: </span><span style=\"color: #00af00; text-decoration-color: #00af00\">2</span> (12.00 B)\n",
              "</pre>\n"
            ],
            "text/plain": [
              "\u001b[1m Optimizer params: \u001b[0m\u001b[38;5;34m2\u001b[0m (12.00 B)\n"
            ]
          },
          "metadata": {},
          "output_type": "display_data"
        }
      ],
      "source": [
        "pneumonia_model.summary()"
      ]
    },
    {
      "cell_type": "code",
      "execution_count": null,
      "id": "5f91bd27-3391-429a-9fb5-51ebddef13c4",
      "metadata": {
        "id": "5f91bd27-3391-429a-9fb5-51ebddef13c4"
      },
      "outputs": [],
      "source": [
        "from tensorflow.keras.models import Model"
      ]
    },
    {
      "cell_type": "code",
      "execution_count": null,
      "id": "65bbf06b-61cd-4413-bc39-db68512ffa2b",
      "metadata": {
        "id": "65bbf06b-61cd-4413-bc39-db68512ffa2b"
      },
      "outputs": [],
      "source": [
        "import torch\n",
        "import torch.nn as nn\n",
        "from transformers import BertModel, BertTokenizer\n",
        "from PIL import Image\n",
        "from torchvision import transforms\n",
        "import torchvision.models as models"
      ]
    },
    {
      "cell_type": "code",
      "execution_count": null,
      "id": "27d78246-b8f0-4747-8244-238eecfb4f02",
      "metadata": {
        "id": "27d78246-b8f0-4747-8244-238eecfb4f02"
      },
      "outputs": [],
      "source": []
    },
    {
      "cell_type": "code",
      "execution_count": null,
      "id": "1db1f8bc-cdf1-457a-a964-1293cf6e6fcb",
      "metadata": {
        "id": "1db1f8bc-cdf1-457a-a964-1293cf6e6fcb"
      },
      "outputs": [],
      "source": [
        "val_image_path = 'C:/Users/ASUS/.cache/kagglehub/datasets/paultimothymooney/chest-xray-pneumonia/versions/2/chest_xray/val/PNEUMONIA/person1946_bacteria_4874.jpeg'\n",
        "\n",
        "# \"C:/Users/ASUS/.cache/kagglehub/datasets/paultimothymooney/chest-xray-pneumonia/versions/2/chest_xray/train\""
      ]
    },
    {
      "cell_type": "code",
      "execution_count": null,
      "id": "22bde1f2-81d7-4458-9adf-9ef04258f900",
      "metadata": {
        "id": "22bde1f2-81d7-4458-9adf-9ef04258f900",
        "outputId": "21bbdefe-10d1-4dbe-c059-b04c8abab812"
      },
      "outputs": [
        {
          "name": "stderr",
          "output_type": "stream",
          "text": [
            "C:\\Users\\ASUS\\anaconda3\\Lib\\site-packages\\transformers\\models\\vit\\feature_extraction_vit.py:28: FutureWarning: The class ViTFeatureExtractor is deprecated and will be removed in version 5 of Transformers. Please use ViTImageProcessor instead.\n",
            "  warnings.warn(\n"
          ]
        }
      ],
      "source": [
        "from transformers import ViTFeatureExtractor, ViTModel\n",
        "from PIL import Image\n",
        "import torch\n",
        "\n",
        "feature_extractor = ViTFeatureExtractor.from_pretrained('google/vit-base-patch16-224-in21k')\n",
        "vit_model = ViTModel.from_pretrained('google/vit-base-patch16-224-in21k')\n",
        "\n",
        "image = Image.open(val_image_path)\n",
        "\n",
        "if image.mode != \"RGB\":\n",
        "    image = image.convert(\"RGB\")\n",
        "\n",
        "inputs = feature_extractor(images=image, return_tensors=\"pt\")\n",
        "vit_features = vit_model(**inputs).last_hidden_state\n"
      ]
    },
    {
      "cell_type": "code",
      "execution_count": null,
      "id": "ab973c36-b829-44ec-88a3-decc82ed6a99",
      "metadata": {
        "id": "ab973c36-b829-44ec-88a3-decc82ed6a99"
      },
      "outputs": [],
      "source": [
        "from transformers import BertTokenizer, BertModel\n",
        "\n",
        "tokenizer = BertTokenizer.from_pretrained('bert-base-uncased')\n",
        "bert_model = BertModel.from_pretrained('bert-base-uncased')\n",
        "\n",
        "question_input = \"Does this patient have pneumonia?\"\n",
        "question_tokens = tokenizer(question_input, return_tensors=\"pt\", padding=True, truncation=True)\n",
        "question_features = bert_model(**question_tokens).last_hidden_state"
      ]
    },
    {
      "cell_type": "code",
      "execution_count": null,
      "id": "ad2a3d57-9e4d-458c-83c9-6c8139e6b07b",
      "metadata": {
        "id": "ad2a3d57-9e4d-458c-83c9-6c8139e6b07b",
        "outputId": "dda082e2-41e2-454c-83a2-b7c5166820a4"
      },
      "outputs": [
        {
          "name": "stdout",
          "output_type": "stream",
          "text": [
            "(1, 128, 128, 3)\n",
            "\u001b[1m1/1\u001b[0m \u001b[32m━━━━━━━━━━━━━━━━━━━━\u001b[0m\u001b[37m\u001b[0m \u001b[1m0s\u001b[0m 70ms/step\n",
            "[[[[-0.         -0.         -0.         ... -0.         -0.\n",
            "    -0.        ]\n",
            "   [-0.         -0.         -0.         ... -0.         -0.\n",
            "    -0.        ]\n",
            "   [-0.         -0.         -0.         ... -0.         -0.\n",
            "    -0.        ]\n",
            "   ...\n",
            "   [-0.         -0.         -0.         ... -0.         -0.\n",
            "    -0.        ]\n",
            "   [-0.         -0.         -0.         ... -0.         -0.\n",
            "    -0.        ]\n",
            "   [-0.         -0.         -0.         ... -0.         -0.\n",
            "    -0.        ]]\n",
            "\n",
            "  [[-0.         -0.         -0.         ... -0.         -0.\n",
            "    -0.        ]\n",
            "   [-0.         -0.         -0.         ... -0.         -0.\n",
            "    -0.        ]\n",
            "   [-0.         -0.         -0.         ... -0.         -0.\n",
            "    -0.        ]\n",
            "   ...\n",
            "   [-0.         -0.         -0.         ... -0.         -0.\n",
            "    -0.        ]\n",
            "   [-0.         -0.         -0.         ... -0.         -0.\n",
            "    -0.        ]\n",
            "   [-0.         -0.         -0.         ... -0.         -0.\n",
            "    -0.        ]]\n",
            "\n",
            "  [[-0.         -0.         -0.         ... -0.         -0.\n",
            "    -0.        ]\n",
            "   [-0.         -0.         -0.         ... -0.         -0.\n",
            "    -0.        ]\n",
            "   [-0.         -0.         -0.         ... -0.         -0.\n",
            "    -0.        ]\n",
            "   ...\n",
            "   [-0.         -0.         -0.         ... -0.         -0.\n",
            "    -0.        ]\n",
            "   [-0.         -0.         -0.         ... -0.         -0.\n",
            "    -0.        ]\n",
            "   [-0.         -0.         -0.         ... -0.         -0.\n",
            "    -0.        ]]\n",
            "\n",
            "  ...\n",
            "\n",
            "  [[-0.         -0.         -0.         ... -0.         -0.\n",
            "    -0.        ]\n",
            "   [-0.         -0.         -0.         ... -0.         -0.\n",
            "    -0.        ]\n",
            "   [-0.         -0.         -0.         ... -0.         -0.\n",
            "    -0.        ]\n",
            "   ...\n",
            "   [-0.          0.03731181 -0.         ... -0.          0.05489194\n",
            "    -0.        ]\n",
            "   [-0.         -0.         -0.         ... -0.         -0.\n",
            "    -0.        ]\n",
            "   [-0.         -0.         -0.         ... -0.         -0.\n",
            "    -0.        ]]\n",
            "\n",
            "  [[-0.         -0.         -0.         ... -0.         -0.\n",
            "    -0.        ]\n",
            "   [-0.         -0.         -0.         ... -0.         -0.\n",
            "    -0.        ]\n",
            "   [-0.         -0.         -0.         ... -0.         -0.\n",
            "    -0.        ]\n",
            "   ...\n",
            "   [-0.         -0.         -0.         ... -0.          0.15756379\n",
            "    -0.        ]\n",
            "   [-0.         -0.         -0.         ... -0.          0.00120503\n",
            "    -0.        ]\n",
            "   [-0.         -0.         -0.         ... -0.         -0.\n",
            "    -0.        ]]\n",
            "\n",
            "  [[-0.         -0.         -0.         ... -0.         -0.\n",
            "    -0.        ]\n",
            "   [-0.         -0.         -0.         ... -0.         -0.\n",
            "    -0.        ]\n",
            "   [-0.         -0.         -0.         ... -0.         -0.\n",
            "    -0.        ]\n",
            "   ...\n",
            "   [-0.         -0.         -0.         ... -0.         -0.\n",
            "    -0.        ]\n",
            "   [-0.         -0.         -0.         ... -0.         -0.\n",
            "    -0.        ]\n",
            "   [-0.         -0.         -0.         ... -0.         -0.\n",
            "    -0.        ]]]]\n"
          ]
        }
      ],
      "source": [
        "import tensorflow as tf\n",
        "from tensorflow.keras.models import Model\n",
        "import cv2\n",
        "import numpy as np\n",
        "\n",
        "# Assuming pneumonia_model is already loaded\n",
        "\n",
        "# Add an input layer\n",
        "input_tensor = tf.keras.Input(shape=(128, 128, 3))  # Adjust the shape accordingly\n",
        "\n",
        "# Add a dummy Conv2D layer to match the expected channels\n",
        "x = tf.keras.layers.Conv2D(3, (1, 1), padding='same')(input_tensor)\n",
        "\n",
        "# Create the intermediate layer model, using input_tensor\n",
        "intermediate_layer_model = Model(inputs=input_tensor,\n",
        "                                 outputs=pneumonia_model.get_layer('conv2d_13')(x))\n",
        "\n",
        "\n",
        "###extracting features from the CNN model we created\n",
        "from PIL import Image\n",
        "val_image_path = 'C:/Users/ASUS/.cache/kagglehub/datasets/paultimothymooney/chest-xray-pneumonia/versions/2/chest_xray/val/PNEUMONIA/person1946_bacteria_4874.jpeg'\n",
        "# image = Image.open(val_image_path)\n",
        "resized_image = []\n",
        "predict_data = []\n",
        "image = cv2.imread(val_image_path)\n",
        "if image is not None:\n",
        "            resize = cv2.resize(image, (128, 128))\n",
        "            resized_image.append(resize)\n",
        "resized_image = np.array(resized_image)\n",
        "print(resized_image.shape)\n",
        "# print(model_NN.predict(resized_image))\n",
        "\n",
        "pneumonia_features = intermediate_layer_model.predict(resized_image)\n",
        "print(pneumonia_features)\n"
      ]
    },
    {
      "cell_type": "code",
      "execution_count": null,
      "id": "c8227b71-651b-4770-ab53-d323debca42e",
      "metadata": {
        "id": "c8227b71-651b-4770-ab53-d323debca42e"
      },
      "outputs": [],
      "source": [
        "import torch.nn as nn\n",
        "import torch\n",
        "\n",
        "# ... (Your previous code to extract pneumonia_features) ...\n",
        "\n",
        "# Reshape features for concatenation\n",
        "vit_features_flat = vit_features.view(vit_features.size(0), -1)\n",
        "question_features_flat = question_features.view(question_features.size(0), -1)\n",
        "\n",
        "# Assuming pneumonia_features is a NumPy array, convert to PyTorch tensor\n",
        "pneumonia_features_tensor = torch.from_numpy(pneumonia_features.reshape(pneumonia_features.shape[0], -1)).type(torch.float32)\n",
        "# Ensure data type matches other features (e.g., float32)\n",
        "\n",
        "# Concatenate features\n",
        "combined_features = torch.cat((vit_features_flat, question_features_flat, pneumonia_features_tensor), dim=1)\n"
      ]
    },
    {
      "cell_type": "code",
      "execution_count": null,
      "id": "047366d4-cb83-4fa1-a29d-be889fc66f0b",
      "metadata": {
        "id": "047366d4-cb83-4fa1-a29d-be889fc66f0b",
        "outputId": "bc973061-3070-425d-93c0-ac6dc7265fbf"
      },
      "outputs": [
        {
          "data": {
            "text/plain": [
              "tensor([[ 0.0675,  0.0426, -0.1701,  ..., -0.0000, -0.0000, -0.0000]],\n",
              "       grad_fn=<CatBackward0>)"
            ]
          },
          "execution_count": 605,
          "metadata": {},
          "output_type": "execute_result"
        }
      ],
      "source": [
        "combined_features"
      ]
    },
    {
      "cell_type": "code",
      "execution_count": null,
      "id": "e5f924c2-df4f-42ce-b67e-2f8e4c15b0cc",
      "metadata": {
        "id": "e5f924c2-df4f-42ce-b67e-2f8e4c15b0cc",
        "outputId": "7fb251a4-e4cf-4e16-e42b-ed7079277b1b"
      },
      "outputs": [
        {
          "name": "stdout",
          "output_type": "stream",
          "text": [
            "VQA Output: Pneumonia\n"
          ]
        }
      ],
      "source": [
        "fc1 = nn.Linear(combined_features.size(1), 128)\n",
        "fc2 = nn.Linear(128, 2)\n",
        "\n",
        "x = fc1(combined_features)\n",
        "x = torch.relu(x)\n",
        "output = fc2(x)\n",
        "\n",
        "_, predicted_class = torch.max(output, dim=1)\n",
        "answer = \"Pneumonia\" if predicted_class.item() == 1 else \"Normal\"\n",
        "print(\"VQA Output:\", answer)"
      ]
    },
    {
      "cell_type": "code",
      "execution_count": null,
      "id": "49a82b95-6b58-4e2b-abfd-215268b184c1",
      "metadata": {
        "id": "49a82b95-6b58-4e2b-abfd-215268b184c1",
        "outputId": "a8b4fa85-3a61-48ba-b99e-29baba8b7667"
      },
      "outputs": [
        {
          "name": "stdout",
          "output_type": "stream",
          "text": [
            "Optimal Threshold: 0.268069326877594\n"
          ]
        }
      ],
      "source": [
        "from sklearn.metrics import precision_recall_curve, f1_score\n",
        "\n",
        "# ... (Your existing code for model training and prediction) ...\n",
        "\n",
        "# Calculate precision, recall, and thresholds\n",
        "precision, recall, thresholds = precision_recall_curve(y_test_nn, y_pred_nn)\n",
        "\n",
        "# Calculate F1-score for each threshold\n",
        "f1_scores = (2 * precision * recall) / (precision + recall)\n",
        "\n",
        "# Find the threshold with the maximum F1-score\n",
        "optimal_threshold = thresholds[np.argmax(f1_scores)]\n",
        "\n",
        "print(f\"Optimal Threshold: {optimal_threshold}\")\n",
        "\n",
        "# Update y_pred_binary with the optimal threshold\n",
        "y_pred_binary = (y_pred_nn > optimal_threshold).astype(int)\n"
      ]
    },
    {
      "cell_type": "code",
      "execution_count": null,
      "id": "3b9cd949-ee5a-45a7-8cbb-ed22a66b04b5",
      "metadata": {
        "id": "3b9cd949-ee5a-45a7-8cbb-ed22a66b04b5",
        "outputId": "9800a70e-4779-4f68-bddc-ef9cb7af2224"
      },
      "outputs": [
        {
          "data": {
            "text/plain": [
              "{'accuracy': [0.9696415066719055,\n",
              "  0.9716653823852539,\n",
              "  0.9714726209640503,\n",
              "  0.9800500869750977,\n",
              "  0.9702197313308716],\n",
              " 'loss': [0.12051515281200409,\n",
              "  0.17203614115715027,\n",
              "  0.09219667315483093,\n",
              "  0.06436812877655029,\n",
              "  0.17284300923347473]}"
            ]
          },
          "execution_count": 633,
          "metadata": {},
          "output_type": "execute_result"
        }
      ],
      "source": [
        "history.history"
      ]
    },
    {
      "cell_type": "code",
      "execution_count": null,
      "id": "90c9edbf-caf7-455e-91d2-a73002095b90",
      "metadata": {
        "id": "90c9edbf-caf7-455e-91d2-a73002095b90",
        "outputId": "0e99008f-8b71-4898-aba7-835d431c2ab4"
      },
      "outputs": [
        {
          "name": "stdout",
          "output_type": "stream",
          "text": [
            "Epoch 1/5\n",
            "\u001b[1m2594/2594\u001b[0m \u001b[32m━━━━━━━━━━━━━━━━━━━━\u001b[0m\u001b[37m\u001b[0m \u001b[1m438s\u001b[0m 169ms/step - accuracy: 0.9826 - loss: 0.0592 - val_accuracy: 0.9631 - val_loss: 0.2150\n",
            "Epoch 2/5\n",
            "\u001b[1m2594/2594\u001b[0m \u001b[32m━━━━━━━━━━━━━━━━━━━━\u001b[0m\u001b[37m\u001b[0m \u001b[1m429s\u001b[0m 165ms/step - accuracy: 0.9806 - loss: 0.0836 - val_accuracy: 0.9658 - val_loss: 0.1053\n",
            "Epoch 3/5\n",
            "\u001b[1m2594/2594\u001b[0m \u001b[32m━━━━━━━━━━━━━━━━━━━━\u001b[0m\u001b[37m\u001b[0m \u001b[1m430s\u001b[0m 166ms/step - accuracy: 0.9818 - loss: 0.0621 - val_accuracy: 0.9755 - val_loss: 0.1126\n",
            "Epoch 4/5\n",
            "\u001b[1m2594/2594\u001b[0m \u001b[32m━━━━━━━━━━━━━━━━━━━━\u001b[0m\u001b[37m\u001b[0m \u001b[1m430s\u001b[0m 166ms/step - accuracy: 0.9243 - loss: 0.1911 - val_accuracy: 0.7311 - val_loss: 0.5822\n",
            "Epoch 5/5\n",
            "\u001b[1m2594/2594\u001b[0m \u001b[32m━━━━━━━━━━━━━━━━━━━━\u001b[0m\u001b[37m\u001b[0m \u001b[1m432s\u001b[0m 166ms/step - accuracy: 0.7335 - loss: 0.5831 - val_accuracy: 0.7311 - val_loss: 0.5821\n"
          ]
        }
      ],
      "source": [
        "history = model_NN.fit(X_train_nn, y_train_nn, epochs=5, batch_size=4, validation_data=(X_test_nn, y_test_nn))\n"
      ]
    },
    {
      "cell_type": "code",
      "execution_count": null,
      "id": "dfb9a973-9286-4a9d-b8ac-33f9eb14ffdf",
      "metadata": {
        "id": "dfb9a973-9286-4a9d-b8ac-33f9eb14ffdf",
        "outputId": "97c3dc2f-cd24-4008-ea20-8dcba74a4071"
      },
      "outputs": [
        {
          "data": {
            "text/html": [
              "<div>\n",
              "<style scoped>\n",
              "    .dataframe tbody tr th:only-of-type {\n",
              "        vertical-align: middle;\n",
              "    }\n",
              "\n",
              "    .dataframe tbody tr th {\n",
              "        vertical-align: top;\n",
              "    }\n",
              "\n",
              "    .dataframe thead th {\n",
              "        text-align: right;\n",
              "    }\n",
              "</style>\n",
              "<table border=\"1\" class=\"dataframe\">\n",
              "  <thead>\n",
              "    <tr style=\"text-align: right;\">\n",
              "      <th></th>\n",
              "      <th>epoch</th>\n",
              "      <th>accuracy</th>\n",
              "      <th>val_accuracy</th>\n",
              "      <th>loss</th>\n",
              "      <th>val_loss</th>\n",
              "    </tr>\n",
              "  </thead>\n",
              "  <tbody>\n",
              "    <tr>\n",
              "      <th>0</th>\n",
              "      <td>1</td>\n",
              "      <td>0.918851</td>\n",
              "      <td>0.943570</td>\n",
              "      <td>0.325985</td>\n",
              "      <td>0.131299</td>\n",
              "    </tr>\n",
              "    <tr>\n",
              "      <th>1</th>\n",
              "      <td>2</td>\n",
              "      <td>0.942367</td>\n",
              "      <td>0.940647</td>\n",
              "      <td>0.159582</td>\n",
              "      <td>0.162844</td>\n",
              "    </tr>\n",
              "    <tr>\n",
              "      <th>2</th>\n",
              "      <td>3</td>\n",
              "      <td>0.949113</td>\n",
              "      <td>0.950315</td>\n",
              "      <td>0.136396</td>\n",
              "      <td>0.153460</td>\n",
              "    </tr>\n",
              "    <tr>\n",
              "      <th>3</th>\n",
              "      <td>4</td>\n",
              "      <td>0.953739</td>\n",
              "      <td>0.958183</td>\n",
              "      <td>0.121393</td>\n",
              "      <td>0.135944</td>\n",
              "    </tr>\n",
              "    <tr>\n",
              "      <th>4</th>\n",
              "      <td>5</td>\n",
              "      <td>0.961257</td>\n",
              "      <td>0.961106</td>\n",
              "      <td>0.108615</td>\n",
              "      <td>0.159134</td>\n",
              "    </tr>\n",
              "  </tbody>\n",
              "</table>\n",
              "</div>"
            ],
            "text/plain": [
              "   epoch  accuracy  val_accuracy      loss  val_loss\n",
              "0      1  0.918851      0.943570  0.325985  0.131299\n",
              "1      2  0.942367      0.940647  0.159582  0.162844\n",
              "2      3  0.949113      0.950315  0.136396  0.153460\n",
              "3      4  0.953739      0.958183  0.121393  0.135944\n",
              "4      5  0.961257      0.961106  0.108615  0.159134"
            ]
          },
          "metadata": {},
          "output_type": "display_data"
        }
      ],
      "source": [
        "import pandas as pd\n",
        "\n",
        "# Create a DataFrame from the history\n",
        "df = pd.DataFrame(history.history)\n",
        "\n",
        "# Add the epoch column\n",
        "df['epoch'] = df.index + 1\n",
        "\n",
        "# Select and reorder columns\n",
        "df = df[['epoch', 'accuracy', 'val_accuracy', 'loss', 'val_loss']]\n",
        "\n",
        "# Display the table\n",
        "display(df)"
      ]
    },
    {
      "cell_type": "code",
      "execution_count": null,
      "id": "2045b6ac-b4fd-40a3-b875-84631d44721b",
      "metadata": {
        "id": "2045b6ac-b4fd-40a3-b875-84631d44721b",
        "outputId": "f9850a9f-72af-427c-ae2b-e27b0ac03c4c"
      },
      "outputs": [
        {
          "name": "stdout",
          "output_type": "stream",
          "text": [
            "\u001b[1m139/139\u001b[0m \u001b[32m━━━━━━━━━━━━━━━━━━━━\u001b[0m\u001b[37m\u001b[0m \u001b[1m11s\u001b[0m 78ms/step\n",
            "[[3151  101]\n",
            " [  72 1124]]\n"
          ]
        },
        {
          "data": {
            "image/png": "[encoded data removed]",
            "text/plain": [
              "<Figure size 640x480 with 2 Axes>"
            ]
          },
          "metadata": {},
          "output_type": "display_data"
        }
      ],
      "source": [
        "from sklearn.metrics import confusion_matrix\n",
        "\n",
        "# 1. Make predictions on the test set\n",
        "y_pred_nn = model_NN.predict(X_test_nn)\n",
        "\n",
        "# 2. Convert predictions to binary (0 or 1)\n",
        "y_pred_binary = (y_pred_nn > 0.5).astype(int)  # Adjust threshold if needed\n",
        "\n",
        "# 3. Calculate the confusion matrix\n",
        "cm = confusion_matrix(y_test_nn, y_pred_binary)\n",
        "\n",
        "# 4. Print the confusion matrix\n",
        "print(cm)\n",
        "\n",
        "\n",
        "import seaborn as sns\n",
        "import matplotlib.pyplot as plt\n",
        "\n",
        "sns.heatmap(cm, annot=True, fmt='d', cmap='Blues')\n",
        "plt.xlabel('Predicted')\n",
        "plt.ylabel('True')\n",
        "plt.title('Confusion Matrix')\n",
        "plt.show()\n"
      ]
    },
    {
      "cell_type": "code",
      "execution_count": null,
      "id": "c442f4f9-24ba-4e32-855f-054795c05dcb",
      "metadata": {
        "colab": {
          "base_uri": "https://localhost:8080/",
          "height": 211
        },
        "id": "c442f4f9-24ba-4e32-855f-054795c05dcb",
        "outputId": "32cecd8d-b9b2-4b31-a868-31eed200fac9"
      },
      "outputs": [
        {
          "output_type": "error",
          "ename": "NameError",
          "evalue": "name 'model_NN' is not defined",
          "traceback": [
            "\u001b[0;31m---------------------------------------------------------------------------\u001b[0m",
            "\u001b[0;31mNameError\u001b[0m                                 Traceback (most recent call last)",
            "\u001b[0;32m<ipython-input-1-79ee00f4ac11>\u001b[0m in \u001b[0;36m<cell line: 7>\u001b[0;34m()\u001b[0m\n\u001b[1;32m      5\u001b[0m \u001b[0;34m\u001b[0m\u001b[0m\n\u001b[1;32m      6\u001b[0m \u001b[0;31m# 1. Make predictions on the test set\u001b[0m\u001b[0;34m\u001b[0m\u001b[0;34m\u001b[0m\u001b[0m\n\u001b[0;32m----> 7\u001b[0;31m \u001b[0my_pred_nn\u001b[0m \u001b[0;34m=\u001b[0m \u001b[0mmodel_NN\u001b[0m\u001b[0;34m.\u001b[0m\u001b[0mpredict\u001b[0m\u001b[0;34m(\u001b[0m\u001b[0mX_test_nn\u001b[0m\u001b[0;34m)\u001b[0m\u001b[0;34m\u001b[0m\u001b[0;34m\u001b[0m\u001b[0m\n\u001b[0m\u001b[1;32m      8\u001b[0m \u001b[0;34m\u001b[0m\u001b[0m\n\u001b[1;32m      9\u001b[0m \u001b[0;31m# 2. Convert predictions to binary (0 or 1)\u001b[0m\u001b[0;34m\u001b[0m\u001b[0;34m\u001b[0m\u001b[0m\n",
            "\u001b[0;31mNameError\u001b[0m: name 'model_NN' is not defined"
          ]
        }
      ],
      "source": [
        "import pandas as pd\n",
        "from sklearn.metrics import confusion_matrix\n",
        "\n",
        "# Assuming you have already trained your model (model_NN) and have X_test_nn and y_test_nn\n",
        "\n",
        "# 1. Make predictions on the test set\n",
        "y_pred_nn = model_NN.predict(X_test_nn)\n",
        "\n",
        "# 2. Convert predictions to binary (0 or 1)\n",
        "y_pred_binary = (y_pred_nn > 0.5).astype(int)  # Adjust threshold if needed\n",
        "\n",
        "# 3. Calculate the confusion matrix\n",
        "cm = confusion_matrix(y_test_nn, y_pred_binary)\n",
        "\n",
        "# 4. Create a Pandas DataFrame for the confusion matrix\n",
        "cm_df = pd.DataFrame(cm, index=['Actual Normal', 'Actual Pneumonia'],\n",
        "                     columns=['Predicted Normal', 'Predicted Pneumonia'])\n",
        "\n",
        "# 5. Display the table\n",
        "display(cm_df)"
      ]
    },
    {
      "cell_type": "code",
      "source": [],
      "metadata": {
        "id": "7Txw57pb_w2r"
      },
      "id": "7Txw57pb_w2r",
      "execution_count": null,
      "outputs": []
    }
  ],
  "metadata": {
    "accelerator": "GPU",
    "colab": {
      "gpuType": "T4",
      "provenance": [],
      "include_colab_link": true
    },
    "kernelspec": {
      "display_name": "Python 3 (ipykernel)",
      "language": "python",
      "name": "python3"
    },
    "language_info": {
      "codemirror_mode": {
        "name": "ipython",
        "version": 3
      },
      "file_extension": ".py",
      "mimetype": "text/x-python",
      "name": "python",
      "nbconvert_exporter": "python",
      "pygments_lexer": "ipython3",
      "version": "3.12.7"
    }
  },
  "nbformat": 4,
  "nbformat_minor": 5
}